{
 "cells": [
  {
   "cell_type": "code",
   "execution_count": 1,
   "id": "de2eeefc-c713-4861-88a5-d8fb109313f4",
   "metadata": {
    "tags": []
   },
   "outputs": [],
   "source": [
    "from utils.spark_utils import get_spatial_spark_session"
   ]
  },
  {
   "cell_type": "code",
   "execution_count": 5,
   "id": "f5b70a45-6bfb-42d3-a56f-3fea82bcd3f7",
   "metadata": {
    "tags": []
   },
   "outputs": [],
   "source": [
    "# spark = get_spatial_spark_session()\n",
    "CENS_STAGING_PATH = \"/mnt/c/wsl_transfers/cens_staging\""
   ]
  },
  {
   "cell_type": "code",
   "execution_count": 10,
   "id": "97df7e50-1345-492f-86e1-ccc7ddb5cf70",
   "metadata": {
    "tags": []
   },
   "outputs": [
    {
     "name": "stdout",
     "output_type": "stream",
     "text": [
      "Enabling notebook extension hinterland/hinterland...\n",
      "      - Validating: \u001b[32mOK\u001b[0m\n"
     ]
    }
   ],
   "source": [
    "# !pip install jupyter_contrib_nbextensions\n",
    "# !jupyter contrib nbextension install --user\n",
    "!jupyter nbextension enable hinterland/hinterland"
   ]
  },
  {
   "cell_type": "markdown",
   "id": "5d423c1e-50c4-4551-9ff5-d3a43aedec7d",
   "metadata": {
    "tags": []
   },
   "source": [
    "## Creating ETL for postcode poly, to write into new lad partitions; "
   ]
  },
  {
   "cell_type": "code",
   "execution_count": 44,
   "id": "0a35f889-4885-483d-be37-250cfd0c68c9",
   "metadata": {
    "tags": []
   },
   "outputs": [],
   "source": [
    "import duckdb\n",
    "from utils.dbutils import sdf_df_from_query"
   ]
  },
  {
   "cell_type": "code",
   "execution_count": 59,
   "id": "123a3e76-1456-4b3b-bb83-9fdddd162080",
   "metadata": {
    "tags": []
   },
   "outputs": [],
   "source": [
    "con = duckdb.connect(\"/home/basal/live_datasets/processed/cens.db\", read_only = True)\n",
    "pc_mapping_pldf = con.execute(\"select pcd, ltla22cd as lad_cd, oa21cd as oa_cd from pc_to_oa_mapping\").pl()\n",
    "con.close()"
   ]
  },
  {
   "cell_type": "code",
   "execution_count": 82,
   "id": "68a0ee12-410e-45ab-9bfd-df06860f7943",
   "metadata": {
    "tags": []
   },
   "outputs": [],
   "source": [
    "pc_mapping_pldf_pdf = pc_mapping_pldf.select([\n",
    "    pl.col('pcd').str.to_lowercase()\\\n",
    "        .str.replace_all(r\"[&,-,(,),:,']\", '')\\\n",
    "        .str.replace_all(r'\\s', '').alias(\"area_cd\"),\n",
    "    pl.col('lad_cd'),\n",
    "    pl.col('oa_cd')\n",
    "]).to_pandas()"
   ]
  },
  {
   "cell_type": "code",
   "execution_count": 90,
   "id": "7c06f7d4-cb0b-4472-812f-7d2635a2c240",
   "metadata": {
    "tags": []
   },
   "outputs": [
    {
     "name": "stdout",
     "output_type": "stream",
     "text": [
      "<class 'pandas.core.frame.DataFrame'>\n",
      "RangeIndex: 2352552 entries, 0 to 2352551\n",
      "Data columns (total 3 columns):\n",
      " #   Column   Dtype \n",
      "---  ------   ----- \n",
      " 0   area_cd  object\n",
      " 1   lad_cd   object\n",
      " 2   oa_cd    object\n",
      "dtypes: object(3)\n",
      "memory usage: 53.8+ MB\n"
     ]
    }
   ],
   "source": [
    "pc_mapping_pldf_pdf.info()"
   ]
  },
  {
   "cell_type": "code",
   "execution_count": 83,
   "id": "f86f5b5f-1fc4-4dfb-a66c-c76416b7a322",
   "metadata": {
    "tags": []
   },
   "outputs": [
    {
     "name": "stderr",
     "output_type": "stream",
     "text": [
      "/home/basal/envs/dbc1/lib/python3.8/site-packages/pyspark/sql/pandas/conversion.py:604: FutureWarning: iteritems is deprecated and will be removed in a future version. Use .items instead.\n",
      "  [(c, t) for (_, c), t in zip(pdf_slice.iteritems(), arrow_types)]\n"
     ]
    }
   ],
   "source": [
    "pc_mapping_sdf = spark.createDataFrame(pc_mapping_pldf_pdf)"
   ]
  },
  {
   "cell_type": "code",
   "execution_count": 85,
   "id": "4adce51c-ccab-4c3d-a658-ec913b14f527",
   "metadata": {
    "tags": []
   },
   "outputs": [],
   "source": [
    "pc_poly = spark.read.parquet(f\"/mnt/c/Users/lohith/Downloads/OS_data_sets/processed/postcode_polygons\").selectExpr(\n",
    "        \"lower(postcode) as area_cd\",\n",
    "        \"ST_FlipCoordinates(postcode_poly_4326) as poly_4326_fc\"\n",
    "    )"
   ]
  },
  {
   "cell_type": "code",
   "execution_count": 86,
   "id": "b4a4082c-3fa2-4369-b6d5-626b071db173",
   "metadata": {
    "tags": []
   },
   "outputs": [
    {
     "data": {
      "text/plain": [
       "(DataFrame[area_cd: string, lad_cd: string, oa_cd: string],\n",
       " DataFrame[area_cd: string, poly_4326_fc: udt])"
      ]
     },
     "execution_count": 86,
     "metadata": {},
     "output_type": "execute_result"
    }
   ],
   "source": [
    "pc_mapping_sdf, pc_poly"
   ]
  },
  {
   "cell_type": "markdown",
   "id": "3c7cfe06-97c7-4fab-8da0-b8b6a4a7e6be",
   "metadata": {
    "tags": []
   },
   "source": [
    "## Create GPD"
   ]
  },
  {
   "cell_type": "code",
   "execution_count": 2,
   "id": "cd2c5130-f1bb-4bc4-8732-418f0c1efc2e",
   "metadata": {
    "tags": []
   },
   "outputs": [],
   "source": [
    "import glob\n",
    "import os \n",
    "import geopandas as gpd\n",
    "CENS_STAGING_PATH = \"/mnt/c/wsl_transfers/cens_staging\"\n",
    "\n",
    "file_list = glob.glob(f\"{CENS_STAGING_PATH}/geo_parquets/pc/*\")\n"
   ]
  },
  {
   "cell_type": "code",
   "execution_count": 7,
   "id": "a7a38ed9-7a75-4061-8013-1b681d03c6c4",
   "metadata": {
    "tags": []
   },
   "outputs": [],
   "source": [
    "pc_gpd = gpd.GeoDataFrame(pd.concat(pc_gpd_all, ignore_index=False) )"
   ]
  },
  {
   "cell_type": "code",
   "execution_count": 8,
   "id": "f6f1e974-44b4-4471-97f5-1391a9c10f63",
   "metadata": {
    "tags": []
   },
   "outputs": [
    {
     "data": {
      "text/html": [
       "<div>\n",
       "<style scoped>\n",
       "    .dataframe tbody tr th:only-of-type {\n",
       "        vertical-align: middle;\n",
       "    }\n",
       "\n",
       "    .dataframe tbody tr th {\n",
       "        vertical-align: top;\n",
       "    }\n",
       "\n",
       "    .dataframe thead th {\n",
       "        text-align: right;\n",
       "    }\n",
       "</style>\n",
       "<table border=\"1\" class=\"dataframe\">\n",
       "  <thead>\n",
       "    <tr style=\"text-align: right;\">\n",
       "      <th></th>\n",
       "      <th>poly_4326_fc</th>\n",
       "    </tr>\n",
       "    <tr>\n",
       "      <th>area_cd</th>\n",
       "      <th></th>\n",
       "    </tr>\n",
       "  </thead>\n",
       "  <tbody>\n",
       "    <tr>\n",
       "      <th>ts225fz</th>\n",
       "      <td>POLYGON ((-1.33952 54.64778, -1.33950 54.64778...</td>\n",
       "    </tr>\n",
       "    <tr>\n",
       "      <th>ts225gh</th>\n",
       "      <td>POLYGON ((-1.35373 54.63985, -1.35406 54.63985...</td>\n",
       "    </tr>\n",
       "    <tr>\n",
       "      <th>ts225gt</th>\n",
       "      <td>POLYGON ((-1.34697 54.64573, -1.34677 54.64579...</td>\n",
       "    </tr>\n",
       "    <tr>\n",
       "      <th>ts225gt</th>\n",
       "      <td>POLYGON ((-1.34218 54.64627, -1.34218 54.64627...</td>\n",
       "    </tr>\n",
       "    <tr>\n",
       "      <th>ts225gu</th>\n",
       "      <td>POLYGON ((-1.34317 54.64570, -1.34319 54.64570...</td>\n",
       "    </tr>\n",
       "    <tr>\n",
       "      <th>...</th>\n",
       "      <td>...</td>\n",
       "    </tr>\n",
       "    <tr>\n",
       "      <th>cf484td</th>\n",
       "      <td>POLYGON ((-3.33459 51.67914, -3.33444 51.67917...</td>\n",
       "    </tr>\n",
       "    <tr>\n",
       "      <th>cf484tf</th>\n",
       "      <td>POLYGON ((-3.34781 51.69711, -3.34784 51.69711...</td>\n",
       "    </tr>\n",
       "    <tr>\n",
       "      <th>cf484tj</th>\n",
       "      <td>POLYGON ((-3.34731 51.70116, -3.34726 51.70146...</td>\n",
       "    </tr>\n",
       "    <tr>\n",
       "      <th>cf484tp</th>\n",
       "      <td>POLYGON ((-3.35208 51.71537, -3.35203 51.71532...</td>\n",
       "    </tr>\n",
       "    <tr>\n",
       "      <th>cf484ub</th>\n",
       "      <td>POLYGON ((-3.36080 51.72380, -3.36091 51.72390...</td>\n",
       "    </tr>\n",
       "  </tbody>\n",
       "</table>\n",
       "<p>1681351 rows × 1 columns</p>\n",
       "</div>"
      ],
      "text/plain": [
       "                                              poly_4326_fc\n",
       "area_cd                                                   \n",
       "ts225fz  POLYGON ((-1.33952 54.64778, -1.33950 54.64778...\n",
       "ts225gh  POLYGON ((-1.35373 54.63985, -1.35406 54.63985...\n",
       "ts225gt  POLYGON ((-1.34697 54.64573, -1.34677 54.64579...\n",
       "ts225gt  POLYGON ((-1.34218 54.64627, -1.34218 54.64627...\n",
       "ts225gu  POLYGON ((-1.34317 54.64570, -1.34319 54.64570...\n",
       "...                                                    ...\n",
       "cf484td  POLYGON ((-3.33459 51.67914, -3.33444 51.67917...\n",
       "cf484tf  POLYGON ((-3.34781 51.69711, -3.34784 51.69711...\n",
       "cf484tj  POLYGON ((-3.34731 51.70116, -3.34726 51.70146...\n",
       "cf484tp  POLYGON ((-3.35208 51.71537, -3.35203 51.71532...\n",
       "cf484ub  POLYGON ((-3.36080 51.72380, -3.36091 51.72390...\n",
       "\n",
       "[1681351 rows x 1 columns]"
      ]
     },
     "execution_count": 8,
     "metadata": {},
     "output_type": "execute_result"
    }
   ],
   "source": [
    "pc_gpd"
   ]
  },
  {
   "cell_type": "code",
   "execution_count": 9,
   "id": "4d12ad01-f167-4579-874d-6479823896ff",
   "metadata": {
    "tags": []
   },
   "outputs": [],
   "source": [
    "# %%timeit\n",
    "points_series = gpd.read_parquet('/mnt/c/wsl_transfers/cens_staging/gpd_parquets/pc/E06000002.parquet')[:400]['poly_4326_fc'].centroid\n",
    "points_df = gpd.GeoDataFrame(geometry=gpd.GeoSeries(points_series))"
   ]
  },
  {
   "cell_type": "code",
   "execution_count": 10,
   "id": "4fabe33a-ed70-4bca-a136-93eff0819e82",
   "metadata": {
    "tags": []
   },
   "outputs": [
    {
     "data": {
      "text/html": [
       "<div>\n",
       "<style scoped>\n",
       "    .dataframe tbody tr th:only-of-type {\n",
       "        vertical-align: middle;\n",
       "    }\n",
       "\n",
       "    .dataframe tbody tr th {\n",
       "        vertical-align: top;\n",
       "    }\n",
       "\n",
       "    .dataframe thead th {\n",
       "        text-align: right;\n",
       "    }\n",
       "</style>\n",
       "<table border=\"1\" class=\"dataframe\">\n",
       "  <thead>\n",
       "    <tr style=\"text-align: right;\">\n",
       "      <th></th>\n",
       "      <th>index_left</th>\n",
       "      <th>geometry</th>\n",
       "    </tr>\n",
       "    <tr>\n",
       "      <th>area_cd</th>\n",
       "      <th></th>\n",
       "      <th></th>\n",
       "    </tr>\n",
       "  </thead>\n",
       "  <tbody>\n",
       "    <tr>\n",
       "      <th>ts11aa</th>\n",
       "      <td>ts11aa</td>\n",
       "      <td>POINT (-1.24487 54.57578)</td>\n",
       "    </tr>\n",
       "    <tr>\n",
       "      <th>ts11af</th>\n",
       "      <td>ts11su</td>\n",
       "      <td>POINT (-1.24018 54.57745)</td>\n",
       "    </tr>\n",
       "    <tr>\n",
       "      <th>ts11jh</th>\n",
       "      <td>ts11jh</td>\n",
       "      <td>POINT (-1.23192 54.57655)</td>\n",
       "    </tr>\n",
       "    <tr>\n",
       "      <th>ts11jt</th>\n",
       "      <td>ts11jt</td>\n",
       "      <td>POINT (-1.23355 54.57688)</td>\n",
       "    </tr>\n",
       "    <tr>\n",
       "      <th>ts11le</th>\n",
       "      <td>ts11le</td>\n",
       "      <td>POINT (-1.23814 54.57665)</td>\n",
       "    </tr>\n",
       "    <tr>\n",
       "      <th>...</th>\n",
       "      <td>...</td>\n",
       "      <td>...</td>\n",
       "    </tr>\n",
       "    <tr>\n",
       "      <th>ts39es</th>\n",
       "      <td>ts39es</td>\n",
       "      <td>POINT (-1.18295 54.56740)</td>\n",
       "    </tr>\n",
       "    <tr>\n",
       "      <th>ts39ex</th>\n",
       "      <td>ts39ex</td>\n",
       "      <td>POINT (-1.18965 54.56442)</td>\n",
       "    </tr>\n",
       "    <tr>\n",
       "      <th>ts39ex</th>\n",
       "      <td>ts39ex</td>\n",
       "      <td>POINT (-1.18832 54.56455)</td>\n",
       "    </tr>\n",
       "    <tr>\n",
       "      <th>ts39he</th>\n",
       "      <td>ts39he</td>\n",
       "      <td>POINT (-1.17768 54.56610)</td>\n",
       "    </tr>\n",
       "    <tr>\n",
       "      <th>ts39hn</th>\n",
       "      <td>ts39hn</td>\n",
       "      <td>POINT (-1.18085 54.56509)</td>\n",
       "    </tr>\n",
       "  </tbody>\n",
       "</table>\n",
       "<p>400 rows × 2 columns</p>\n",
       "</div>"
      ],
      "text/plain": [
       "        index_left                   geometry\n",
       "area_cd                                      \n",
       "ts11aa      ts11aa  POINT (-1.24487 54.57578)\n",
       "ts11af      ts11su  POINT (-1.24018 54.57745)\n",
       "ts11jh      ts11jh  POINT (-1.23192 54.57655)\n",
       "ts11jt      ts11jt  POINT (-1.23355 54.57688)\n",
       "ts11le      ts11le  POINT (-1.23814 54.57665)\n",
       "...            ...                        ...\n",
       "ts39es      ts39es  POINT (-1.18295 54.56740)\n",
       "ts39ex      ts39ex  POINT (-1.18965 54.56442)\n",
       "ts39ex      ts39ex  POINT (-1.18832 54.56455)\n",
       "ts39he      ts39he  POINT (-1.17768 54.56610)\n",
       "ts39hn      ts39hn  POINT (-1.18085 54.56509)\n",
       "\n",
       "[400 rows x 2 columns]"
      ]
     },
     "execution_count": 10,
     "metadata": {},
     "output_type": "execute_result"
    }
   ],
   "source": [
    "# %%timeit\n",
    "pc_gpd.sjoin(\n",
    "    points_df,\n",
    "    how=\"right\",\n",
    "    predicate=\"contains\"\n",
    ")"
   ]
  },
  {
   "cell_type": "code",
   "execution_count": 11,
   "id": "896eac6f-6a1c-44af-9aae-4c001a9e1b9c",
   "metadata": {
    "tags": []
   },
   "outputs": [],
   "source": [
    "lad = gpd.read_parquet('/mnt/c/wsl_transfers/cens_staging/gpd_parquets/lad_gpd.parquet')"
   ]
  },
  {
   "cell_type": "code",
   "execution_count": 27,
   "id": "c04f90b2-4f7e-4e29-9628-cd56b530039e",
   "metadata": {
    "tags": []
   },
   "outputs": [
    {
     "name": "stdout",
     "output_type": "stream",
     "text": [
      "None\n"
     ]
    }
   ],
   "source": []
  },
  {
   "cell_type": "code",
   "execution_count": 25,
   "id": "eca55202-e37e-42d9-bbed-59ff4afab10a",
   "metadata": {
    "tags": []
   },
   "outputs": [
    {
     "name": "stderr",
     "output_type": "stream",
     "text": [
      "/home/basal/envs/dbc1/lib/python3.8/site-packages/geopandas/base.py:31: UserWarning: The indices of the two GeoSeries are different.\n",
      "  warn(\"The indices of the two GeoSeries are different.\")\n"
     ]
    },
    {
     "data": {
      "text/plain": [
       "area_cd\n",
       "E06000001    False\n",
       "E06000002    False\n",
       "E06000003    False\n",
       "E06000004    False\n",
       "E06000005    False\n",
       "             ...  \n",
       "ts39es       False\n",
       "ts39ex       False\n",
       "ts39ex       False\n",
       "ts39he       False\n",
       "ts39hn       False\n",
       "Length: 774, dtype: bool"
      ]
     },
     "execution_count": 25,
     "metadata": {},
     "output_type": "execute_result"
    }
   ],
   "source": [
    "points_series.within(lad['poly_4326_fc'])"
   ]
  },
  {
   "cell_type": "markdown",
   "id": "05b7e63b-0560-4d1d-aa38-c85d940d7c13",
   "metadata": {},
   "source": [
    "## Find postcode for a point"
   ]
  },
  {
   "cell_type": "code",
   "execution_count": 76,
   "id": "a5ecdbf7-b6e7-43d6-ad8c-ea34e1c5a43d",
   "metadata": {
    "tags": []
   },
   "outputs": [],
   "source": [
    "lad_gpd = gpd.read_parquet('/mnt/c/wsl_transfers/cens_staging/gpd_parquets/lad_gpd.parquet')"
   ]
  },
  {
   "cell_type": "code",
   "execution_count": 73,
   "id": "0a663f12-cc45-4836-9291-3d75d3a4a269",
   "metadata": {
    "tags": []
   },
   "outputs": [
    {
     "data": {
      "text/html": [
       "<div>\n",
       "<style scoped>\n",
       "    .dataframe tbody tr th:only-of-type {\n",
       "        vertical-align: middle;\n",
       "    }\n",
       "\n",
       "    .dataframe tbody tr th {\n",
       "        vertical-align: top;\n",
       "    }\n",
       "\n",
       "    .dataframe thead th {\n",
       "        text-align: right;\n",
       "    }\n",
       "</style>\n",
       "<table border=\"1\" class=\"dataframe\">\n",
       "  <thead>\n",
       "    <tr style=\"text-align: right;\">\n",
       "      <th></th>\n",
       "      <th>lon</th>\n",
       "      <th>lat</th>\n",
       "      <th>coords</th>\n",
       "    </tr>\n",
       "  </thead>\n",
       "  <tbody>\n",
       "    <tr>\n",
       "      <th>0</th>\n",
       "      <td>0.083952</td>\n",
       "      <td>51.573404</td>\n",
       "      <td>POINT (0.08395 51.57340)</td>\n",
       "    </tr>\n",
       "  </tbody>\n",
       "</table>\n",
       "</div>"
      ],
      "text/plain": [
       "        lon        lat                    coords\n",
       "0  0.083952  51.573404  POINT (0.08395 51.57340)"
      ]
     },
     "execution_count": 73,
     "metadata": {},
     "output_type": "execute_result"
    }
   ],
   "source": [
    "lat, lon = 51.573404, 0.083952\n",
    "df = pd.DataFrame([{'lon':lon, 'lat':lat}])\n",
    "df['coords'] = list(zip(df['lon'],df['lat']))\n",
    "df['coords'] = df['coords'].apply(Point)\n",
    "point_gdf = gpd.GeoDataFrame(df, geometry='coords')\n",
    "point_gdf\n",
    "\n"
   ]
  },
  {
   "cell_type": "code",
   "execution_count": 109,
   "id": "6324e375-96b5-4033-8883-d1541d20bbf9",
   "metadata": {
    "tags": []
   },
   "outputs": [],
   "source": [
    "def pcd_from_point(lat, lon):\n",
    "    # Create point geom df\n",
    "    df = pd.DataFrame([{'lon':lon, 'lat':lat}])\n",
    "    df['coords'] = list(zip(df['lon'],df['lat']))\n",
    "    df['coords'] = df['coords'].apply(Point)\n",
    "    point_gdf: gpd.GeoDataFrame = gpd.GeoDataFrame(df, geometry='coords')\n",
    "    # find the lad_cd required for pc lookup\n",
    "    _lad_gpd = lad_gpd.sjoin(\n",
    "        point_gdf,\n",
    "        how=\"inner\",\n",
    "        predicate=\"contains\"\n",
    "    )\n",
    "    lad_cd = _lad_gpd.index[0]\n",
    "    # find postcode using lad_cd as lookup\n",
    "    pc_gpd = gpd.read_parquet(f'/mnt/c/wsl_transfers/cens_staging/gpd_parquets/pc/{lad_cd}.parquet').sjoin(\n",
    "        point_gdf,\n",
    "        how=\"inner\",\n",
    "        predicate=\"contains\"\n",
    "    )\n",
    "    return pc_gpd.index[0]"
   ]
  },
  {
   "cell_type": "code",
   "execution_count": 115,
   "id": "62506165-2bce-4ea3-8c74-0f7d378c15d5",
   "metadata": {
    "tags": []
   },
   "outputs": [
    {
     "data": {
      "text/plain": [
       "'wa11hn'"
      ]
     },
     "execution_count": 115,
     "metadata": {},
     "output_type": "execute_result"
    }
   ],
   "source": [
    "lat, lon = 53.38542828811447, -2.592789058525886\n",
    "pcd_from_point(lat, lon)"
   ]
  },
  {
   "cell_type": "code",
   "execution_count": null,
   "id": "9fe9b49e-09c0-4807-927e-c463b4cee82e",
   "metadata": {},
   "outputs": [],
   "source": [
    "crime_point_index_gpd_w_pc.index.name = 'pcd'"
   ]
  },
  {
   "cell_type": "code",
   "execution_count": null,
   "id": "5d32bf72-57f3-44d0-a380-378182ecd673",
   "metadata": {},
   "outputs": [
    {
     "data": {
      "text/html": [
       "<div>\n",
       "<style scoped>\n",
       "    .dataframe tbody tr th:only-of-type {\n",
       "        vertical-align: middle;\n",
       "    }\n",
       "\n",
       "    .dataframe tbody tr th {\n",
       "        vertical-align: top;\n",
       "    }\n",
       "\n",
       "    .dataframe thead th {\n",
       "        text-align: right;\n",
       "    }\n",
       "</style>\n",
       "<table border=\"1\" class=\"dataframe\">\n",
       "  <thead>\n",
       "    <tr style=\"text-align: right;\">\n",
       "      <th></th>\n",
       "      <th>oa21cd</th>\n",
       "      <th>lad22cd</th>\n",
       "      <th>lat</th>\n",
       "      <th>lon</th>\n",
       "      <th>lsoa11cd</th>\n",
       "      <th>geometry</th>\n",
       "    </tr>\n",
       "  </thead>\n",
       "  <tbody>\n",
       "    <tr>\n",
       "      <th>0</th>\n",
       "      <td>E00062396</td>\n",
       "      <td>E06000006</td>\n",
       "      <td>53.371119</td>\n",
       "      <td>-2.719657</td>\n",
       "      <td>E01012370</td>\n",
       "      <td>POINT (-2.71966 53.37112)</td>\n",
       "    </tr>\n",
       "    <tr>\n",
       "      <th>1</th>\n",
       "      <td>E00062396</td>\n",
       "      <td>E06000006</td>\n",
       "      <td>53.372592</td>\n",
       "      <td>-2.719833</td>\n",
       "      <td>E01012368</td>\n",
       "      <td>POINT (-2.71983 53.37259)</td>\n",
       "    </tr>\n",
       "    <tr>\n",
       "      <th>2</th>\n",
       "      <td>E00062396</td>\n",
       "      <td>E06000006</td>\n",
       "      <td>53.368875</td>\n",
       "      <td>-2.719139</td>\n",
       "      <td>E01012370</td>\n",
       "      <td>POINT (-2.71914 53.36888)</td>\n",
       "    </tr>\n",
       "    <tr>\n",
       "      <th>3</th>\n",
       "      <td>E00062396</td>\n",
       "      <td>E06000006</td>\n",
       "      <td>53.371074</td>\n",
       "      <td>-2.719597</td>\n",
       "      <td>E01012370</td>\n",
       "      <td>POINT (-2.71960 53.37107)</td>\n",
       "    </tr>\n",
       "    <tr>\n",
       "      <th>4</th>\n",
       "      <td>E00062396</td>\n",
       "      <td>E06000006</td>\n",
       "      <td>53.370604</td>\n",
       "      <td>-2.721513</td>\n",
       "      <td>E01012370</td>\n",
       "      <td>POINT (-2.72151 53.37060)</td>\n",
       "    </tr>\n",
       "    <tr>\n",
       "      <th>...</th>\n",
       "      <td>...</td>\n",
       "      <td>...</td>\n",
       "      <td>...</td>\n",
       "      <td>...</td>\n",
       "      <td>...</td>\n",
       "      <td>...</td>\n",
       "    </tr>\n",
       "    <tr>\n",
       "      <th>1283046</th>\n",
       "      <td>W00009924</td>\n",
       "      <td>W06000018</td>\n",
       "      <td>51.651698</td>\n",
       "      <td>-3.136300</td>\n",
       "      <td>W01001327</td>\n",
       "      <td>POINT (-3.13630 51.65170)</td>\n",
       "    </tr>\n",
       "    <tr>\n",
       "      <th>1283047</th>\n",
       "      <td>W00009924</td>\n",
       "      <td>W06000018</td>\n",
       "      <td>51.654022</td>\n",
       "      <td>-3.146925</td>\n",
       "      <td>W01001327</td>\n",
       "      <td>POINT (-3.14692 51.65402)</td>\n",
       "    </tr>\n",
       "    <tr>\n",
       "      <th>1283048</th>\n",
       "      <td>W00009924</td>\n",
       "      <td>W06000018</td>\n",
       "      <td>51.654017</td>\n",
       "      <td>-3.146549</td>\n",
       "      <td>W01001327</td>\n",
       "      <td>POINT (-3.14655 51.65402)</td>\n",
       "    </tr>\n",
       "    <tr>\n",
       "      <th>1283049</th>\n",
       "      <td>W00009924</td>\n",
       "      <td>W06000018</td>\n",
       "      <td>51.656464</td>\n",
       "      <td>-3.137128</td>\n",
       "      <td>W01001327</td>\n",
       "      <td>POINT (-3.13713 51.65646)</td>\n",
       "    </tr>\n",
       "    <tr>\n",
       "      <th>1283050</th>\n",
       "      <td>W00009924</td>\n",
       "      <td>W06000018</td>\n",
       "      <td>51.652511</td>\n",
       "      <td>-3.135930</td>\n",
       "      <td>W01001327</td>\n",
       "      <td>POINT (-3.13593 51.65251)</td>\n",
       "    </tr>\n",
       "  </tbody>\n",
       "</table>\n",
       "<p>1283051 rows × 6 columns</p>\n",
       "</div>"
      ],
      "text/plain": [
       "            oa21cd    lad22cd        lat       lon   lsoa11cd  \\\n",
       "0        E00062396  E06000006  53.371119 -2.719657  E01012370   \n",
       "1        E00062396  E06000006  53.372592 -2.719833  E01012368   \n",
       "2        E00062396  E06000006  53.368875 -2.719139  E01012370   \n",
       "3        E00062396  E06000006  53.371074 -2.719597  E01012370   \n",
       "4        E00062396  E06000006  53.370604 -2.721513  E01012370   \n",
       "...            ...        ...        ...       ...        ...   \n",
       "1283046  W00009924  W06000018  51.651698 -3.136300  W01001327   \n",
       "1283047  W00009924  W06000018  51.654022 -3.146925  W01001327   \n",
       "1283048  W00009924  W06000018  51.654017 -3.146549  W01001327   \n",
       "1283049  W00009924  W06000018  51.656464 -3.137128  W01001327   \n",
       "1283050  W00009924  W06000018  51.652511 -3.135930  W01001327   \n",
       "\n",
       "                          geometry  \n",
       "0        POINT (-2.71966 53.37112)  \n",
       "1        POINT (-2.71983 53.37259)  \n",
       "2        POINT (-2.71914 53.36888)  \n",
       "3        POINT (-2.71960 53.37107)  \n",
       "4        POINT (-2.72151 53.37060)  \n",
       "...                            ...  \n",
       "1283046  POINT (-3.13630 51.65170)  \n",
       "1283047  POINT (-3.14692 51.65402)  \n",
       "1283048  POINT (-3.14655 51.65402)  \n",
       "1283049  POINT (-3.13713 51.65646)  \n",
       "1283050  POINT (-3.13593 51.65251)  \n",
       "\n",
       "[1283051 rows x 6 columns]"
      ]
     },
     "execution_count": 64,
     "metadata": {},
     "output_type": "execute_result"
    }
   ],
   "source": [
    "crime_point_index"
   ]
  },
  {
   "cell_type": "code",
   "execution_count": 63,
   "id": "a3f12efa-dca8-4015-b8e2-54a1ebdaccbf",
   "metadata": {
    "tags": []
   },
   "outputs": [
    {
     "data": {
      "text/html": [
       "<div>\n",
       "<style scoped>\n",
       "    .dataframe tbody tr th:only-of-type {\n",
       "        vertical-align: middle;\n",
       "    }\n",
       "\n",
       "    .dataframe tbody tr th {\n",
       "        vertical-align: top;\n",
       "    }\n",
       "\n",
       "    .dataframe thead th {\n",
       "        text-align: right;\n",
       "    }\n",
       "</style>\n",
       "<table border=\"1\" class=\"dataframe\">\n",
       "  <thead>\n",
       "    <tr style=\"text-align: right;\">\n",
       "      <th></th>\n",
       "      <th>pcd</th>\n",
       "      <th>oa21cd</th>\n",
       "      <th>lad22cd</th>\n",
       "      <th>lat</th>\n",
       "      <th>lon</th>\n",
       "      <th>lsoa11cd</th>\n",
       "    </tr>\n",
       "  </thead>\n",
       "  <tbody>\n",
       "    <tr>\n",
       "      <th>0</th>\n",
       "      <td>wa44bt</td>\n",
       "      <td>E00062486</td>\n",
       "      <td>E06000006</td>\n",
       "      <td>53.330608</td>\n",
       "      <td>-2.647170</td>\n",
       "      <td>E01012385</td>\n",
       "    </tr>\n",
       "    <tr>\n",
       "      <th>1</th>\n",
       "      <td>wa44fx</td>\n",
       "      <td>E00062486</td>\n",
       "      <td>E06000006</td>\n",
       "      <td>53.338810</td>\n",
       "      <td>-2.634619</td>\n",
       "      <td>E01012385</td>\n",
       "    </tr>\n",
       "    <tr>\n",
       "      <th>2</th>\n",
       "      <td>wa44ge</td>\n",
       "      <td>E00062486</td>\n",
       "      <td>E06000006</td>\n",
       "      <td>53.331937</td>\n",
       "      <td>-2.642461</td>\n",
       "      <td>E01012385</td>\n",
       "    </tr>\n",
       "    <tr>\n",
       "      <th>3</th>\n",
       "      <td>wa46nq</td>\n",
       "      <td>E00062481</td>\n",
       "      <td>E06000006</td>\n",
       "      <td>53.347795</td>\n",
       "      <td>-2.647160</td>\n",
       "      <td>E01012386</td>\n",
       "    </tr>\n",
       "    <tr>\n",
       "      <th>4</th>\n",
       "      <td>wa46nq</td>\n",
       "      <td>E00062481</td>\n",
       "      <td>E06000006</td>\n",
       "      <td>53.348094</td>\n",
       "      <td>-2.648262</td>\n",
       "      <td>E01012386</td>\n",
       "    </tr>\n",
       "    <tr>\n",
       "      <th>...</th>\n",
       "      <td>...</td>\n",
       "      <td>...</td>\n",
       "      <td>...</td>\n",
       "      <td>...</td>\n",
       "      <td>...</td>\n",
       "      <td>...</td>\n",
       "    </tr>\n",
       "    <tr>\n",
       "      <th>95</th>\n",
       "      <td>wa89la</td>\n",
       "      <td>E00062524</td>\n",
       "      <td>E06000006</td>\n",
       "      <td>53.381986</td>\n",
       "      <td>-2.728575</td>\n",
       "      <td>E01012394</td>\n",
       "    </tr>\n",
       "    <tr>\n",
       "      <th>96</th>\n",
       "      <td>wa89la</td>\n",
       "      <td>E00062524</td>\n",
       "      <td>E06000006</td>\n",
       "      <td>53.382518</td>\n",
       "      <td>-2.729757</td>\n",
       "      <td>E01012394</td>\n",
       "    </tr>\n",
       "    <tr>\n",
       "      <th>97</th>\n",
       "      <td>wa89lj</td>\n",
       "      <td>E00062524</td>\n",
       "      <td>E06000006</td>\n",
       "      <td>53.381586</td>\n",
       "      <td>-2.730763</td>\n",
       "      <td>E01012394</td>\n",
       "    </tr>\n",
       "    <tr>\n",
       "      <th>98</th>\n",
       "      <td>wa89lj</td>\n",
       "      <td>E00062524</td>\n",
       "      <td>E06000006</td>\n",
       "      <td>53.381640</td>\n",
       "      <td>-2.730779</td>\n",
       "      <td>E01012394</td>\n",
       "    </tr>\n",
       "    <tr>\n",
       "      <th>99</th>\n",
       "      <td>wa45lp</td>\n",
       "      <td>E00062486</td>\n",
       "      <td>E06000006</td>\n",
       "      <td>53.345468</td>\n",
       "      <td>-2.638548</td>\n",
       "      <td>E01012385</td>\n",
       "    </tr>\n",
       "  </tbody>\n",
       "</table>\n",
       "<p>100 rows × 6 columns</p>\n",
       "</div>"
      ],
      "text/plain": [
       "       pcd     oa21cd    lad22cd        lat       lon   lsoa11cd\n",
       "0   wa44bt  E00062486  E06000006  53.330608 -2.647170  E01012385\n",
       "1   wa44fx  E00062486  E06000006  53.338810 -2.634619  E01012385\n",
       "2   wa44ge  E00062486  E06000006  53.331937 -2.642461  E01012385\n",
       "3   wa46nq  E00062481  E06000006  53.347795 -2.647160  E01012386\n",
       "4   wa46nq  E00062481  E06000006  53.348094 -2.648262  E01012386\n",
       "..     ...        ...        ...        ...       ...        ...\n",
       "95  wa89la  E00062524  E06000006  53.381986 -2.728575  E01012394\n",
       "96  wa89la  E00062524  E06000006  53.382518 -2.729757  E01012394\n",
       "97  wa89lj  E00062524  E06000006  53.381586 -2.730763  E01012394\n",
       "98  wa89lj  E00062524  E06000006  53.381640 -2.730779  E01012394\n",
       "99  wa45lp  E00062486  E06000006  53.345468 -2.638548  E01012385\n",
       "\n",
       "[100 rows x 6 columns]"
      ]
     },
     "execution_count": 65,
     "metadata": {},
     "output_type": "execute_result"
    }
   ],
   "source": [
    "crime_point_index_gpd_w_pc.reset_index()[['pcd', 'oa21cd', 'lad22cd',]]"
   ]
  }
 ],
 "metadata": {
  "kernelspec": {
   "display_name": "Python 3 (ipykernel)",
   "language": "python",
   "name": "python3"
  },
  "language_info": {
   "codemirror_mode": {
    "name": "ipython",
    "version": 3
   },
   "file_extension": ".py",
   "mimetype": "text/x-python",
   "name": "python",
   "nbconvert_exporter": "python",
   "pygments_lexer": "ipython3",
   "version": "3.8.5"
  }
 },
 "nbformat": 4,
 "nbformat_minor": 5
}
