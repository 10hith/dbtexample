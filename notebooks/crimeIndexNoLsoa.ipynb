{
 "cells": [
  {
   "cell_type": "code",
   "execution_count": 1,
   "id": "ebfdb291-47b7-4090-a339-bd5e5a7931b3",
   "metadata": {},
   "outputs": [],
   "source": [
    "from utils.spark_utils import get_spatial_spark_session\n",
    "from utils.params import CENS_STAGING_PATH\n",
    "from utils.dbutils import sdf_df_from_query"
   ]
  },
  {
   "cell_type": "code",
   "execution_count": 2,
   "id": "06da768f-73b9-4332-b8a7-ddbcda3de26f",
   "metadata": {},
   "outputs": [],
   "source": [
    "from sedona.core.formatMapper.shapefileParser import ShapefileReader\n",
    "from sedona.utils.adapter import Adapter\n",
    "import json\n",
    "from pyspark.sql import functions as f"
   ]
  },
  {
   "cell_type": "markdown",
   "id": "34e3bc76-a3ae-4af1-a2f0-a862e0576224",
   "metadata": {},
   "source": [
    "lad:https://geoportal.statistics.gov.uk/maps/local-authority-districts-december-2022-boundaries-uk-bfc\n",
    "msoa: https://geoportal.statistics.gov.uk/datasets/ons::msoa-dec-2021-boundaries-full-extent-bfe-ew/explore?location=52.800674%2C-2.487028%2C8.00\n",
    "ward: https://geoportal.statistics.gov.uk/maps/wards-december-2022-boundaries-gb-bfc\n",
    "op: https://geoportal.statistics.gov.uk/maps/output-areas-dec-2021-boundaries-full-clipped-ew-bfc"
   ]
  },
  {
   "cell_type": "code",
   "execution_count": 3,
   "id": "42239f8b-796b-4aef-bd3d-f7b707269a6a",
   "metadata": {
    "tags": []
   },
   "outputs": [
    {
     "name": "stderr",
     "output_type": "stream",
     "text": [
      "Warning: Ignoring non-Spark config property: sedona.global.charset\n"
     ]
    },
    {
     "name": "stdout",
     "output_type": "stream",
     "text": [
      "23/02/12 08:36:50 WARN Utils: Your hostname, DESKTOP-9QGN9QQ resolves to a loopback address: 127.0.1.1; using 172.30.151.34 instead (on interface eth0)\n",
      "23/02/12 08:36:50 WARN Utils: Set SPARK_LOCAL_IP if you need to bind to another address\n",
      "23/02/12 08:36:51 WARN NativeCodeLoader: Unable to load native-hadoop library for your platform... using builtin-java classes where applicable\n"
     ]
    },
    {
     "name": "stderr",
     "output_type": "stream",
     "text": [
      "Setting default log level to \"WARN\".\n",
      "To adjust logging level use sc.setLogLevel(newLevel). For SparkR, use setLogLevel(newLevel).\n",
      "                                                                                \r"
     ]
    }
   ],
   "source": [
    "spark = get_spatial_spark_session(\"DBT Muthafucka\")"
   ]
  },
  {
   "cell_type": "code",
   "execution_count": 4,
   "id": "370cb2fd-6360-4d3c-a8c4-d6d8d25ce9c8",
   "metadata": {},
   "outputs": [],
   "source": [
    "# investigate postcode lad"
   ]
  },
  {
   "cell_type": "code",
   "execution_count": 5,
   "id": "4e3dfb7a-56d2-4e3c-8c9f-f241d52b7b92",
   "metadata": {},
   "outputs": [
    {
     "name": "stderr",
     "output_type": "stream",
     "text": [
      "                                                                                \r"
     ]
    }
   ],
   "source": [
    "pc_lad = spark.read.parquet(\"/mnt/c/Users/lohith/Downloads/OS_data_sets/processed/postcode_lad\")"
   ]
  },
  {
   "cell_type": "code",
   "execution_count": 6,
   "id": "9a4948f5-e02f-4808-b799-629c4c96ba4d",
   "metadata": {},
   "outputs": [
    {
     "name": "stderr",
     "output_type": "stream",
     "text": [
      "                                                                                \r"
     ]
    },
    {
     "data": {
      "text/plain": [
       "2018126"
      ]
     },
     "execution_count": 6,
     "metadata": {},
     "output_type": "execute_result"
    }
   ],
   "source": [
    "pc_lad.count()"
   ]
  },
  {
   "cell_type": "code",
   "execution_count": 7,
   "id": "bfd94edd-c328-4cd2-873d-500ed5b2e8d7",
   "metadata": {},
   "outputs": [
    {
     "data": {
      "text/plain": [
       "DataFrame[postcode: string, district: string, postcode_orig: string, postcode_point_4326: udt, postcode_point_3857: udt, geo_hash: string, postcode_origin: string, geometry: udt, postcode_poly_4326: udt, lad_cd: string]"
      ]
     },
     "execution_count": 7,
     "metadata": {},
     "output_type": "execute_result"
    }
   ],
   "source": [
    "pc_lad"
   ]
  },
  {
   "cell_type": "markdown",
   "id": "92adfd44-e8eb-4591-ac03-921be6fb2cc7",
   "metadata": {},
   "source": [
    "## Create lad_oa_geo_w_lad_partition"
   ]
  },
  {
   "cell_type": "code",
   "execution_count": 5,
   "id": "d32346ca-c4aa-4ba7-b973-53be7385aaf8",
   "metadata": {},
   "outputs": [
    {
     "name": "stderr",
     "output_type": "stream",
     "text": [
      "                                                                                \r"
     ]
    }
   ],
   "source": [
    "# Spread the geo across partitions for easier read\n",
    "oa_spark_geo = spark.read.parquet(f\"{CENS_STAGING_PATH}/geo_parquets/oa/\")\\\n",
    "    .withColumn(\"poly_4326\", f.expr(\n",
    "        \"ST_FlipCoordinates(poly_4326_fc)\"\n",
    "    )).selectExpr(\"OA21CD as oa21cd\", \"poly_4326 as oa_poly_4326\")\n",
    "\n",
    "lad_spark_geo = spark.read.parquet(f\"{CENS_STAGING_PATH}/geo_parquets/lad/\")\\\n",
    "    .withColumn(\"poly_4326\", f.expr(\n",
    "        \"ST_FlipCoordinates(poly_4326_fc)\"\n",
    "    )).selectExpr(\"LAD22CD as lad22cd\", \"poly_4326 as lad_poly_4326\")"
   ]
  },
  {
   "cell_type": "code",
   "execution_count": 6,
   "id": "ddb66419-ad9c-476e-8cc2-7b4fcc6142e5",
   "metadata": {},
   "outputs": [],
   "source": [
    "query = \"select distinct OA21CD as oa21cd, LTLA22CD as lad22cd from oa_to_ward_mapping\"\n",
    "oa_to_lad = sdf_df_from_query(\"crimeapp\", query, spark)"
   ]
  },
  {
   "cell_type": "code",
   "execution_count": 8,
   "id": "987f8a79-84ab-4a52-8a27-f18908098b77",
   "metadata": {},
   "outputs": [
    {
     "data": {
      "text/plain": [
       "(DataFrame[oa21cd: string, oa_poly_4326: udt],\n",
       " DataFrame[lad22cd: string, lad_poly_4326: udt],\n",
       " DataFrame[lad22cd: string, oa21cd: string])"
      ]
     },
     "execution_count": 8,
     "metadata": {},
     "output_type": "execute_result"
    }
   ],
   "source": [
    "oa_spark_geo, lad_spark_geo, oa_to_lad"
   ]
  },
  {
   "cell_type": "code",
   "execution_count": 9,
   "id": "ae5c3e8a-50ea-4863-92ce-e7e35b08e394",
   "metadata": {},
   "outputs": [
    {
     "data": {
      "text/plain": [
       "DataFrame[lad22cd: string, oa21cd: string, oa_poly_4326: udt, lad_poly_4326: udt]"
      ]
     },
     "execution_count": 9,
     "metadata": {},
     "output_type": "execute_result"
    }
   ],
   "source": [
    "oa_lad_geo_part_lad = oa_spark_geo.join(\n",
    "    f.broadcast(oa_to_lad),\n",
    "    \"oa21cd\",\n",
    "    \"inner\"\n",
    ").join(\n",
    "    lad_spark_geo,\n",
    "    \"lad22cd\",\n",
    "    \"inner\"\n",
    ")\n",
    "\n",
    "oa_lad_geo_part_lad"
   ]
  },
  {
   "cell_type": "code",
   "execution_count": null,
   "id": "293dd6bf-cb84-4bde-a822-4f5f3db4ad5c",
   "metadata": {},
   "outputs": [
    {
     "name": "stdout",
     "output_type": "stream",
     "text": [
      "23/02/11 01:54:06 WARN TaskSetManager: Stage 5 contains a task of very large size (1207 KiB). The maximum recommended task size is 1000 KiB.\n"
     ]
    },
    {
     "name": "stderr",
     "output_type": "stream",
     "text": [
      "[Stage 10:>                                                         (0 + 4) / 8]\r"
     ]
    }
   ],
   "source": [
    "oa_lad_geo_part_lad.repartition(4, \"oa21cd\")\\\n",
    ".write.mode(\"overwrite\")\\\n",
    ".partitionBy(\"lad22cd\")\\\n",
    ".parquet(f\"/home/basal/cens_staging/temp/oa_lad_geo_part_lad/\")"
   ]
  },
  {
   "cell_type": "markdown",
   "id": "4c6935a6-000a-4580-a5e0-0c2863c2d023",
   "metadata": {},
   "source": [
    "## Do pip now"
   ]
  },
  {
   "cell_type": "code",
   "execution_count": 11,
   "id": "3e1f43a7-8d3d-4759-b108-99783eceed33",
   "metadata": {},
   "outputs": [
    {
     "data": {
      "text/html": [
       "\n",
       "            <div>\n",
       "                <p><b>SparkSession - in-memory</b></p>\n",
       "                \n",
       "        <div>\n",
       "            <p><b>SparkContext</b></p>\n",
       "\n",
       "            <p><a href=\"http://172.30.148.153:4040\">Spark UI</a></p>\n",
       "\n",
       "            <dl>\n",
       "              <dt>Version</dt>\n",
       "                <dd><code>v3.3.0</code></dd>\n",
       "              <dt>Master</dt>\n",
       "                <dd><code>local[*]</code></dd>\n",
       "              <dt>AppName</dt>\n",
       "                <dd><code>DBT Muthafucka</code></dd>\n",
       "            </dl>\n",
       "        </div>\n",
       "        \n",
       "            </div>\n",
       "        "
      ],
      "text/plain": [
       "<pyspark.sql.session.SparkSession at 0x7ff33429b310>"
      ]
     },
     "execution_count": 11,
     "metadata": {},
     "output_type": "execute_result"
    }
   ],
   "source": [
    "spark"
   ]
  },
  {
   "cell_type": "code",
   "execution_count": 11,
   "id": "94e9b686-b74f-40bc-b413-31e8e01bc55f",
   "metadata": {},
   "outputs": [],
   "source": [
    "import glob"
   ]
  },
  {
   "cell_type": "code",
   "execution_count": 12,
   "id": "477a90e2-27bd-42f5-b11e-e075748b45ff",
   "metadata": {},
   "outputs": [],
   "source": [
    "query = \"select distinct lat, lon from crime_point_index where lat is not null and lon is not null order by lat, lon\"\n",
    "crime_point_index = sdf_df_from_query(\"crimeapp\", query, spark)"
   ]
  },
  {
   "cell_type": "code",
   "execution_count": 9,
   "id": "b4c08009-4951-4cef-94af-b3ce18e3c30e",
   "metadata": {},
   "outputs": [],
   "source": [
    "noP= spark.read.parquet(\"/home/basal/cens_staging/temp/oa_lad_geo_part_lad/\")"
   ]
  },
  {
   "cell_type": "code",
   "execution_count": 12,
   "id": "492df502-871d-4da9-bbe3-f65dbe03026a",
   "metadata": {},
   "outputs": [
    {
     "name": "stderr",
     "output_type": "stream",
     "text": [
      "                                                                                \r"
     ]
    },
    {
     "data": {
      "text/plain": [
       "0"
      ]
     },
     "execution_count": 12,
     "metadata": {},
     "output_type": "execute_result"
    }
   ],
   "source": [
    "noP.filter(\"oa_poly_4326 is null\").count()"
   ]
  },
  {
   "cell_type": "code",
   "execution_count": 23,
   "id": "30005a71-e22d-425e-90fe-b23f713ef2b9",
   "metadata": {},
   "outputs": [],
   "source": [
    "partitions = glob.glob(\"/home/basal/cens_staging/temp/oa_lad_geo_part_lad/lad22cd=*\")\n",
    "processed_partitions_path = glob.glob(\"/home/basal/cens_staging/temp/crime_index_w_oa_part_lad/lad22cd=*\")\n",
    "\n",
    "processed_partitions = [x.split('=')[-1] for x in processed_partitions_path]\n",
    "\n",
    "to_be_processed = [partition for partition in partitions if  partition.split('=')[-1] not in processed_partitions]\n",
    "# to_be_processed"
   ]
  },
  {
   "cell_type": "code",
   "execution_count": 57,
   "id": "36f38937-d5f4-47bf-8f2d-f82229e5e860",
   "metadata": {},
   "outputs": [],
   "source": [
    "for partition in partitions:\n",
    "    ladcd = partition.split('=')[-1]\n",
    "    # print(ladcd)"
   ]
  },
  {
   "cell_type": "code",
   "execution_count": 24,
   "id": "68f9c7e8-d231-4220-80d4-96439b3462b4",
   "metadata": {
    "collapsed": true,
    "jupyter": {
     "outputs_hidden": true
    },
    "tags": []
   },
   "outputs": [
    {
     "name": "stdout",
     "output_type": "stream",
     "text": [
      "23/02/11 13:15:50 WARN TaskSetManager: Stage 12 contains a task of very large size (24887 KiB). The maximum recommended task size is 1000 KiB.\n"
     ]
    },
    {
     "name": "stderr",
     "output_type": "stream",
     "text": [
      "                                                                                \r"
     ]
    },
    {
     "name": "stdout",
     "output_type": "stream",
     "text": [
      "23/02/11 13:16:20 WARN TaskSetManager: Stage 15 contains a task of very large size (24887 KiB). The maximum recommended task size is 1000 KiB.\n"
     ]
    },
    {
     "name": "stderr",
     "output_type": "stream",
     "text": [
      "                                                                                \r"
     ]
    },
    {
     "name": "stdout",
     "output_type": "stream",
     "text": [
      "23/02/11 13:18:26 WARN TaskSetManager: Stage 18 contains a task of very large size (24887 KiB). The maximum recommended task size is 1000 KiB.\n"
     ]
    },
    {
     "name": "stderr",
     "output_type": "stream",
     "text": [
      "[Stage 21:>                                                         (0 + 1) / 1]\r"
     ]
    },
    {
     "name": "stdout",
     "output_type": "stream",
     "text": [
      "23/02/11 13:19:26 WARN TaskSetManager: Stage 21 contains a task of very large size (24887 KiB). The maximum recommended task size is 1000 KiB.\n"
     ]
    },
    {
     "name": "stderr",
     "output_type": "stream",
     "text": [
      "                                                                                \r"
     ]
    },
    {
     "name": "stdout",
     "output_type": "stream",
     "text": [
      "23/02/11 13:20:14 WARN TaskSetManager: Stage 24 contains a task of very large size (24887 KiB). The maximum recommended task size is 1000 KiB.\n"
     ]
    },
    {
     "name": "stderr",
     "output_type": "stream",
     "text": [
      "                                                                                \r"
     ]
    },
    {
     "name": "stdout",
     "output_type": "stream",
     "text": [
      "23/02/11 13:21:29 WARN TaskSetManager: Stage 27 contains a task of very large size (24887 KiB). The maximum recommended task size is 1000 KiB.\n"
     ]
    },
    {
     "name": "stderr",
     "output_type": "stream",
     "text": [
      "                                                                                \r"
     ]
    },
    {
     "name": "stdout",
     "output_type": "stream",
     "text": [
      "23/02/11 13:22:35 WARN TaskSetManager: Stage 30 contains a task of very large size (24887 KiB). The maximum recommended task size is 1000 KiB.\n"
     ]
    },
    {
     "name": "stderr",
     "output_type": "stream",
     "text": [
      "                                                                                \r"
     ]
    },
    {
     "name": "stdout",
     "output_type": "stream",
     "text": [
      "23/02/11 13:23:20 WARN TaskSetManager: Stage 33 contains a task of very large size (24887 KiB). The maximum recommended task size is 1000 KiB.\n"
     ]
    },
    {
     "name": "stderr",
     "output_type": "stream",
     "text": [
      "                                                                                \r"
     ]
    },
    {
     "name": "stdout",
     "output_type": "stream",
     "text": [
      "23/02/11 13:24:15 WARN TaskSetManager: Stage 36 contains a task of very large size (24887 KiB). The maximum recommended task size is 1000 KiB.\n"
     ]
    },
    {
     "name": "stderr",
     "output_type": "stream",
     "text": [
      "[Stage 39:>                                                         (0 + 0) / 1]\r"
     ]
    },
    {
     "name": "stdout",
     "output_type": "stream",
     "text": [
      "23/02/11 13:25:18 WARN TaskSetManager: Stage 39 contains a task of very large size (24887 KiB). The maximum recommended task size is 1000 KiB.\n"
     ]
    },
    {
     "name": "stderr",
     "output_type": "stream",
     "text": [
      "                                                                                \r"
     ]
    },
    {
     "name": "stdout",
     "output_type": "stream",
     "text": [
      "23/02/11 13:26:11 WARN TaskSetManager: Stage 42 contains a task of very large size (24887 KiB). The maximum recommended task size is 1000 KiB.\n"
     ]
    },
    {
     "name": "stderr",
     "output_type": "stream",
     "text": [
      "                                                                                \r"
     ]
    },
    {
     "name": "stdout",
     "output_type": "stream",
     "text": [
      "23/02/11 13:27:23 WARN TaskSetManager: Stage 45 contains a task of very large size (24887 KiB). The maximum recommended task size is 1000 KiB.\n"
     ]
    },
    {
     "name": "stderr",
     "output_type": "stream",
     "text": [
      "                                                                                \r"
     ]
    },
    {
     "name": "stdout",
     "output_type": "stream",
     "text": [
      "23/02/11 13:27:47 WARN TaskSetManager: Stage 48 contains a task of very large size (24887 KiB). The maximum recommended task size is 1000 KiB.\n"
     ]
    },
    {
     "name": "stderr",
     "output_type": "stream",
     "text": [
      "                                                                                \r"
     ]
    },
    {
     "name": "stdout",
     "output_type": "stream",
     "text": [
      "23/02/11 13:28:21 WARN TaskSetManager: Stage 51 contains a task of very large size (24887 KiB). The maximum recommended task size is 1000 KiB.\n"
     ]
    },
    {
     "name": "stderr",
     "output_type": "stream",
     "text": [
      "                                                                                \r"
     ]
    },
    {
     "name": "stdout",
     "output_type": "stream",
     "text": [
      "23/02/11 13:29:02 WARN TaskSetManager: Stage 54 contains a task of very large size (24887 KiB). The maximum recommended task size is 1000 KiB.\n"
     ]
    },
    {
     "name": "stderr",
     "output_type": "stream",
     "text": [
      "                                                                                \r"
     ]
    },
    {
     "name": "stdout",
     "output_type": "stream",
     "text": [
      "23/02/11 13:29:37 WARN TaskSetManager: Stage 57 contains a task of very large size (24887 KiB). The maximum recommended task size is 1000 KiB.\n"
     ]
    },
    {
     "name": "stderr",
     "output_type": "stream",
     "text": [
      "                                                                                \r"
     ]
    },
    {
     "name": "stdout",
     "output_type": "stream",
     "text": [
      "23/02/11 13:30:10 WARN TaskSetManager: Stage 60 contains a task of very large size (24887 KiB). The maximum recommended task size is 1000 KiB.\n"
     ]
    },
    {
     "name": "stderr",
     "output_type": "stream",
     "text": [
      "                                                                                \r"
     ]
    },
    {
     "name": "stdout",
     "output_type": "stream",
     "text": [
      "23/02/11 13:30:47 WARN TaskSetManager: Stage 63 contains a task of very large size (24887 KiB). The maximum recommended task size is 1000 KiB.\n"
     ]
    },
    {
     "name": "stderr",
     "output_type": "stream",
     "text": [
      "                                                                                \r"
     ]
    },
    {
     "name": "stdout",
     "output_type": "stream",
     "text": [
      "23/02/11 13:31:32 WARN TaskSetManager: Stage 66 contains a task of very large size (24887 KiB). The maximum recommended task size is 1000 KiB.\n"
     ]
    },
    {
     "name": "stderr",
     "output_type": "stream",
     "text": [
      "                                                                                \r"
     ]
    },
    {
     "name": "stdout",
     "output_type": "stream",
     "text": [
      "23/02/11 13:31:58 WARN TaskSetManager: Stage 69 contains a task of very large size (24887 KiB). The maximum recommended task size is 1000 KiB.\n"
     ]
    },
    {
     "name": "stderr",
     "output_type": "stream",
     "text": [
      "                                                                                \r"
     ]
    },
    {
     "name": "stdout",
     "output_type": "stream",
     "text": [
      "23/02/11 13:32:24 WARN TaskSetManager: Stage 72 contains a task of very large size (24887 KiB). The maximum recommended task size is 1000 KiB.\n"
     ]
    },
    {
     "name": "stderr",
     "output_type": "stream",
     "text": [
      "                                                                                \r"
     ]
    },
    {
     "name": "stdout",
     "output_type": "stream",
     "text": [
      "23/02/11 13:32:52 WARN TaskSetManager: Stage 75 contains a task of very large size (24887 KiB). The maximum recommended task size is 1000 KiB.\n"
     ]
    },
    {
     "name": "stderr",
     "output_type": "stream",
     "text": [
      "                                                                                \r"
     ]
    },
    {
     "name": "stdout",
     "output_type": "stream",
     "text": [
      "23/02/11 13:33:27 WARN TaskSetManager: Stage 78 contains a task of very large size (24887 KiB). The maximum recommended task size is 1000 KiB.\n"
     ]
    },
    {
     "name": "stderr",
     "output_type": "stream",
     "text": [
      "                                                                                \r"
     ]
    },
    {
     "name": "stdout",
     "output_type": "stream",
     "text": [
      "23/02/11 13:33:40 WARN TaskSetManager: Stage 81 contains a task of very large size (24887 KiB). The maximum recommended task size is 1000 KiB.\n"
     ]
    },
    {
     "name": "stderr",
     "output_type": "stream",
     "text": [
      "                                                                                \r"
     ]
    },
    {
     "name": "stdout",
     "output_type": "stream",
     "text": [
      "23/02/11 13:34:25 WARN TaskSetManager: Stage 84 contains a task of very large size (24887 KiB). The maximum recommended task size is 1000 KiB.\n"
     ]
    },
    {
     "name": "stderr",
     "output_type": "stream",
     "text": [
      "                                                                                \r"
     ]
    },
    {
     "name": "stdout",
     "output_type": "stream",
     "text": [
      "23/02/11 13:35:30 WARN TaskSetManager: Stage 87 contains a task of very large size (24887 KiB). The maximum recommended task size is 1000 KiB.\n"
     ]
    },
    {
     "name": "stderr",
     "output_type": "stream",
     "text": [
      "                                                                                \r"
     ]
    },
    {
     "name": "stdout",
     "output_type": "stream",
     "text": [
      "23/02/11 13:35:47 WARN TaskSetManager: Stage 90 contains a task of very large size (24887 KiB). The maximum recommended task size is 1000 KiB.\n"
     ]
    },
    {
     "name": "stderr",
     "output_type": "stream",
     "text": [
      "[Stage 93:>                                                         (0 + 0) / 1]\r"
     ]
    },
    {
     "name": "stdout",
     "output_type": "stream",
     "text": [
      "23/02/11 13:36:29 WARN TaskSetManager: Stage 93 contains a task of very large size (24887 KiB). The maximum recommended task size is 1000 KiB.\n"
     ]
    },
    {
     "name": "stderr",
     "output_type": "stream",
     "text": [
      "                                                                                \r"
     ]
    },
    {
     "name": "stdout",
     "output_type": "stream",
     "text": [
      "23/02/11 13:39:34 WARN TaskSetManager: Stage 96 contains a task of very large size (24887 KiB). The maximum recommended task size is 1000 KiB.\n"
     ]
    },
    {
     "name": "stderr",
     "output_type": "stream",
     "text": [
      "[Stage 99:>                                                         (0 + 0) / 1]\r"
     ]
    },
    {
     "name": "stdout",
     "output_type": "stream",
     "text": [
      "23/02/11 13:41:17 WARN TaskSetManager: Stage 99 contains a task of very large size (24887 KiB). The maximum recommended task size is 1000 KiB.\n"
     ]
    },
    {
     "name": "stderr",
     "output_type": "stream",
     "text": [
      "[Stage 102:>                                                        (0 + 1) / 1]\r"
     ]
    },
    {
     "name": "stdout",
     "output_type": "stream",
     "text": [
      "23/02/11 13:41:59 WARN TaskSetManager: Stage 102 contains a task of very large size (24887 KiB). The maximum recommended task size is 1000 KiB.\n"
     ]
    },
    {
     "name": "stderr",
     "output_type": "stream",
     "text": [
      "[Stage 105:>                                                        (0 + 0) / 1]\r"
     ]
    },
    {
     "name": "stdout",
     "output_type": "stream",
     "text": [
      "23/02/11 13:43:47 WARN TaskSetManager: Stage 105 contains a task of very large size (24887 KiB). The maximum recommended task size is 1000 KiB.\n"
     ]
    },
    {
     "name": "stderr",
     "output_type": "stream",
     "text": [
      "                                                                                \r"
     ]
    },
    {
     "name": "stdout",
     "output_type": "stream",
     "text": [
      "23/02/11 13:44:58 WARN TaskSetManager: Stage 108 contains a task of very large size (24887 KiB). The maximum recommended task size is 1000 KiB.\n"
     ]
    },
    {
     "name": "stderr",
     "output_type": "stream",
     "text": [
      "                                                                                \r"
     ]
    },
    {
     "name": "stdout",
     "output_type": "stream",
     "text": [
      "23/02/11 13:46:20 WARN TaskSetManager: Stage 111 contains a task of very large size (24887 KiB). The maximum recommended task size is 1000 KiB.\n"
     ]
    },
    {
     "name": "stderr",
     "output_type": "stream",
     "text": [
      "                                                                                \r"
     ]
    },
    {
     "name": "stdout",
     "output_type": "stream",
     "text": [
      "23/02/11 13:47:11 WARN TaskSetManager: Stage 114 contains a task of very large size (24887 KiB). The maximum recommended task size is 1000 KiB.\n"
     ]
    },
    {
     "name": "stderr",
     "output_type": "stream",
     "text": [
      "                                                                                \r"
     ]
    },
    {
     "name": "stdout",
     "output_type": "stream",
     "text": [
      "23/02/11 13:48:29 WARN TaskSetManager: Stage 117 contains a task of very large size (24887 KiB). The maximum recommended task size is 1000 KiB.\n"
     ]
    },
    {
     "name": "stderr",
     "output_type": "stream",
     "text": [
      "                                                                                \r"
     ]
    },
    {
     "name": "stdout",
     "output_type": "stream",
     "text": [
      "23/02/11 13:48:57 WARN TaskSetManager: Stage 120 contains a task of very large size (24887 KiB). The maximum recommended task size is 1000 KiB.\n"
     ]
    },
    {
     "name": "stderr",
     "output_type": "stream",
     "text": [
      "                                                                                \r"
     ]
    },
    {
     "name": "stdout",
     "output_type": "stream",
     "text": [
      "23/02/11 13:51:27 WARN TaskSetManager: Stage 123 contains a task of very large size (24887 KiB). The maximum recommended task size is 1000 KiB.\n"
     ]
    },
    {
     "name": "stderr",
     "output_type": "stream",
     "text": [
      "                                                                                \r"
     ]
    },
    {
     "name": "stdout",
     "output_type": "stream",
     "text": [
      "23/02/11 13:52:02 WARN TaskSetManager: Stage 126 contains a task of very large size (24887 KiB). The maximum recommended task size is 1000 KiB.\n"
     ]
    },
    {
     "name": "stderr",
     "output_type": "stream",
     "text": [
      "                                                                                \r"
     ]
    },
    {
     "name": "stdout",
     "output_type": "stream",
     "text": [
      "23/02/11 13:52:21 WARN TaskSetManager: Stage 129 contains a task of very large size (24887 KiB). The maximum recommended task size is 1000 KiB.\n"
     ]
    },
    {
     "name": "stderr",
     "output_type": "stream",
     "text": [
      "                                                                                \r"
     ]
    },
    {
     "name": "stdout",
     "output_type": "stream",
     "text": [
      "23/02/11 13:52:46 WARN TaskSetManager: Stage 132 contains a task of very large size (24887 KiB). The maximum recommended task size is 1000 KiB.\n"
     ]
    },
    {
     "name": "stderr",
     "output_type": "stream",
     "text": [
      "                                                                                \r"
     ]
    },
    {
     "name": "stdout",
     "output_type": "stream",
     "text": [
      "23/02/11 13:53:34 WARN TaskSetManager: Stage 135 contains a task of very large size (24887 KiB). The maximum recommended task size is 1000 KiB.\n"
     ]
    },
    {
     "name": "stderr",
     "output_type": "stream",
     "text": [
      "                                                                                \r"
     ]
    },
    {
     "name": "stdout",
     "output_type": "stream",
     "text": [
      "23/02/11 13:54:27 WARN TaskSetManager: Stage 138 contains a task of very large size (24887 KiB). The maximum recommended task size is 1000 KiB.\n"
     ]
    },
    {
     "name": "stderr",
     "output_type": "stream",
     "text": [
      "                                                                                \r"
     ]
    },
    {
     "name": "stdout",
     "output_type": "stream",
     "text": [
      "23/02/11 13:55:17 WARN TaskSetManager: Stage 141 contains a task of very large size (24887 KiB). The maximum recommended task size is 1000 KiB.\n"
     ]
    },
    {
     "name": "stderr",
     "output_type": "stream",
     "text": [
      "                                                                                \r"
     ]
    },
    {
     "name": "stdout",
     "output_type": "stream",
     "text": [
      "23/02/11 13:55:38 WARN TaskSetManager: Stage 144 contains a task of very large size (24887 KiB). The maximum recommended task size is 1000 KiB.\n"
     ]
    },
    {
     "name": "stderr",
     "output_type": "stream",
     "text": [
      "                                                                                \r"
     ]
    },
    {
     "name": "stdout",
     "output_type": "stream",
     "text": [
      "23/02/11 13:55:55 WARN TaskSetManager: Stage 147 contains a task of very large size (24887 KiB). The maximum recommended task size is 1000 KiB.\n"
     ]
    },
    {
     "name": "stderr",
     "output_type": "stream",
     "text": [
      "[Stage 150:>                                                        (0 + 0) / 1]\r"
     ]
    },
    {
     "name": "stdout",
     "output_type": "stream",
     "text": [
      "23/02/11 13:56:31 WARN TaskSetManager: Stage 150 contains a task of very large size (24887 KiB). The maximum recommended task size is 1000 KiB.\n"
     ]
    },
    {
     "name": "stderr",
     "output_type": "stream",
     "text": [
      "                                                                                \r"
     ]
    },
    {
     "name": "stdout",
     "output_type": "stream",
     "text": [
      "23/02/11 13:57:28 WARN TaskSetManager: Stage 153 contains a task of very large size (24887 KiB). The maximum recommended task size is 1000 KiB.\n"
     ]
    },
    {
     "name": "stderr",
     "output_type": "stream",
     "text": [
      "                                                                                \r"
     ]
    },
    {
     "name": "stdout",
     "output_type": "stream",
     "text": [
      "23/02/11 13:59:02 WARN TaskSetManager: Stage 156 contains a task of very large size (24887 KiB). The maximum recommended task size is 1000 KiB.\n"
     ]
    },
    {
     "name": "stderr",
     "output_type": "stream",
     "text": [
      "                                                                                \r"
     ]
    },
    {
     "name": "stdout",
     "output_type": "stream",
     "text": [
      "23/02/11 14:00:19 WARN TaskSetManager: Stage 159 contains a task of very large size (24887 KiB). The maximum recommended task size is 1000 KiB.\n"
     ]
    },
    {
     "name": "stderr",
     "output_type": "stream",
     "text": [
      "                                                                                \r"
     ]
    },
    {
     "name": "stdout",
     "output_type": "stream",
     "text": [
      "23/02/11 14:00:50 WARN TaskSetManager: Stage 162 contains a task of very large size (24887 KiB). The maximum recommended task size is 1000 KiB.\n"
     ]
    },
    {
     "name": "stderr",
     "output_type": "stream",
     "text": [
      "                                                                                \r"
     ]
    },
    {
     "name": "stdout",
     "output_type": "stream",
     "text": [
      "23/02/11 14:01:16 WARN TaskSetManager: Stage 165 contains a task of very large size (24887 KiB). The maximum recommended task size is 1000 KiB.\n"
     ]
    },
    {
     "name": "stderr",
     "output_type": "stream",
     "text": [
      "                                                                                \r"
     ]
    },
    {
     "name": "stdout",
     "output_type": "stream",
     "text": [
      "23/02/11 14:01:51 WARN TaskSetManager: Stage 168 contains a task of very large size (24887 KiB). The maximum recommended task size is 1000 KiB.\n"
     ]
    },
    {
     "name": "stderr",
     "output_type": "stream",
     "text": [
      "[Stage 171:>                                                        (0 + 1) / 1]\r"
     ]
    },
    {
     "name": "stdout",
     "output_type": "stream",
     "text": [
      "23/02/11 14:02:14 WARN TaskSetManager: Stage 171 contains a task of very large size (24887 KiB). The maximum recommended task size is 1000 KiB.\n"
     ]
    },
    {
     "name": "stderr",
     "output_type": "stream",
     "text": [
      "[Stage 174:>                                                        (0 + 1) / 1]\r"
     ]
    },
    {
     "name": "stdout",
     "output_type": "stream",
     "text": [
      "23/02/11 14:02:55 WARN TaskSetManager: Stage 174 contains a task of very large size (24887 KiB). The maximum recommended task size is 1000 KiB.\n"
     ]
    },
    {
     "name": "stderr",
     "output_type": "stream",
     "text": [
      "                                                                                \r"
     ]
    },
    {
     "name": "stdout",
     "output_type": "stream",
     "text": [
      "23/02/11 14:03:58 WARN TaskSetManager: Stage 177 contains a task of very large size (24887 KiB). The maximum recommended task size is 1000 KiB.\n"
     ]
    },
    {
     "name": "stderr",
     "output_type": "stream",
     "text": [
      "                                                                                \r"
     ]
    },
    {
     "name": "stdout",
     "output_type": "stream",
     "text": [
      "23/02/11 14:04:46 WARN TaskSetManager: Stage 180 contains a task of very large size (24887 KiB). The maximum recommended task size is 1000 KiB.\n"
     ]
    },
    {
     "name": "stderr",
     "output_type": "stream",
     "text": [
      "                                                                                \r"
     ]
    },
    {
     "name": "stdout",
     "output_type": "stream",
     "text": [
      "23/02/11 14:05:20 WARN TaskSetManager: Stage 183 contains a task of very large size (24887 KiB). The maximum recommended task size is 1000 KiB.\n"
     ]
    },
    {
     "name": "stderr",
     "output_type": "stream",
     "text": [
      "                                                                                \r"
     ]
    },
    {
     "name": "stdout",
     "output_type": "stream",
     "text": [
      "23/02/11 14:06:35 WARN TaskSetManager: Stage 186 contains a task of very large size (24887 KiB). The maximum recommended task size is 1000 KiB.\n"
     ]
    },
    {
     "name": "stderr",
     "output_type": "stream",
     "text": [
      "[Stage 189:>                                                        (0 + 0) / 1]\r"
     ]
    },
    {
     "name": "stdout",
     "output_type": "stream",
     "text": [
      "23/02/11 14:07:49 WARN TaskSetManager: Stage 189 contains a task of very large size (24887 KiB). The maximum recommended task size is 1000 KiB.\n"
     ]
    },
    {
     "name": "stderr",
     "output_type": "stream",
     "text": [
      "                                                                                \r"
     ]
    },
    {
     "name": "stdout",
     "output_type": "stream",
     "text": [
      "23/02/11 14:09:31 WARN TaskSetManager: Stage 192 contains a task of very large size (24887 KiB). The maximum recommended task size is 1000 KiB.\n"
     ]
    },
    {
     "name": "stderr",
     "output_type": "stream",
     "text": [
      "[Stage 195:>                                                        (0 + 1) / 1]\r"
     ]
    },
    {
     "name": "stdout",
     "output_type": "stream",
     "text": [
      "23/02/11 14:10:27 WARN TaskSetManager: Stage 195 contains a task of very large size (24887 KiB). The maximum recommended task size is 1000 KiB.\n"
     ]
    },
    {
     "name": "stderr",
     "output_type": "stream",
     "text": [
      "                                                                                \r"
     ]
    },
    {
     "name": "stdout",
     "output_type": "stream",
     "text": [
      "23/02/11 14:12:35 WARN TaskSetManager: Stage 198 contains a task of very large size (24887 KiB). The maximum recommended task size is 1000 KiB.\n"
     ]
    },
    {
     "name": "stderr",
     "output_type": "stream",
     "text": [
      "[Stage 201:>                                                        (0 + 0) / 1]\r"
     ]
    },
    {
     "name": "stdout",
     "output_type": "stream",
     "text": [
      "23/02/11 14:14:11 WARN TaskSetManager: Stage 201 contains a task of very large size (24887 KiB). The maximum recommended task size is 1000 KiB.\n"
     ]
    },
    {
     "name": "stderr",
     "output_type": "stream",
     "text": [
      "                                                                                \r"
     ]
    },
    {
     "name": "stdout",
     "output_type": "stream",
     "text": [
      "23/02/11 14:16:05 WARN TaskSetManager: Stage 204 contains a task of very large size (24887 KiB). The maximum recommended task size is 1000 KiB.\n"
     ]
    },
    {
     "name": "stderr",
     "output_type": "stream",
     "text": [
      "                                                                                \r"
     ]
    },
    {
     "name": "stdout",
     "output_type": "stream",
     "text": [
      "23/02/11 14:16:34 WARN TaskSetManager: Stage 207 contains a task of very large size (24887 KiB). The maximum recommended task size is 1000 KiB.\n"
     ]
    },
    {
     "name": "stderr",
     "output_type": "stream",
     "text": [
      "                                                                                \r"
     ]
    },
    {
     "name": "stdout",
     "output_type": "stream",
     "text": [
      "23/02/11 14:16:59 WARN TaskSetManager: Stage 210 contains a task of very large size (24887 KiB). The maximum recommended task size is 1000 KiB.\n"
     ]
    },
    {
     "name": "stderr",
     "output_type": "stream",
     "text": [
      "                                                                                \r"
     ]
    },
    {
     "name": "stdout",
     "output_type": "stream",
     "text": [
      "23/02/11 14:17:40 WARN TaskSetManager: Stage 213 contains a task of very large size (24887 KiB). The maximum recommended task size is 1000 KiB.\n"
     ]
    },
    {
     "name": "stderr",
     "output_type": "stream",
     "text": [
      "                                                                                \r"
     ]
    },
    {
     "name": "stdout",
     "output_type": "stream",
     "text": [
      "23/02/11 14:18:21 WARN TaskSetManager: Stage 216 contains a task of very large size (24887 KiB). The maximum recommended task size is 1000 KiB.\n"
     ]
    },
    {
     "name": "stderr",
     "output_type": "stream",
     "text": [
      "                                                                                \r"
     ]
    },
    {
     "name": "stdout",
     "output_type": "stream",
     "text": [
      "23/02/11 14:19:46 WARN TaskSetManager: Stage 219 contains a task of very large size (24887 KiB). The maximum recommended task size is 1000 KiB.\n"
     ]
    },
    {
     "name": "stderr",
     "output_type": "stream",
     "text": [
      "                                                                                \r"
     ]
    },
    {
     "name": "stdout",
     "output_type": "stream",
     "text": [
      "23/02/11 14:20:16 WARN TaskSetManager: Stage 222 contains a task of very large size (24887 KiB). The maximum recommended task size is 1000 KiB.\n"
     ]
    },
    {
     "name": "stderr",
     "output_type": "stream",
     "text": [
      "                                                                                \r"
     ]
    },
    {
     "name": "stdout",
     "output_type": "stream",
     "text": [
      "23/02/11 14:20:32 WARN TaskSetManager: Stage 225 contains a task of very large size (24887 KiB). The maximum recommended task size is 1000 KiB.\n"
     ]
    },
    {
     "name": "stderr",
     "output_type": "stream",
     "text": [
      "                                                                                \r"
     ]
    },
    {
     "name": "stdout",
     "output_type": "stream",
     "text": [
      "23/02/11 14:21:42 WARN TaskSetManager: Stage 228 contains a task of very large size (24887 KiB). The maximum recommended task size is 1000 KiB.\n"
     ]
    },
    {
     "name": "stderr",
     "output_type": "stream",
     "text": [
      "                                                                                \r"
     ]
    },
    {
     "name": "stdout",
     "output_type": "stream",
     "text": [
      "23/02/11 14:22:12 WARN TaskSetManager: Stage 231 contains a task of very large size (24887 KiB). The maximum recommended task size is 1000 KiB.\n"
     ]
    },
    {
     "name": "stderr",
     "output_type": "stream",
     "text": [
      "                                                                                \r"
     ]
    },
    {
     "name": "stdout",
     "output_type": "stream",
     "text": [
      "23/02/11 14:22:28 WARN TaskSetManager: Stage 234 contains a task of very large size (24887 KiB). The maximum recommended task size is 1000 KiB.\n"
     ]
    },
    {
     "name": "stderr",
     "output_type": "stream",
     "text": [
      "                                                                                \r"
     ]
    },
    {
     "name": "stdout",
     "output_type": "stream",
     "text": [
      "23/02/11 14:22:48 WARN TaskSetManager: Stage 237 contains a task of very large size (24887 KiB). The maximum recommended task size is 1000 KiB.\n"
     ]
    },
    {
     "name": "stderr",
     "output_type": "stream",
     "text": [
      "                                                                                \r"
     ]
    },
    {
     "name": "stdout",
     "output_type": "stream",
     "text": [
      "23/02/11 14:23:04 WARN TaskSetManager: Stage 240 contains a task of very large size (24887 KiB). The maximum recommended task size is 1000 KiB.\n"
     ]
    },
    {
     "name": "stderr",
     "output_type": "stream",
     "text": [
      "                                                                                \r"
     ]
    },
    {
     "name": "stdout",
     "output_type": "stream",
     "text": [
      "23/02/11 14:23:44 WARN TaskSetManager: Stage 243 contains a task of very large size (24887 KiB). The maximum recommended task size is 1000 KiB.\n"
     ]
    },
    {
     "name": "stderr",
     "output_type": "stream",
     "text": [
      "                                                                                \r"
     ]
    },
    {
     "name": "stdout",
     "output_type": "stream",
     "text": [
      "23/02/11 14:24:18 WARN TaskSetManager: Stage 246 contains a task of very large size (24887 KiB). The maximum recommended task size is 1000 KiB.\n"
     ]
    },
    {
     "name": "stderr",
     "output_type": "stream",
     "text": [
      "                                                                                \r"
     ]
    },
    {
     "name": "stdout",
     "output_type": "stream",
     "text": [
      "23/02/11 14:24:33 WARN TaskSetManager: Stage 249 contains a task of very large size (24887 KiB). The maximum recommended task size is 1000 KiB.\n"
     ]
    },
    {
     "name": "stderr",
     "output_type": "stream",
     "text": [
      "                                                                                \r"
     ]
    },
    {
     "name": "stdout",
     "output_type": "stream",
     "text": [
      "23/02/11 14:25:55 WARN TaskSetManager: Stage 252 contains a task of very large size (24887 KiB). The maximum recommended task size is 1000 KiB.\n"
     ]
    },
    {
     "name": "stderr",
     "output_type": "stream",
     "text": [
      "                                                                                \r"
     ]
    },
    {
     "name": "stdout",
     "output_type": "stream",
     "text": [
      "23/02/11 14:26:28 WARN TaskSetManager: Stage 255 contains a task of very large size (24887 KiB). The maximum recommended task size is 1000 KiB.\n"
     ]
    },
    {
     "name": "stderr",
     "output_type": "stream",
     "text": [
      "                                                                                \r"
     ]
    },
    {
     "name": "stdout",
     "output_type": "stream",
     "text": [
      "23/02/11 14:26:53 WARN TaskSetManager: Stage 258 contains a task of very large size (24887 KiB). The maximum recommended task size is 1000 KiB.\n"
     ]
    },
    {
     "name": "stderr",
     "output_type": "stream",
     "text": [
      "                                                                                \r"
     ]
    },
    {
     "name": "stdout",
     "output_type": "stream",
     "text": [
      "23/02/11 14:27:06 WARN TaskSetManager: Stage 261 contains a task of very large size (24887 KiB). The maximum recommended task size is 1000 KiB.\n"
     ]
    },
    {
     "name": "stderr",
     "output_type": "stream",
     "text": [
      "                                                                                \r"
     ]
    },
    {
     "name": "stdout",
     "output_type": "stream",
     "text": [
      "23/02/11 14:28:03 WARN TaskSetManager: Stage 264 contains a task of very large size (24887 KiB). The maximum recommended task size is 1000 KiB.\n"
     ]
    },
    {
     "name": "stderr",
     "output_type": "stream",
     "text": [
      "                                                                                \r"
     ]
    },
    {
     "name": "stdout",
     "output_type": "stream",
     "text": [
      "23/02/11 14:28:29 WARN TaskSetManager: Stage 267 contains a task of very large size (24887 KiB). The maximum recommended task size is 1000 KiB.\n"
     ]
    },
    {
     "name": "stderr",
     "output_type": "stream",
     "text": [
      "                                                                                \r"
     ]
    },
    {
     "name": "stdout",
     "output_type": "stream",
     "text": [
      "23/02/11 14:29:26 WARN TaskSetManager: Stage 270 contains a task of very large size (24887 KiB). The maximum recommended task size is 1000 KiB.\n"
     ]
    },
    {
     "name": "stderr",
     "output_type": "stream",
     "text": [
      "                                                                                \r"
     ]
    },
    {
     "name": "stdout",
     "output_type": "stream",
     "text": [
      "23/02/11 14:29:56 WARN TaskSetManager: Stage 273 contains a task of very large size (24887 KiB). The maximum recommended task size is 1000 KiB.\n"
     ]
    },
    {
     "name": "stderr",
     "output_type": "stream",
     "text": [
      "                                                                                \r"
     ]
    },
    {
     "name": "stdout",
     "output_type": "stream",
     "text": [
      "23/02/11 14:31:14 WARN TaskSetManager: Stage 276 contains a task of very large size (24887 KiB). The maximum recommended task size is 1000 KiB.\n"
     ]
    },
    {
     "name": "stderr",
     "output_type": "stream",
     "text": [
      "                                                                                \r"
     ]
    },
    {
     "name": "stdout",
     "output_type": "stream",
     "text": [
      "23/02/11 14:31:57 WARN TaskSetManager: Stage 279 contains a task of very large size (24887 KiB). The maximum recommended task size is 1000 KiB.\n"
     ]
    },
    {
     "name": "stderr",
     "output_type": "stream",
     "text": [
      "                                                                                \r"
     ]
    },
    {
     "name": "stdout",
     "output_type": "stream",
     "text": [
      "23/02/11 14:32:35 WARN TaskSetManager: Stage 282 contains a task of very large size (24887 KiB). The maximum recommended task size is 1000 KiB.\n"
     ]
    },
    {
     "name": "stderr",
     "output_type": "stream",
     "text": [
      "                                                                                \r"
     ]
    },
    {
     "name": "stdout",
     "output_type": "stream",
     "text": [
      "23/02/11 14:33:04 WARN TaskSetManager: Stage 285 contains a task of very large size (24887 KiB). The maximum recommended task size is 1000 KiB.\n"
     ]
    },
    {
     "name": "stderr",
     "output_type": "stream",
     "text": [
      "                                                                                \r"
     ]
    },
    {
     "name": "stdout",
     "output_type": "stream",
     "text": [
      "23/02/11 14:33:18 WARN TaskSetManager: Stage 288 contains a task of very large size (24887 KiB). The maximum recommended task size is 1000 KiB.\n"
     ]
    },
    {
     "name": "stderr",
     "output_type": "stream",
     "text": [
      "                                                                                \r"
     ]
    },
    {
     "name": "stdout",
     "output_type": "stream",
     "text": [
      "23/02/11 14:33:47 WARN TaskSetManager: Stage 291 contains a task of very large size (24887 KiB). The maximum recommended task size is 1000 KiB.\n"
     ]
    },
    {
     "name": "stderr",
     "output_type": "stream",
     "text": [
      "                                                                                \r"
     ]
    },
    {
     "name": "stdout",
     "output_type": "stream",
     "text": [
      "23/02/11 14:34:33 WARN TaskSetManager: Stage 294 contains a task of very large size (24887 KiB). The maximum recommended task size is 1000 KiB.\n"
     ]
    },
    {
     "name": "stderr",
     "output_type": "stream",
     "text": [
      "                                                                                \r"
     ]
    },
    {
     "name": "stdout",
     "output_type": "stream",
     "text": [
      "23/02/11 14:35:15 WARN TaskSetManager: Stage 297 contains a task of very large size (24887 KiB). The maximum recommended task size is 1000 KiB.\n"
     ]
    },
    {
     "name": "stderr",
     "output_type": "stream",
     "text": [
      "[Stage 300:>                                                        (0 + 0) / 1]\r"
     ]
    },
    {
     "name": "stdout",
     "output_type": "stream",
     "text": [
      "23/02/11 14:35:53 WARN TaskSetManager: Stage 300 contains a task of very large size (24887 KiB). The maximum recommended task size is 1000 KiB.\n"
     ]
    },
    {
     "name": "stderr",
     "output_type": "stream",
     "text": [
      "[Stage 303:>                                                        (0 + 0) / 1]\r"
     ]
    },
    {
     "name": "stdout",
     "output_type": "stream",
     "text": [
      "23/02/11 14:36:31 WARN TaskSetManager: Stage 303 contains a task of very large size (24887 KiB). The maximum recommended task size is 1000 KiB.\n"
     ]
    },
    {
     "name": "stderr",
     "output_type": "stream",
     "text": [
      "                                                                                \r"
     ]
    },
    {
     "name": "stdout",
     "output_type": "stream",
     "text": [
      "23/02/11 14:38:46 WARN TaskSetManager: Stage 306 contains a task of very large size (24887 KiB). The maximum recommended task size is 1000 KiB.\n"
     ]
    },
    {
     "name": "stderr",
     "output_type": "stream",
     "text": [
      "[Stage 309:>                                                        (0 + 0) / 1]\r"
     ]
    },
    {
     "name": "stdout",
     "output_type": "stream",
     "text": [
      "23/02/11 14:39:24 WARN TaskSetManager: Stage 309 contains a task of very large size (24887 KiB). The maximum recommended task size is 1000 KiB.\n"
     ]
    },
    {
     "name": "stderr",
     "output_type": "stream",
     "text": [
      "[Stage 312:>                                                        (0 + 0) / 1]\r"
     ]
    },
    {
     "name": "stdout",
     "output_type": "stream",
     "text": [
      "23/02/11 14:40:43 WARN TaskSetManager: Stage 312 contains a task of very large size (24887 KiB). The maximum recommended task size is 1000 KiB.\n"
     ]
    },
    {
     "name": "stderr",
     "output_type": "stream",
     "text": [
      "                                                                                \r"
     ]
    },
    {
     "name": "stdout",
     "output_type": "stream",
     "text": [
      "23/02/11 14:42:14 WARN TaskSetManager: Stage 315 contains a task of very large size (24887 KiB). The maximum recommended task size is 1000 KiB.\n"
     ]
    },
    {
     "name": "stderr",
     "output_type": "stream",
     "text": [
      "                                                                                \r"
     ]
    },
    {
     "name": "stdout",
     "output_type": "stream",
     "text": [
      "23/02/11 14:43:20 WARN TaskSetManager: Stage 318 contains a task of very large size (24887 KiB). The maximum recommended task size is 1000 KiB.\n"
     ]
    },
    {
     "name": "stderr",
     "output_type": "stream",
     "text": [
      "[Stage 321:>                                                        (0 + 1) / 1]\r"
     ]
    },
    {
     "name": "stdout",
     "output_type": "stream",
     "text": [
      "23/02/11 14:44:51 WARN TaskSetManager: Stage 321 contains a task of very large size (24887 KiB). The maximum recommended task size is 1000 KiB.\n"
     ]
    },
    {
     "name": "stderr",
     "output_type": "stream",
     "text": [
      "[Stage 324:>                                                        (0 + 0) / 1]\r"
     ]
    },
    {
     "name": "stdout",
     "output_type": "stream",
     "text": [
      "23/02/11 14:49:08 WARN TaskSetManager: Stage 324 contains a task of very large size (24887 KiB). The maximum recommended task size is 1000 KiB.\n"
     ]
    },
    {
     "name": "stderr",
     "output_type": "stream",
     "text": [
      "                                                                                \r"
     ]
    },
    {
     "name": "stdout",
     "output_type": "stream",
     "text": [
      "23/02/11 14:49:41 WARN TaskSetManager: Stage 327 contains a task of very large size (24887 KiB). The maximum recommended task size is 1000 KiB.\n"
     ]
    },
    {
     "name": "stderr",
     "output_type": "stream",
     "text": [
      "[Stage 330:>                                                        (0 + 1) / 1]\r"
     ]
    },
    {
     "name": "stdout",
     "output_type": "stream",
     "text": [
      "23/02/11 14:50:15 WARN TaskSetManager: Stage 330 contains a task of very large size (24887 KiB). The maximum recommended task size is 1000 KiB.\n"
     ]
    },
    {
     "name": "stderr",
     "output_type": "stream",
     "text": [
      "                                                                                \r"
     ]
    },
    {
     "name": "stdout",
     "output_type": "stream",
     "text": [
      "23/02/11 14:50:34 WARN TaskSetManager: Stage 333 contains a task of very large size (24887 KiB). The maximum recommended task size is 1000 KiB.\n"
     ]
    },
    {
     "name": "stderr",
     "output_type": "stream",
     "text": [
      "[Stage 336:>                                                        (0 + 1) / 1]\r"
     ]
    },
    {
     "name": "stdout",
     "output_type": "stream",
     "text": [
      "23/02/11 14:53:07 WARN TaskSetManager: Stage 336 contains a task of very large size (24887 KiB). The maximum recommended task size is 1000 KiB.\n"
     ]
    },
    {
     "name": "stderr",
     "output_type": "stream",
     "text": [
      "                                                                                \r"
     ]
    },
    {
     "name": "stdout",
     "output_type": "stream",
     "text": [
      "23/02/11 14:53:51 WARN TaskSetManager: Stage 339 contains a task of very large size (24887 KiB). The maximum recommended task size is 1000 KiB.\n"
     ]
    },
    {
     "name": "stderr",
     "output_type": "stream",
     "text": [
      "[Stage 342:>                                                        (0 + 0) / 1]\r"
     ]
    },
    {
     "name": "stdout",
     "output_type": "stream",
     "text": [
      "23/02/11 14:56:27 WARN TaskSetManager: Stage 342 contains a task of very large size (24887 KiB). The maximum recommended task size is 1000 KiB.\n"
     ]
    },
    {
     "name": "stderr",
     "output_type": "stream",
     "text": [
      "                                                                                \r"
     ]
    },
    {
     "name": "stdout",
     "output_type": "stream",
     "text": [
      "23/02/11 14:57:07 WARN TaskSetManager: Stage 345 contains a task of very large size (24887 KiB). The maximum recommended task size is 1000 KiB.\n"
     ]
    },
    {
     "name": "stderr",
     "output_type": "stream",
     "text": [
      "                                                                                \r"
     ]
    },
    {
     "name": "stdout",
     "output_type": "stream",
     "text": [
      "23/02/11 14:57:28 WARN TaskSetManager: Stage 348 contains a task of very large size (24887 KiB). The maximum recommended task size is 1000 KiB.\n"
     ]
    },
    {
     "name": "stderr",
     "output_type": "stream",
     "text": [
      "                                                                                \r"
     ]
    },
    {
     "name": "stdout",
     "output_type": "stream",
     "text": [
      "23/02/11 14:58:04 WARN TaskSetManager: Stage 351 contains a task of very large size (24887 KiB). The maximum recommended task size is 1000 KiB.\n"
     ]
    },
    {
     "name": "stderr",
     "output_type": "stream",
     "text": [
      "                                                                                \r"
     ]
    },
    {
     "name": "stdout",
     "output_type": "stream",
     "text": [
      "23/02/11 14:58:21 WARN TaskSetManager: Stage 354 contains a task of very large size (24887 KiB). The maximum recommended task size is 1000 KiB.\n"
     ]
    },
    {
     "name": "stderr",
     "output_type": "stream",
     "text": [
      "                                                                                \r"
     ]
    },
    {
     "name": "stdout",
     "output_type": "stream",
     "text": [
      "23/02/11 14:58:53 WARN TaskSetManager: Stage 357 contains a task of very large size (24887 KiB). The maximum recommended task size is 1000 KiB.\n"
     ]
    },
    {
     "name": "stderr",
     "output_type": "stream",
     "text": [
      "                                                                                \r"
     ]
    },
    {
     "name": "stdout",
     "output_type": "stream",
     "text": [
      "23/02/11 14:59:56 WARN TaskSetManager: Stage 360 contains a task of very large size (24887 KiB). The maximum recommended task size is 1000 KiB.\n"
     ]
    },
    {
     "name": "stderr",
     "output_type": "stream",
     "text": [
      "                                                                                \r"
     ]
    },
    {
     "name": "stdout",
     "output_type": "stream",
     "text": [
      "23/02/11 15:00:34 WARN TaskSetManager: Stage 363 contains a task of very large size (24887 KiB). The maximum recommended task size is 1000 KiB.\n"
     ]
    },
    {
     "name": "stderr",
     "output_type": "stream",
     "text": [
      "                                                                                \r"
     ]
    },
    {
     "name": "stdout",
     "output_type": "stream",
     "text": [
      "23/02/11 15:00:55 WARN TaskSetManager: Stage 366 contains a task of very large size (24887 KiB). The maximum recommended task size is 1000 KiB.\n"
     ]
    },
    {
     "name": "stderr",
     "output_type": "stream",
     "text": [
      "                                                                                \r"
     ]
    },
    {
     "name": "stdout",
     "output_type": "stream",
     "text": [
      "23/02/11 15:01:22 WARN TaskSetManager: Stage 369 contains a task of very large size (24887 KiB). The maximum recommended task size is 1000 KiB.\n"
     ]
    },
    {
     "name": "stderr",
     "output_type": "stream",
     "text": [
      "                                                                                \r"
     ]
    },
    {
     "name": "stdout",
     "output_type": "stream",
     "text": [
      "23/02/11 15:02:04 WARN TaskSetManager: Stage 372 contains a task of very large size (24887 KiB). The maximum recommended task size is 1000 KiB.\n"
     ]
    },
    {
     "name": "stderr",
     "output_type": "stream",
     "text": [
      "                                                                                \r"
     ]
    },
    {
     "name": "stdout",
     "output_type": "stream",
     "text": [
      "23/02/11 15:02:23 WARN TaskSetManager: Stage 375 contains a task of very large size (24887 KiB). The maximum recommended task size is 1000 KiB.\n"
     ]
    },
    {
     "name": "stderr",
     "output_type": "stream",
     "text": [
      "                                                                                \r"
     ]
    },
    {
     "name": "stdout",
     "output_type": "stream",
     "text": [
      "23/02/11 15:02:51 WARN TaskSetManager: Stage 378 contains a task of very large size (24887 KiB). The maximum recommended task size is 1000 KiB.\n"
     ]
    },
    {
     "name": "stderr",
     "output_type": "stream",
     "text": [
      "                                                                                \r"
     ]
    },
    {
     "name": "stdout",
     "output_type": "stream",
     "text": [
      "23/02/11 15:03:41 WARN TaskSetManager: Stage 381 contains a task of very large size (24887 KiB). The maximum recommended task size is 1000 KiB.\n"
     ]
    },
    {
     "name": "stderr",
     "output_type": "stream",
     "text": [
      "                                                                                \r"
     ]
    },
    {
     "name": "stdout",
     "output_type": "stream",
     "text": [
      "23/02/11 15:03:58 WARN TaskSetManager: Stage 384 contains a task of very large size (24887 KiB). The maximum recommended task size is 1000 KiB.\n"
     ]
    },
    {
     "name": "stderr",
     "output_type": "stream",
     "text": [
      "                                                                                \r"
     ]
    },
    {
     "name": "stdout",
     "output_type": "stream",
     "text": [
      "23/02/11 15:04:55 WARN TaskSetManager: Stage 387 contains a task of very large size (24887 KiB). The maximum recommended task size is 1000 KiB.\n"
     ]
    },
    {
     "name": "stderr",
     "output_type": "stream",
     "text": [
      "                                                                                \r"
     ]
    },
    {
     "name": "stdout",
     "output_type": "stream",
     "text": [
      "23/02/11 15:05:29 WARN TaskSetManager: Stage 390 contains a task of very large size (24887 KiB). The maximum recommended task size is 1000 KiB.\n"
     ]
    },
    {
     "name": "stderr",
     "output_type": "stream",
     "text": [
      "[Stage 393:>                                                        (0 + 1) / 1]\r"
     ]
    },
    {
     "name": "stdout",
     "output_type": "stream",
     "text": [
      "23/02/11 15:06:07 WARN TaskSetManager: Stage 393 contains a task of very large size (24887 KiB). The maximum recommended task size is 1000 KiB.\n"
     ]
    },
    {
     "name": "stderr",
     "output_type": "stream",
     "text": [
      "                                                                                \r"
     ]
    },
    {
     "name": "stdout",
     "output_type": "stream",
     "text": [
      "23/02/11 15:08:06 WARN TaskSetManager: Stage 396 contains a task of very large size (24887 KiB). The maximum recommended task size is 1000 KiB.\n"
     ]
    },
    {
     "name": "stderr",
     "output_type": "stream",
     "text": [
      "                                                                                \r"
     ]
    },
    {
     "name": "stdout",
     "output_type": "stream",
     "text": [
      "23/02/11 15:08:48 WARN TaskSetManager: Stage 399 contains a task of very large size (24887 KiB). The maximum recommended task size is 1000 KiB.\n"
     ]
    },
    {
     "name": "stderr",
     "output_type": "stream",
     "text": [
      "                                                                                \r"
     ]
    },
    {
     "name": "stdout",
     "output_type": "stream",
     "text": [
      "23/02/11 15:10:25 WARN TaskSetManager: Stage 402 contains a task of very large size (24887 KiB). The maximum recommended task size is 1000 KiB.\n"
     ]
    },
    {
     "name": "stderr",
     "output_type": "stream",
     "text": [
      "[Stage 405:>                                                        (0 + 0) / 1]\r"
     ]
    },
    {
     "name": "stdout",
     "output_type": "stream",
     "text": [
      "23/02/11 15:11:14 WARN TaskSetManager: Stage 405 contains a task of very large size (24887 KiB). The maximum recommended task size is 1000 KiB.\n"
     ]
    },
    {
     "name": "stderr",
     "output_type": "stream",
     "text": [
      "                                                                                \r"
     ]
    },
    {
     "name": "stdout",
     "output_type": "stream",
     "text": [
      "23/02/11 15:12:45 WARN TaskSetManager: Stage 408 contains a task of very large size (24887 KiB). The maximum recommended task size is 1000 KiB.\n"
     ]
    },
    {
     "name": "stderr",
     "output_type": "stream",
     "text": [
      "                                                                                \r"
     ]
    },
    {
     "name": "stdout",
     "output_type": "stream",
     "text": [
      "23/02/11 15:13:33 WARN TaskSetManager: Stage 411 contains a task of very large size (24887 KiB). The maximum recommended task size is 1000 KiB.\n"
     ]
    },
    {
     "name": "stderr",
     "output_type": "stream",
     "text": [
      "                                                                                \r"
     ]
    },
    {
     "name": "stdout",
     "output_type": "stream",
     "text": [
      "23/02/11 15:14:01 WARN TaskSetManager: Stage 414 contains a task of very large size (24887 KiB). The maximum recommended task size is 1000 KiB.\n"
     ]
    },
    {
     "name": "stderr",
     "output_type": "stream",
     "text": [
      "                                                                                \r"
     ]
    },
    {
     "name": "stdout",
     "output_type": "stream",
     "text": [
      "23/02/11 15:14:57 WARN TaskSetManager: Stage 417 contains a task of very large size (24887 KiB). The maximum recommended task size is 1000 KiB.\n"
     ]
    },
    {
     "name": "stderr",
     "output_type": "stream",
     "text": [
      "                                                                                \r"
     ]
    },
    {
     "name": "stdout",
     "output_type": "stream",
     "text": [
      "23/02/11 15:16:18 WARN TaskSetManager: Stage 420 contains a task of very large size (24887 KiB). The maximum recommended task size is 1000 KiB.\n"
     ]
    },
    {
     "name": "stderr",
     "output_type": "stream",
     "text": [
      "                                                                                \r"
     ]
    },
    {
     "name": "stdout",
     "output_type": "stream",
     "text": [
      "23/02/11 15:16:48 WARN TaskSetManager: Stage 423 contains a task of very large size (24887 KiB). The maximum recommended task size is 1000 KiB.\n"
     ]
    },
    {
     "name": "stderr",
     "output_type": "stream",
     "text": [
      "                                                                                \r"
     ]
    },
    {
     "name": "stdout",
     "output_type": "stream",
     "text": [
      "23/02/11 15:17:05 WARN TaskSetManager: Stage 426 contains a task of very large size (24887 KiB). The maximum recommended task size is 1000 KiB.\n"
     ]
    },
    {
     "name": "stderr",
     "output_type": "stream",
     "text": [
      "                                                                                \r"
     ]
    },
    {
     "name": "stdout",
     "output_type": "stream",
     "text": [
      "23/02/11 15:17:32 WARN TaskSetManager: Stage 429 contains a task of very large size (24887 KiB). The maximum recommended task size is 1000 KiB.\n"
     ]
    },
    {
     "name": "stderr",
     "output_type": "stream",
     "text": [
      "                                                                                \r"
     ]
    },
    {
     "name": "stdout",
     "output_type": "stream",
     "text": [
      "23/02/11 15:18:13 WARN TaskSetManager: Stage 432 contains a task of very large size (24887 KiB). The maximum recommended task size is 1000 KiB.\n"
     ]
    },
    {
     "name": "stderr",
     "output_type": "stream",
     "text": [
      "                                                                                \r"
     ]
    },
    {
     "name": "stdout",
     "output_type": "stream",
     "text": [
      "23/02/11 15:18:35 WARN TaskSetManager: Stage 435 contains a task of very large size (24887 KiB). The maximum recommended task size is 1000 KiB.\n"
     ]
    },
    {
     "name": "stderr",
     "output_type": "stream",
     "text": [
      "                                                                                \r"
     ]
    },
    {
     "name": "stdout",
     "output_type": "stream",
     "text": [
      "23/02/11 15:18:58 WARN TaskSetManager: Stage 438 contains a task of very large size (24887 KiB). The maximum recommended task size is 1000 KiB.\n"
     ]
    },
    {
     "name": "stderr",
     "output_type": "stream",
     "text": [
      "                                                                                \r"
     ]
    },
    {
     "name": "stdout",
     "output_type": "stream",
     "text": [
      "23/02/11 15:19:24 WARN TaskSetManager: Stage 441 contains a task of very large size (24887 KiB). The maximum recommended task size is 1000 KiB.\n"
     ]
    },
    {
     "name": "stderr",
     "output_type": "stream",
     "text": [
      "                                                                                \r"
     ]
    },
    {
     "name": "stdout",
     "output_type": "stream",
     "text": [
      "23/02/11 15:19:37 WARN TaskSetManager: Stage 444 contains a task of very large size (24887 KiB). The maximum recommended task size is 1000 KiB.\n"
     ]
    },
    {
     "name": "stderr",
     "output_type": "stream",
     "text": [
      "                                                                                \r"
     ]
    },
    {
     "name": "stdout",
     "output_type": "stream",
     "text": [
      "23/02/11 15:19:49 WARN TaskSetManager: Stage 447 contains a task of very large size (24887 KiB). The maximum recommended task size is 1000 KiB.\n"
     ]
    },
    {
     "name": "stderr",
     "output_type": "stream",
     "text": [
      "                                                                                \r"
     ]
    },
    {
     "name": "stdout",
     "output_type": "stream",
     "text": [
      "23/02/11 15:20:53 WARN TaskSetManager: Stage 450 contains a task of very large size (24887 KiB). The maximum recommended task size is 1000 KiB.\n"
     ]
    },
    {
     "name": "stderr",
     "output_type": "stream",
     "text": [
      "                                                                                \r"
     ]
    }
   ],
   "source": [
    "for partition in to_be_processed:\n",
    "    ladcd = partition.split('=')[-1]\n",
    "    oa_geo_lad_partition=spark.read.parquet(f\"{partition}\")\\\n",
    "        .filter(\"oa_poly_4326 is not null\")\\\n",
    "        .drop(\"lad_poly_4326\")\n",
    "    \n",
    "    oa_geo_lad_partition_op = oa_geo_lad_partition.alias(\"geo\").join(\n",
    "        f.broadcast(crime_point_index).alias(\"crimeIndex\"),\n",
    "        f.expr(\"\"\"\n",
    "            ST_Contains(geo.oa_poly_4326, ST_Point(crimeIndex.lat, crimeIndex.lon))\n",
    "        \"\"\"),\n",
    "        how='inner'\n",
    "    )\\\n",
    "    .withColumn(\"lad22cd\", f.lit(f\"{ladcd}\"))\\\n",
    "    .selectExpr(\n",
    "        \"oa21cd\",\n",
    "        \"lat\",\n",
    "        \"lon\",\n",
    "        \"lad22cd\"\n",
    "    )\n",
    "    oa_geo_lad_partition_op\\\n",
    "        .write.mode(\"overwrite\")\\\n",
    "        .partitionBy(\"lad22cd\")\\\n",
    "        .parquet(f\"/home/basal/cens_staging/temp/crime_index_w_oa_part_lad/\")"
   ]
  },
  {
   "cell_type": "markdown",
   "id": "3719f72e-fcd8-4827-ad7b-b6b8d74de799",
   "metadata": {},
   "source": [
    "## check output"
   ]
  },
  {
   "cell_type": "code",
   "execution_count": 4,
   "id": "609c9501-44d0-4073-9b14-b8dcceb67779",
   "metadata": {},
   "outputs": [
    {
     "name": "stderr",
     "output_type": "stream",
     "text": [
      "                                                                                \r"
     ]
    },
    {
     "data": {
      "text/plain": [
       "DataFrame[oa21cd: string, lat: double, lon: double, lad22cd: string]"
      ]
     },
     "execution_count": 4,
     "metadata": {},
     "output_type": "execute_result"
    }
   ],
   "source": [
    "crime_index_w_oa_part_lad = spark.read.parquet(f\"/home/basal/cens_staging/temp/crime_index_w_oa_part_lad/\")\n",
    "crime_index_w_oa_part_lad"
   ]
  },
  {
   "cell_type": "code",
   "execution_count": 8,
   "id": "f3704d6f-1c63-45f3-81d3-921a7fc39a76",
   "metadata": {},
   "outputs": [
    {
     "name": "stderr",
     "output_type": "stream",
     "text": [
      "                                                                                \r"
     ]
    },
    {
     "data": {
      "text/plain": [
       "331"
      ]
     },
     "execution_count": 8,
     "metadata": {},
     "output_type": "execute_result"
    }
   ],
   "source": [
    "crime_index_w_oa_part_lad.select(\"lad22cd\").distinct().count()"
   ]
  },
  {
   "cell_type": "code",
   "execution_count": 5,
   "id": "c05154e1-d5bd-4173-91a6-5c2536134123",
   "metadata": {},
   "outputs": [
    {
     "name": "stderr",
     "output_type": "stream",
     "text": [
      "                                                                                \r"
     ]
    },
    {
     "data": {
      "text/plain": [
       "1214740"
      ]
     },
     "execution_count": 5,
     "metadata": {},
     "output_type": "execute_result"
    }
   ],
   "source": [
    "crime_index_w_oa_part_lad.select(\"lat\", \"lon\").distinct().count()\n",
    "# 1,214,740\n",
    "# 1,335,466"
   ]
  },
  {
   "cell_type": "code",
   "execution_count": 7,
   "id": "b4435e06-1fdd-44a7-b083-55dc2d5edb44",
   "metadata": {},
   "outputs": [
    {
     "data": {
      "text/plain": [
       "120726"
      ]
     },
     "execution_count": 7,
     "metadata": {},
     "output_type": "execute_result"
    }
   ],
   "source": [
    "1335466 - 1214740"
   ]
  },
  {
   "cell_type": "code",
   "execution_count": 14,
   "id": "94cb5ac7-cb32-428a-9ab8-1fcb01f25ec4",
   "metadata": {},
   "outputs": [
    {
     "name": "stderr",
     "output_type": "stream",
     "text": [
      "                                                                                \r"
     ]
    }
   ],
   "source": [
    "crime_index_w_oa_part_lad_pdf = crime_index_w_oa_part_lad.toPandas()"
   ]
  },
  {
   "cell_type": "code",
   "execution_count": 16,
   "id": "5baa397f-bbb9-42e2-80e2-d5f73c9792e6",
   "metadata": {},
   "outputs": [],
   "source": [
    "import duckdb\n",
    "con = duckdb.connect(\"/home/basal/live_datasets/crimeapp.db\")"
   ]
  },
  {
   "cell_type": "code",
   "execution_count": 17,
   "id": "14c60fdb-fef0-4803-aede-3cf64e313015",
   "metadata": {},
   "outputs": [
    {
     "data": {
      "text/plain": [
       "<duckdb.DuckDBPyConnection at 0x7fc9fc1a62b0>"
      ]
     },
     "execution_count": 17,
     "metadata": {},
     "output_type": "execute_result"
    }
   ],
   "source": [
    "con.execute(\"CREATE TABLE crime_index_w_oa_part_lad_pdf AS SELECT * FROM crime_index_w_oa_part_lad_pdf\")"
   ]
  },
  {
   "cell_type": "code",
   "execution_count": 18,
   "id": "39d4654e-7715-4791-b055-0b6cf50dca77",
   "metadata": {},
   "outputs": [],
   "source": [
    "con.close()"
   ]
  },
  {
   "cell_type": "code",
   "execution_count": 6,
   "id": "7ecaf368-0383-45a8-8b7d-c686b952373b",
   "metadata": {},
   "outputs": [],
   "source": [
    "query = \"with pop as (select distinct OA21CD as oa21cd, LTLA22CD as lad22cd from oa_to_ward_mapping) select count(*) from pop\"\n",
    "oa_to_lad = sdf_df_from_query(\"crimeapp\", query, spark)"
   ]
  },
  {
   "cell_type": "code",
   "execution_count": 33,
   "id": "a7eafcf4-0291-426e-b092-9e069f81c782",
   "metadata": {},
   "outputs": [
    {
     "data": {
      "text/plain": [
       "DataFrame[oa21cd: string, oa_poly_4326: udt, lad_poly_4326: udt, lat: double, lon: double]"
      ]
     },
     "execution_count": 33,
     "metadata": {},
     "output_type": "execute_result"
    }
   ],
   "source": [
    "oa_geo_lad_partition=spark.read.parquet(f\"{partitions[0]}\")\n",
    "oa_geo_lad_partition.alias(\"geo\").join(\n",
    "    crime_point_index.alias(\"crimeIndex\"),\n",
    "    f.expr(\"\"\"\n",
    "        ST_Contains(geo.oa_poly_4326, ST_Point(crimeIndex.lat, crimeIndex.lon))\n",
    "    \"\"\"),\n",
    "    how='inner'\n",
    ")\\\n",
    ".selectExpr(\n",
    "    \"oa21cd\",\n",
    "    \"crimeIndex.lad22cd\",\n",
    "    \"lat\",\n",
    "    \"lon\",\n",
    "    \"crimeIndex.lsoa11cd\",\n",
    "    f\"lit({ladcd}) as lad22cd\"\n",
    ")\n",
    "# )\\\n",
    "# .write.mode(\"overwrite\")\\\n",
    "# .parquet(f\"/home/basal/cens_staging/temp/crime_index_w_oa_part_lad/\")"
   ]
  },
  {
   "cell_type": "code",
   "execution_count": 55,
   "id": "550eb635-4517-4c52-8216-7fd73a09226e",
   "metadata": {
    "tags": []
   },
   "outputs": [
    {
     "name": "stderr",
     "output_type": "stream",
     "text": [
      "[Stage 20:==============>(98 + 4) / 102][Stage 21:>                 (0 + 0) / 4]\r"
     ]
    },
    {
     "name": "stdout",
     "output_type": "stream",
     "text": [
      "23/02/09 12:05:06 WARN TaskSetManager: Stage 21 contains a task of very large size (14511 KiB). The maximum recommended task size is 1000 KiB.\n"
     ]
    },
    {
     "name": "stderr",
     "output_type": "stream",
     "text": [
      "                                                                                \r"
     ]
    }
   ],
   "source": [
    "oa_geo_lad_partition.alias(\"geo\").join(\n",
    "    crime_point_index.alias(\"crimeIndex\"),\n",
    "    f.expr(\"\"\"\n",
    "        ST_Contains(geo.poly_4326, ST_Point(crimeIndex.lat, crimeIndex.lon)) and\n",
    "        crimeIndex.lad22cd = geo.lad22cd\n",
    "    \"\"\"),\n",
    "    how='left'\n",
    ")\\\n",
    ".selectExpr(\n",
    "    \"oa21cd\",\n",
    "    \"crimeIndex.lad22cd\",\n",
    "    \"lat\",\n",
    "    \"lon\",\n",
    "    \"crimeIndex.lsoa11cd\"\n",
    ")\\\n",
    ".write.mode(\"overwrite\")\\\n",
    ".parquet(f\"{CENS_STAGING_PATH}/temp/crime_point_in_oa_poly/\")"
   ]
  },
  {
   "cell_type": "markdown",
   "id": "8dc5cc56-7bf2-42f7-9801-4de0bf88c4f2",
   "metadata": {},
   "source": [
    "## Map missing pcPoints Join with ladGeo"
   ]
  },
  {
   "cell_type": "code",
   "execution_count": 105,
   "id": "3d5f552f-8e09-40bd-8db6-d78e3976a23a",
   "metadata": {},
   "outputs": [],
   "source": [
    "crime_point_not_matched = spark.read.parquet(f\"{CENS_STAGING_PATH}/temp/crime_point_in_oa_poly/\")\\\n",
    ".filter(\"lat is  null\")"
   ]
  },
  {
   "cell_type": "code",
   "execution_count": 100,
   "id": "1ed6b79c-7281-48f4-a80b-21839f4e7d79",
   "metadata": {},
   "outputs": [
    {
     "data": {
      "text/plain": [
       "DataFrame[oa21cd: string, lad22cd: string, lat: double, lon: double, lsoa11cd: string]"
      ]
     },
     "execution_count": 100,
     "metadata": {},
     "output_type": "execute_result"
    }
   ],
   "source": [
    "spark.read.parquet(f\"{CENS_STAGING_PATH}/temp/crime_point_in_oa_poly/\")"
   ]
  },
  {
   "cell_type": "code",
   "execution_count": 106,
   "id": "9d1f7aaf-b088-45d0-9a3e-17682e5ab656",
   "metadata": {},
   "outputs": [
    {
     "data": {
      "text/plain": [
       "4406"
      ]
     },
     "execution_count": 106,
     "metadata": {},
     "output_type": "execute_result"
    }
   ],
   "source": [
    "crime_point_not_matched.count()\n",
    "# 4406\n",
    "# 1,287,457"
   ]
  },
  {
   "cell_type": "code",
   "execution_count": 108,
   "id": "d3482259-f905-4917-a4fe-16b743e58757",
   "metadata": {},
   "outputs": [],
   "source": [
    "pdf = pd.read_parquet(f\"{CENS_STAGING_PATH}/temp/crime_point_in_oa_poly/\")"
   ]
  },
  {
   "cell_type": "code",
   "execution_count": 116,
   "id": "4ad24200-9db5-4a3f-93a3-fe42f5499b6c",
   "metadata": {},
   "outputs": [],
   "source": [
    "spark.stop()"
   ]
  },
  {
   "cell_type": "code",
   "execution_count": 101,
   "id": "f408b67d-cfff-4b2b-83b3-212e5d06ea32",
   "metadata": {},
   "outputs": [
    {
     "name": "stdout",
     "output_type": "stream",
     "text": [
      "+---------+-------+----+----+--------+\n",
      "|   oa21cd|lad22cd| lat| lon|lsoa11cd|\n",
      "+---------+-------+----+----+--------+\n",
      "|E00069740|   null|null|null|    null|\n",
      "|E00069861|   null|null|null|    null|\n",
      "|E00069721|   null|null|null|    null|\n",
      "|E00069818|   null|null|null|    null|\n",
      "|E00069830|   null|null|null|    null|\n",
      "|E00070128|   null|null|null|    null|\n",
      "|E00070048|   null|null|null|    null|\n",
      "|E00069945|   null|null|null|    null|\n",
      "|E00187546|   null|null|null|    null|\n",
      "|E00070268|   null|null|null|    null|\n",
      "|E00069810|   null|null|null|    null|\n",
      "|E00069870|   null|null|null|    null|\n",
      "|E00187556|   null|null|null|    null|\n",
      "|E00187554|   null|null|null|    null|\n",
      "|E00187588|   null|null|null|    null|\n",
      "|E00070493|   null|null|null|    null|\n",
      "|E00070546|   null|null|null|    null|\n",
      "|E00173500|   null|null|null|    null|\n",
      "|E00173543|   null|null|null|    null|\n",
      "|E00187260|   null|null|null|    null|\n",
      "+---------+-------+----+----+--------+\n",
      "only showing top 20 rows\n",
      "\n"
     ]
    }
   ],
   "source": [
    "crime_point_in_oa.filter(\"lad22cd is null\").show()"
   ]
  },
  {
   "cell_type": "code",
   "execution_count": 97,
   "id": "890cf046-dde8-4011-a026-4fbea8df9d08",
   "metadata": {},
   "outputs": [
    {
     "ename": "AnalysisException",
     "evalue": "Reference 'oa21cd' is ambiguous, could be: geo.oa21cd, crimeIndex.oa21cd.; line 1 pos 0",
     "output_type": "error",
     "traceback": [
      "\u001b[0;31m---------------------------------------------------------------------------\u001b[0m",
      "\u001b[0;31mAnalysisException\u001b[0m                         Traceback (most recent call last)",
      "Input \u001b[0;32mIn [97]\u001b[0m, in \u001b[0;36m<module>\u001b[0;34m\u001b[0m\n\u001b[0;32m----> 1\u001b[0m \u001b[43moa_geo_lad_partition\u001b[49m\u001b[38;5;241;43m.\u001b[39;49m\u001b[43malias\u001b[49m\u001b[43m(\u001b[49m\u001b[38;5;124;43m\"\u001b[39;49m\u001b[38;5;124;43mgeo\u001b[39;49m\u001b[38;5;124;43m\"\u001b[39;49m\u001b[43m)\u001b[49m\u001b[38;5;241;43m.\u001b[39;49m\u001b[43mjoin\u001b[49m\u001b[43m(\u001b[49m\n\u001b[1;32m      2\u001b[0m \u001b[43m    \u001b[49m\u001b[43mcrime_point_not_matched\u001b[49m\u001b[38;5;241;43m.\u001b[39;49m\u001b[43malias\u001b[49m\u001b[43m(\u001b[49m\u001b[38;5;124;43m\"\u001b[39;49m\u001b[38;5;124;43mcrimeIndex\u001b[39;49m\u001b[38;5;124;43m\"\u001b[39;49m\u001b[43m)\u001b[49m\u001b[43m,\u001b[49m\n\u001b[1;32m      3\u001b[0m \u001b[43m    \u001b[49m\u001b[43mf\u001b[49m\u001b[38;5;241;43m.\u001b[39;49m\u001b[43mexpr\u001b[49m\u001b[43m(\u001b[49m\u001b[38;5;124;43m\"\"\"\u001b[39;49m\n\u001b[1;32m      4\u001b[0m \u001b[38;5;124;43m        ST_Contains(geo.poly_4326, ST_Point(crimeIndex.lat, crimeIndex.lon))\u001b[39;49m\n\u001b[1;32m      5\u001b[0m \u001b[38;5;124;43m    \u001b[39;49m\u001b[38;5;124;43m\"\"\"\u001b[39;49m\u001b[43m)\u001b[49m\u001b[43m,\u001b[49m\n\u001b[1;32m      6\u001b[0m \u001b[43m    \u001b[49m\u001b[43mhow\u001b[49m\u001b[38;5;241;43m=\u001b[39;49m\u001b[38;5;124;43m'\u001b[39;49m\u001b[38;5;124;43mleft\u001b[39;49m\u001b[38;5;124;43m'\u001b[39;49m\n\u001b[1;32m      7\u001b[0m \u001b[43m)\u001b[49m\u001b[43m\\\u001b[49m\n\u001b[1;32m      8\u001b[0m \u001b[38;5;241;43m.\u001b[39;49m\u001b[43mselectExpr\u001b[49m\u001b[43m(\u001b[49m\n\u001b[1;32m      9\u001b[0m \u001b[43m    \u001b[49m\u001b[38;5;124;43m\"\u001b[39;49m\u001b[38;5;124;43moa21cd\u001b[39;49m\u001b[38;5;124;43m\"\u001b[39;49m\u001b[43m,\u001b[49m\n\u001b[1;32m     10\u001b[0m \u001b[43m    \u001b[49m\u001b[38;5;124;43m\"\u001b[39;49m\u001b[38;5;124;43mcrimeIndex.lad22cd\u001b[39;49m\u001b[38;5;124;43m\"\u001b[39;49m\u001b[43m,\u001b[49m\n\u001b[1;32m     11\u001b[0m \u001b[43m    \u001b[49m\u001b[38;5;124;43m\"\u001b[39;49m\u001b[38;5;124;43mlat\u001b[39;49m\u001b[38;5;124;43m\"\u001b[39;49m\u001b[43m,\u001b[49m\n\u001b[1;32m     12\u001b[0m \u001b[43m    \u001b[49m\u001b[38;5;124;43m\"\u001b[39;49m\u001b[38;5;124;43mlon\u001b[39;49m\u001b[38;5;124;43m\"\u001b[39;49m\u001b[43m,\u001b[49m\n\u001b[1;32m     13\u001b[0m \u001b[43m    \u001b[49m\u001b[38;5;124;43m\"\u001b[39;49m\u001b[38;5;124;43mcrimeIndex.lsoa11cd\u001b[39;49m\u001b[38;5;124;43m\"\u001b[39;49m\n\u001b[1;32m     14\u001b[0m \u001b[43m)\u001b[49m\n",
      "File \u001b[0;32m~/envs/dbc1/lib/python3.8/site-packages/pyspark/sql/dataframe.py:2048\u001b[0m, in \u001b[0;36mDataFrame.selectExpr\u001b[0;34m(self, *expr)\u001b[0m\n\u001b[1;32m   2046\u001b[0m \u001b[38;5;28;01mif\u001b[39;00m \u001b[38;5;28mlen\u001b[39m(expr) \u001b[38;5;241m==\u001b[39m \u001b[38;5;241m1\u001b[39m \u001b[38;5;129;01mand\u001b[39;00m \u001b[38;5;28misinstance\u001b[39m(expr[\u001b[38;5;241m0\u001b[39m], \u001b[38;5;28mlist\u001b[39m):\n\u001b[1;32m   2047\u001b[0m     expr \u001b[38;5;241m=\u001b[39m expr[\u001b[38;5;241m0\u001b[39m]  \u001b[38;5;66;03m# type: ignore[assignment]\u001b[39;00m\n\u001b[0;32m-> 2048\u001b[0m jdf \u001b[38;5;241m=\u001b[39m \u001b[38;5;28;43mself\u001b[39;49m\u001b[38;5;241;43m.\u001b[39;49m\u001b[43m_jdf\u001b[49m\u001b[38;5;241;43m.\u001b[39;49m\u001b[43mselectExpr\u001b[49m\u001b[43m(\u001b[49m\u001b[38;5;28;43mself\u001b[39;49m\u001b[38;5;241;43m.\u001b[39;49m\u001b[43m_jseq\u001b[49m\u001b[43m(\u001b[49m\u001b[43mexpr\u001b[49m\u001b[43m)\u001b[49m\u001b[43m)\u001b[49m\n\u001b[1;32m   2049\u001b[0m \u001b[38;5;28;01mreturn\u001b[39;00m DataFrame(jdf, \u001b[38;5;28mself\u001b[39m\u001b[38;5;241m.\u001b[39msparkSession)\n",
      "File \u001b[0;32m~/envs/dbc1/lib/python3.8/site-packages/py4j/java_gateway.py:1321\u001b[0m, in \u001b[0;36mJavaMember.__call__\u001b[0;34m(self, *args)\u001b[0m\n\u001b[1;32m   1315\u001b[0m command \u001b[38;5;241m=\u001b[39m proto\u001b[38;5;241m.\u001b[39mCALL_COMMAND_NAME \u001b[38;5;241m+\u001b[39m\\\n\u001b[1;32m   1316\u001b[0m     \u001b[38;5;28mself\u001b[39m\u001b[38;5;241m.\u001b[39mcommand_header \u001b[38;5;241m+\u001b[39m\\\n\u001b[1;32m   1317\u001b[0m     args_command \u001b[38;5;241m+\u001b[39m\\\n\u001b[1;32m   1318\u001b[0m     proto\u001b[38;5;241m.\u001b[39mEND_COMMAND_PART\n\u001b[1;32m   1320\u001b[0m answer \u001b[38;5;241m=\u001b[39m \u001b[38;5;28mself\u001b[39m\u001b[38;5;241m.\u001b[39mgateway_client\u001b[38;5;241m.\u001b[39msend_command(command)\n\u001b[0;32m-> 1321\u001b[0m return_value \u001b[38;5;241m=\u001b[39m \u001b[43mget_return_value\u001b[49m\u001b[43m(\u001b[49m\n\u001b[1;32m   1322\u001b[0m \u001b[43m    \u001b[49m\u001b[43manswer\u001b[49m\u001b[43m,\u001b[49m\u001b[43m \u001b[49m\u001b[38;5;28;43mself\u001b[39;49m\u001b[38;5;241;43m.\u001b[39;49m\u001b[43mgateway_client\u001b[49m\u001b[43m,\u001b[49m\u001b[43m \u001b[49m\u001b[38;5;28;43mself\u001b[39;49m\u001b[38;5;241;43m.\u001b[39;49m\u001b[43mtarget_id\u001b[49m\u001b[43m,\u001b[49m\u001b[43m \u001b[49m\u001b[38;5;28;43mself\u001b[39;49m\u001b[38;5;241;43m.\u001b[39;49m\u001b[43mname\u001b[49m\u001b[43m)\u001b[49m\n\u001b[1;32m   1324\u001b[0m \u001b[38;5;28;01mfor\u001b[39;00m temp_arg \u001b[38;5;129;01min\u001b[39;00m temp_args:\n\u001b[1;32m   1325\u001b[0m     temp_arg\u001b[38;5;241m.\u001b[39m_detach()\n",
      "File \u001b[0;32m~/envs/dbc1/lib/python3.8/site-packages/pyspark/sql/utils.py:196\u001b[0m, in \u001b[0;36mcapture_sql_exception.<locals>.deco\u001b[0;34m(*a, **kw)\u001b[0m\n\u001b[1;32m    192\u001b[0m converted \u001b[38;5;241m=\u001b[39m convert_exception(e\u001b[38;5;241m.\u001b[39mjava_exception)\n\u001b[1;32m    193\u001b[0m \u001b[38;5;28;01mif\u001b[39;00m \u001b[38;5;129;01mnot\u001b[39;00m \u001b[38;5;28misinstance\u001b[39m(converted, UnknownException):\n\u001b[1;32m    194\u001b[0m     \u001b[38;5;66;03m# Hide where the exception came from that shows a non-Pythonic\u001b[39;00m\n\u001b[1;32m    195\u001b[0m     \u001b[38;5;66;03m# JVM exception message.\u001b[39;00m\n\u001b[0;32m--> 196\u001b[0m     \u001b[38;5;28;01mraise\u001b[39;00m converted \u001b[38;5;28;01mfrom\u001b[39;00m \u001b[38;5;28mNone\u001b[39m\n\u001b[1;32m    197\u001b[0m \u001b[38;5;28;01melse\u001b[39;00m:\n\u001b[1;32m    198\u001b[0m     \u001b[38;5;28;01mraise\u001b[39;00m\n",
      "\u001b[0;31mAnalysisException\u001b[0m: Reference 'oa21cd' is ambiguous, could be: geo.oa21cd, crimeIndex.oa21cd.; line 1 pos 0"
     ]
    }
   ],
   "source": [
    "oa_geo_lad_partition.alias(\"geo\").join(\n",
    "    crime_point_not_matched.alias(\"crimeIndex\"),\n",
    "    f.expr(\"\"\"\n",
    "        ST_Contains(geo.poly_4326, ST_Point(crimeIndex.lat, crimeIndex.lon))\n",
    "    \"\"\"),\n",
    "    how='left'\n",
    ")\\\n",
    ".selectExpr(\n",
    "    \"oa21cd\",\n",
    "    \"crimeIndex.lad22cd\",\n",
    "    \"lat\",\n",
    "    \"lon\",\n",
    "    \"crimeIndex.lsoa11cd\"\n",
    ")\n",
    "# )\\\n",
    "# .write.mode(\"overwrite\")\\\n",
    "# .parquet(f\"{CENS_STAGING_PATH}/temp/crime_point_in_oa_poly_2nd_pass/\")"
   ]
  },
  {
   "cell_type": "code",
   "execution_count": 48,
   "id": "fbdd47f4-bf94-42d6-b92f-f0863338b99c",
   "metadata": {},
   "outputs": [
    {
     "data": {
      "application/vnd.plotly.v1+json": {
       "config": {
        "plotlyServerURL": "https://plot.ly"
       },
       "data": [
        {
         "hovertemplate": "lat=%{lat}<br>lon=%{lon}<extra></extra>",
         "lat": [
          51.82906
         ],
         "legendgroup": "",
         "lon": [
          -3.45886
         ],
         "marker": {
          "color": "#636efa"
         },
         "mode": "markers",
         "name": "",
         "showlegend": false,
         "subplot": "mapbox",
         "type": "scattermapbox"
        }
       ],
       "layout": {
        "autosize": true,
        "legend": {
         "tracegroupgap": 0
        },
        "mapbox": {
         "bearing": 0,
         "center": {
          "lat": 53.519223247635324,
          "lon": -2.0771264623899697
         },
         "domain": {
          "x": [
           0,
           1
          ],
          "y": [
           0,
           1
          ]
         },
         "layers": [
          {
           "below": "traces",
           "color": "deeppink",
           "line": {
            "width": 2.5
           },
           "source": {
            "bbox": [
             -2.1165328252795717,
             53.52019728818685,
             -2.065058448011538,
             53.53793508418194
            ],
            "features": [
             {
              "bbox": [
               -2.1165328252795717,
               53.52019728818685,
               -2.065058448011538,
               53.53793508418194
              ],
              "geometry": {
               "coordinates": [
                [
                 [
                  -2.084613878720625,
                  53.53076065297008
                 ],
                 [
                  -2.0846048039263945,
                  53.53073850040262
                 ],
                 [
                  -2.0845293226917683,
                  53.530748438449244
                 ],
                 [
                  -2.084494645905321,
                  53.53076203096444
                 ],
                 [
                  -2.084438839684503,
                  53.5307529958557
                 ],
                 [
                  -2.084399621405557,
                  53.53076479478653
                 ],
                 [
                  -2.0843061408125116,
                  53.530793614701736
                 ],
                 [
                  -2.084199114781001,
                  53.530828735065974
                 ],
                 [
                  -2.084173507217217,
                  53.53083684087776
                 ],
                 [
                  -2.084150883384338,
                  53.53084404484289
                 ],
                 [
                  -2.0840664809669143,
                  53.53087196112309
                 ],
                 [
                  -2.083980586424081,
                  53.53089987749593
                 ],
                 [
                  -2.083915695168702,
                  53.53091969129613
                 ],
                 [
                  -2.083852424372654,
                  53.53094040365622
                 ],
                 [
                  -2.083789028298492,
                  53.53096111517193
                 ],
                 [
                  -2.083743780365522,
                  53.53097552474988
                 ],
                 [
                  -2.0837080130352277,
                  53.5309879052725
                 ],
                 [
                  -2.083614128505055,
                  53.53101739905608
                 ],
                 [
                  -2.0834965979241353,
                  53.53105612060307
                 ],
                 [
                  -2.083383540444894,
                  53.53109268169877
                 ],
                 [
                  -2.083375980182225,
                  53.53110616593316
                 ],
                 [
                  -2.0833141574436564,
                  53.53112627747114
                 ],
                 [
                  -2.0832260022790563,
                  53.53115434498597
                 ],
                 [
                  -2.0831272382498196,
                  53.53118541475604
                 ],
                 [
                  -2.0830345052794357,
                  53.53121558230618
                 ],
                 [
                  -2.082948772918876,
                  53.531243047505974
                 ],
                 [
                  -2.0828739612292795,
                  53.53126736182258
                 ],
                 [
                  -2.0827683612326178,
                  53.53130158107521
                 ],
                 [
                  -2.0827201287822574,
                  53.53131689027423
                 ],
                 [
                  -2.0826674239712957,
                  53.5313348981648
                 ],
                 [
                  -2.082589483903073,
                  53.53136041262088
                 ],
                 [
                  -2.0825633790330627,
                  53.53136911705633
                 ],
                 [
                  -2.0824969995571325,
                  53.53139081867122
                 ],
                 [
                  -2.08241706906208,
                  53.531416932118105
                 ],
                 [
                  -2.0823582708973745,
                  53.53143584292084
                 ],
                 [
                  -2.0822603168229192,
                  53.53146825966749
                 ],
                 [
                  -2.082201518517227,
                  53.53148717039308
                 ],
                 [
                  -2.0818743362818415,
                  53.53159342766115
                 ],
                 [
                  -2.0818072703715567,
                  53.53161548979682
                 ],
                 [
                  -2.0817070139251626,
                  53.53164745735226
                 ],
                 [
                  -2.081431848616746,
                  53.53173489835863
                 ],
                 [
                  -2.081298402027786,
                  53.53177812099365
                 ],
                 [
                  -2.0812742836524913,
                  53.53178532543243
                 ],
                 [
                  -2.0811190205010104,
                  53.53183575163045
                 ],
                 [
                  -2.0810119137966794,
                  53.53186457913503
                 ],
                 [
                  -2.0809877881697583,
                  53.53183494293044
                 ],
                 [
                  -2.0809710845965355,
                  53.53181608411573
                 ],
                 [
                  -2.080946899098627,
                  53.53178824381763
                 ],
                 [
                  -2.0809106215639472,
                  53.531746035740284
                 ],
                 [
                  -2.0807926898818807,
                  53.53160944142743
                 ],
                 [
                  -2.0807700015974864,
                  53.531583398648706
                 ],
                 [
                  -2.0807004390811987,
                  53.53150302331114
                 ],
                 [
                  -2.08063848556222,
                  53.531432526385736
                 ],
                 [
                  -2.080570422895631,
                  53.53135520420084
                 ],
                 [
                  -2.0805492303319593,
                  53.53133095714143
                 ],
                 [
                  -2.080506967072334,
                  53.53128066525659
                 ],
                 [
                  -2.0804441989480402,
                  53.53120747406778
                 ],
                 [
                  -2.080372338533575,
                  53.53112709918662
                 ],
                 [
                  -2.0803527634318635,
                  53.531102851000846
                 ],
                 [
                  -2.080305889155871,
                  53.53104797898628
                 ],
                 [
                  -2.0802393197036055,
                  53.53096984754859
                 ],
                 [
                  -2.080212146031269,
                  53.53093931439912
                 ],
                 [
                  -2.0801727575019364,
                  53.53089620934976
                 ],
                 [
                  -2.080104757718124,
                  53.530818528215455
                 ],
                 [
                  -2.0800382515272897,
                  53.53074075525615
                 ],
                 [
                  -2.080012571852146,
                  53.53071111989313
                 ],
                 [
                  -2.0799686960238977,
                  53.53066262566918
                 ],
                 [
                  -2.079918830410404,
                  53.53060335300651
                 ],
                 [
                  -2.0798673545075905,
                  53.53054767584744
                 ],
                 [
                  -2.0798310858875837,
                  53.5305090609755
                 ],
                 [
                  -2.0798024209911796,
                  53.53047942666686
                 ],
                 [
                  -2.079779747472105,
                  53.53046057167876
                 ],
                 [
                  -2.0797646620187407,
                  53.53044162262363
                 ],
                 [
                  -2.07974946677591,
                  53.53043084945397
                 ],
                 [
                  -2.0796816987412727,
                  53.530442576053424
                 ],
                 [
                  -2.079633332470001,
                  53.53045258276325
                 ],
                 [
                  -2.0796002663279283,
                  53.53046338818882
                 ],
                 [
                  -2.0795730577919898,
                  53.53048047885145
                 ],
                 [
                  -2.0795203594382423,
                  53.530502079798964
                 ],
                 [
                  -2.0794842008976877,
                  53.53052187292072
                 ],
                 [
                  -2.07944343285201,
                  53.53053807465812
                 ],
                 [
                  -2.0793545403189344,
                  53.53056059848786
                 ],
                 [
                  -2.079271605246061,
                  53.5305759293976
                 ],
                 [
                  -2.079197620096018,
                  53.53058855869337
                 ],
                 [
                  -2.0791343392556323,
                  53.53060567321973
                 ],
                 [
                  -2.079066468897843,
                  53.53062908171151
                 ],
                 [
                  -2.0790258224456366,
                  53.53064348555321
                 ],
                 [
                  -2.0789775675865028,
                  53.53064711198448
                 ],
                 [
                  -2.07880861784015,
                  53.530694848651784
                 ],
                 [
                  -2.0787558017450958,
                  53.53065354878588
                 ],
                 [
                  -2.078714949704812,
                  53.53062482110615
                 ],
                 [
                  -2.0786606686800475,
                  53.53059879878461
                 ],
                 [
                  -2.0786198251047323,
                  53.53057456344972
                 ],
                 [
                  -2.0785820706045426,
                  53.53053864568811
                 ],
                 [
                  -2.078539721789384,
                  53.53050722332524
                 ],
                 [
                  -2.078501949234188,
                  53.530462318985784
                 ],
                 [
                  -2.078467157093085,
                  53.53041462717856
                 ],
                 [
                  -2.0784429605530743,
                  53.53037870044513
                 ],
                 [
                  -2.0782184133738406,
                  53.53049485451926
                 ],
                 [
                  -2.078033067631412,
                  53.53062257389959
                 ],
                 [
                  -2.0779878613168514,
                  53.53066124265792
                 ],
                 [
                  -2.0779516936469196,
                  53.53067654203959
                 ],
                 [
                  -2.0778536999225055,
                  53.53068828736811
                 ],
                 [
                  -2.0777919300821983,
                  53.53071528559636
                 ],
                 [
                  -2.077737691075225,
                  53.53077920936055
                 ],
                 [
                  -2.0777137590402344,
                  53.53088705474185
                 ],
                 [
                  -2.077692845569842,
                  53.53101376831346
                 ],
                 [
                  -2.0776568607428074,
                  53.53112889941124
                 ],
                 [
                  -2.0775905778478516,
                  53.531204423239856
                 ],
                 [
                  -2.0774761972702995,
                  53.53130244291714
                 ],
                 [
                  -2.0773827650284225,
                  53.53136091088397
                 ],
                 [
                  -2.077325422235008,
                  53.53136094810301
                 ],
                 [
                  -2.0772710124873863,
                  53.53133222872929
                 ],
                 [
                  -2.077239229710175,
                  53.53129720551247
                 ],
                 [
                  -2.077213561489671,
                  53.53127295986401
                 ],
                 [
                  -2.0771441461827114,
                  53.531268512434615
                 ],
                 [
                  -2.0770296122379706,
                  53.5312829634009
                 ],
                 [
                  -2.0769014456549377,
                  53.531325279781576
                 ],
                 [
                  -2.076853214200998,
                  53.531341485448934
                 ],
                 [
                  -2.0766812754794652,
                  53.53139101780426
                 ],
                 [
                  -2.0765908374436877,
                  53.531454964326514
                 ],
                 [
                  -2.0765079467527086,
                  53.5314963523415
                 ],
                 [
                  -2.076373838556582,
                  53.5315548465229
                 ],
                 [
                  -2.0763195734838655,
                  53.531606099658504
                 ],
                 [
                  -2.076303131928448,
                  53.53166272067475
                 ],
                 [
                  -2.0762911632635053,
                  53.53171673309936
                 ],
                 [
                  -2.076279174961868,
                  53.531759872316165
                 ],
                 [
                  -2.0762595851090038,
                  53.531794929568825
                 ],
                 [
                  -2.0762007658695865,
                  53.53180395285626
                 ],
                 [
                  -2.076102744809697,
                  53.531802218719086
                 ],
                 [
                  -2.0759880483426536,
                  53.531796900690544
                 ],
                 [
                  -2.075868908003393,
                  53.531809556707394
                 ],
                 [
                  -2.075766325928319,
                  53.53183118774223
                 ],
                 [
                  -2.075639714255285,
                  53.5319094444289
                 ],
                 [
                  -2.0754468899479463,
                  53.53203725439651
                 ],
                 [
                  -2.0753112316990445,
                  53.53213528545636
                 ],
                 [
                  -2.0751725073503082,
                  53.53218838908384
                 ],
                 [
                  -2.075070063576184,
                  53.53221810715775
                 ],
                 [
                  -2.074881413328163,
                  53.532245182837414
                 ],
                 [
                  -2.0747623000678814,
                  53.53227491112088
                 ],
                 [
                  -2.0746763727655955,
                  53.53228934187914
                 ],
                 [
                  -2.0745692478622053,
                  53.53227503208258
                 ],
                 [
                  -2.074495307678202,
                  53.5322454248346
                 ],
                 [
                  -2.0743926811788524,
                  53.5322427933387
                 ],
                 [
                  -2.0742946923225993,
                  53.53225992785971
                 ],
                 [
                  -2.074179993199599,
                  53.532252810427046
                 ],
                 [
                  -2.0740849458606214,
                  53.53224568066811
                 ],
                 [
                  -2.073977868413787,
                  53.53225832729915
                 ],
                 [
                  -2.0738797760475394,
                  53.532287142815306
                 ],
                 [
                  -2.073772732915143,
                  53.532319558237305
                 ],
                 [
                  -2.0737079710569692,
                  53.53234574634842
                 ],
                 [
                  -2.0735933061967122,
                  53.53235839732784
                 ],
                 [
                  -2.0734289169153715,
                  53.5323899490093
                 ],
                 [
                  -2.073354922187381,
                  53.53239987908214
                 ],
                 [
                  -2.0732478192355996,
                  53.532398148195256
                 ],
                 [
                  -2.0731739092959307,
                  53.53238561349949
                 ],
                 [
                  -2.073133242069673,
                  53.532390130847865
                 ],
                 [
                  -2.0731136493277433,
                  53.53242518758242
                 ],
                 [
                  -2.073109244665272,
                  53.5324683218218
                 ],
                 [
                  -2.073104706921623,
                  53.532505166988
                 ],
                 [
                  -2.0730926794437297,
                  53.53252763897047
                 ],
                 [
                  -2.0729901112747364,
                  53.53255915210934
                 ],
                 [
                  -2.072899705069429,
                  53.53257358433347
                 ],
                 [
                  -2.0727639433749685,
                  53.5326159009147
                 ],
                 [
                  -2.0726584062247477,
                  53.53265738906364
                 ],
                 [
                  -2.0725634260358747,
                  53.53268889720839
                 ],
                 [
                  -2.0724986303684787,
                  53.532696125539616
                 ],
                 [
                  -2.072408078485493,
                  53.53269887621018
                 ],
                 [
                  -2.0723340368752945,
                  53.5326818486946
                 ],
                 [
                  -2.0722721807733353,
                  53.532662117235134
                 ],
                 [
                  -2.072210370756097,
                  53.5326693435992
                 ],
                 [
                  -2.0721742284265643,
                  53.532701713699076
                 ],
                 [
                  -2.072174294365442,
                  53.53274035281236
                 ],
                 [
                  -2.0720837929082747,
                  53.53277275669836
                 ],
                 [
                  -2.072083846512218,
                  53.53280420693006
                 ],
                 [
                  -2.07205527732775,
                  53.53282848558587
                 ],
                 [
                  -2.0718667003436977,
                  53.532828599477554
                 ],
                 [
                  -2.0718093311492733,
                  53.53281425718858
                 ],
                 [
                  -2.071718704302292,
                  53.53277297701255
                 ],
                 [
                  -2.071664295011846,
                  53.53274335625915
                 ],
                 [
                  -2.0716039585817603,
                  53.532738900153355
                 ],
                 [
                  -2.0715586757237263,
                  53.53273623085099
                 ],
                 [
                  -2.0715541508646194,
                  53.53270927658422
                 ],
                 [
                  -2.0715088650032247,
                  53.53270481049202
                 ],
                 [
                  -2.071439441877535,
                  53.532696765312124
                 ],
                 [
                  -2.0713579463604286,
                  53.53268513287848
                 ],
                 [
                  -2.0713899422375364,
                  53.53284865508492
                 ],
                 [
                  -2.0713280742060496,
                  53.5328217342563
                 ],
                 [
                  -2.071153187250386,
                  53.532900015067426
                 ],
                 [
                  -2.0709600024427632,
                  53.532897434672456
                 ],
                 [
                  -2.070795601593012,
                  53.532924490355775
                 ],
                 [
                  -2.070676415987934,
                  53.53291287894903
                 ],
                 [
                  -2.0705527092061797,
                  53.532876110789076
                 ],
                 [
                  -2.0704877187923074,
                  53.53284200338529
                 ],
                 [
                  -2.0704424164376616,
                  53.53282765330096
                 ],
                 [
                  -2.070311167800411,
                  53.53281784633334
                 ],
                 [
                  -2.0701135131152393,
                  53.532819759590005
                 ],
                 [
                  -2.070015461685865,
                  53.532800947095325
                 ],
                 [
                  -2.069850995297583,
                  53.532788463531084
                 ],
                 [
                  -2.069781561968818,
                  53.532774127342144
                 ],
                 [
                  -2.069733269812971,
                  53.53275708223294
                 ],
                 [
                  -2.0697076035146633,
                  53.532731937042186
                 ],
                 [
                  -2.0696049894431705,
                  53.53273738825573
                 ],
                 [
                  -2.0695069812621822,
                  53.53274463436563
                 ],
                 [
                  -2.0694496587588613,
                  53.53275724790125
                 ],
                 [
                  -2.0694089053829003,
                  53.53278602630684
                 ],
                 [
                  -2.069354709824072,
                  53.532810319244625
                 ],
                 [
                  -2.0693064988004597,
                  53.532842696400536
                 ],
                 [
                  -2.06921597434228,
                  53.53286251802309
                 ],
                 [
                  -2.0691495532267443,
                  53.53286435336788
                 ],
                 [
                  -2.069043904673235,
                  53.532840153269404
                 ],
                 [
                  -2.0689655101235096,
                  53.53282312529273
                 ],
                 [
                  -2.068920180475673,
                  53.53279170126227
                 ],
                 [
                  -2.0688417296491184,
                  53.532816008896155
                 ],
                 [
                  -2.068781478136899,
                  53.53286456644808
                 ],
                 [
                  -2.0686367427551735,
                  53.53289879579706
                 ],
                 [
                  -2.068481373268724,
                  53.532972658954236
                 ],
                 [
                  -2.068304938938492,
                  53.53302128299646
                 ],
                 [
                  -2.068219012276714,
                  53.53303840561879
                 ],
                 [
                  -2.0680757491308714,
                  53.53306095217538
                 ],
                 [
                  -2.0679068568118484,
                  53.53315899290175
                 ],
                 [
                  -2.0679069304127466,
                  53.53320482089693
                 ],
                 [
                  -2.0677713215052576,
                  53.53326869748143
                 ],
                 [
                  -2.0675542148802695,
                  53.53339830526974
                 ],
                 [
                  -2.0674487106840815,
                  53.533464860018015
                 ],
                 [
                  -2.067329638872797,
                  53.53352603112563
                 ],
                 [
                  -2.0672799820005046,
                  53.53358895970065
                 ],
                 [
                  -2.067189536539814,
                  53.53366008797575
                 ],
                 [
                  -2.067120176860802,
                  53.53369247617192
                 ],
                 [
                  -2.067017725153434,
                  53.533723984114566
                 ],
                 [
                  -2.066294620230257,
                  53.53348437806986
                 ],
                 [
                  -2.0659006988797772,
                  53.53334531668618
                 ],
                 [
                  -2.06601206973648,
                  53.533211277266254
                 ],
                 [
                  -2.065539626171725,
                  53.533049794477314
                 ],
                 [
                  -2.0656345858801233,
                  53.53300121854152
                 ],
                 [
                  -2.0656180193529994,
                  53.53298685079204
                 ],
                 [
                  -2.065723593542179,
                  53.532964238098685
                 ],
                 [
                  -2.0658425092500696,
                  53.53280332666638
                 ],
                 [
                  -2.0651360959065226,
                  53.532563705255576
                 ],
                 [
                  -2.0652142278544203,
                  53.53241180239605
                 ],
                 [
                  -2.065267002696585,
                  53.53235336533961
                 ],
                 [
                  -2.065058448011538,
                  53.532141325423055
                 ],
                 [
                  -2.065471568837694,
                  53.53199633793749
                 ],
                 [
                  -2.065795806870833,
                  53.53188833042064
                 ],
                 [
                  -2.0659842619027655,
                  53.5318127455258
                 ],
                 [
                  -2.06618176158943,
                  53.53171469070166
                 ],
                 [
                  -2.066365591120126,
                  53.53162464011019
                 ],
                 [
                  -2.06659915823026,
                  53.53144569262605
                 ],
                 [
                  -2.066899096538015,
                  53.53123516726705
                 ],
                 [
                  -2.0671568494680606,
                  53.53109394542145
                 ],
                 [
                  -2.067309035051065,
                  53.53097605627681
                 ],
                 [
                  -2.067607388231381,
                  53.53078988128525
                 ],
                 [
                  -2.067840981410871,
                  53.53063330605993
                 ],
                 [
                  -2.068071687375676,
                  53.5305379247859
                 ],
                 [
                  -2.0683174462238063,
                  53.530445141057854
                 ],
                 [
                  -2.0680547483404967,
                  53.530369810764235
                 ],
                 [
                  -2.0685337170312237,
                  53.52988780762072
                 ],
                 [
                  -2.0687265534413237,
                  53.52968452807896
                 ],
                 [
                  -2.068676645174985,
                  53.5296647878577
                 ],
                 [
                  -2.0687143959588,
                  53.52962792458819
                 ],
                 [
                  -2.068635876481088,
                  53.52960640407632
                 ],
                 [
                  -2.0686690494835873,
                  53.52958392034411
                 ],
                 [
                  -2.068828973658132,
                  53.529640438554175
                 ],
                 [
                  -2.0688938011599287,
                  53.52957929729337
                 ],
                 [
                  -2.0689194401742528,
                  53.52958916696522
                 ],
                 [
                  -2.0689676155184817,
                  53.529537919798976
                 ],
                 [
                  -2.0690673010714535,
                  53.529572008834634
                 ],
                 [
                  -2.069172737062242,
                  53.52947121687654
                 ],
                 [
                  -2.0692962648774973,
                  53.52940554891263
                 ],
                 [
                  -2.0693293946543894,
                  53.52935700595986
                 ],
                 [
                  -2.069374541106914,
                  53.52927880339069
                 ],
                 [
                  -2.0695300053831125,
                  53.529347004539645
                 ],
                 [
                  -2.069636964370097,
                  53.52926607016839
                 ],
                 [
                  -2.069809119236663,
                  53.52934863898257
                 ],
                 [
                  -2.070402838563322,
                  53.52892856269674
                 ],
                 [
                  -2.0712344239698264,
                  53.52832673963172
                 ],
                 [
                  -2.0716533495878355,
                  53.52804514271416
                 ],
                 [
                  -2.07242329355404,
                  53.52749187113325
                 ],
                 [
                  -2.073309108242717,
                  53.52685136131168
                 ],
                 [
                  -2.073910347151935,
                  53.52643306046185
                 ],
                 [
                  -2.0741603906032857,
                  53.52625130231979
                 ],
                 [
                  -2.0743578202651545,
                  53.52613885703716
                 ],
                 [
                  -2.074710536442942,
                  53.52599657075421
                 ],
                 [
                  -2.0753707873629827,
                  53.52576701717756
                 ],
                 [
                  -2.0760718245011334,
                  53.52553644519365
                 ],
                 [
                  -2.0764486845764942,
                  53.5254094149831
                 ],
                 [
                  -2.076760718167589,
                  53.52526723860743
                 ],
                 [
                  -2.076644384694246,
                  53.52517206373369
                 ],
                 [
                  -2.0766080339619153,
                  53.52508393636837
                 ],
                 [
                  -2.0765548545668415,
                  53.524905153216146
                 ],
                 [
                  -2.076250183607293,
                  53.52492242196463
                 ],
                 [
                  -2.076176331095065,
                  53.524935049320874
                 ],
                 [
                  -2.0761024800472616,
                  53.52494767663053
                 ],
                 [
                  -2.0760783905194287,
                  53.52496925780864
                 ],
                 [
                  -2.076061796823722,
                  53.52500880554419
                 ],
                 [
                  -2.0760905694065808,
                  53.525033049481955
                 ],
                 [
                  -2.0761116229977774,
                  53.5250528041583
                 ],
                 [
                  -2.0760951303668977,
                  53.5250797726099
                 ],
                 [
                  -2.0760166930544384,
                  53.525101388467995
                 ],
                 [
                  -2.0759684377819663,
                  53.525101419241324
                 ],
                 [
                  -2.075923124102601,
                  53.52507718671343
                 ],
                 [
                  -2.075885381712476,
                  53.5250448616118
                 ],
                 [
                  -2.075823527041407,
                  53.52502063957852
                 ],
                 [
                  -2.0757541092297895,
                  53.52500900154508
                 ],
                 [
                  -2.075708852045199,
                  53.52501621920592
                 ],
                 [
                  -2.075603293149509,
                  53.52503335963437
                 ],
                 [
                  -2.075574710241769,
                  53.52504505905117
                 ],
                 [
                  -2.075561130154374,
                  53.525101678213524
                 ],
                 [
                  -2.0755989689029075,
                  53.52511881660662
                 ],
                 [
                  -2.0756231454848955,
                  53.52514575918415
                 ],
                 [
                  -2.07563215236967,
                  53.525175406099116
                 ],
                 [
                  -2.075606593142158,
                  53.5252095691349
                 ],
                 [
                  -2.075529781976148,
                  53.52523657486523
                 ],
                 [
                  -2.0754724811114023,
                  53.52525548135445
                 ],
                 [
                  -2.075389556689875,
                  53.525272607255204
                 ],
                 [
                  -2.0752914142582886,
                  53.5252636827355
                 ],
                 [
                  -2.075188877090153,
                  53.52523139923732
                 ],
                 [
                  -2.075081790553969,
                  53.52522877114872
                 ],
                 [
                  -2.0749625161932257,
                  53.525227048570336
                 ],
                 [
                  -2.074835917591057,
                  53.52523162143298
                 ],
                 [
                  -2.074766549009071,
                  53.52524873748842
                 ],
                 [
                  -2.0747288786881484,
                  53.52525595001716
                 ],
                 [
                  -2.0746232680841765,
                  53.52524433491937
                 ],
                 [
                  -2.074578057972684,
                  53.525278509140946
                 ],
                 [
                  -2.0744588944582074,
                  53.5252686991549
                 ],
                 [
                  -2.074392494933064,
                  53.525275929526835
                 ],
                 [
                  -2.074311088611053,
                  53.52530743062842
                 ],
                 [
                  -2.074261366590058,
                  53.52532273736115
                 ],
                 [
                  -2.074213112572493,
                  53.52532276742526
                 ],
                 [
                  -2.074130105638954,
                  53.52529316556707
                 ],
                 [
                  -2.0740560636737366,
                  53.52526895020232
                 ],
                 [
                  -2.0740394454238946,
                  53.52522493010352
                 ],
                 [
                  -2.074027329308093,
                  53.52519528410207
                 ],
                 [
                  -2.0739820213492965,
                  53.52517374644769
                 ],
                 [
                  -2.073891458927709,
                  53.52516122252214
                 ],
                 [
                  -2.0737571932400094,
                  53.52511997089639
                 ],
                 [
                  -2.0736138188869866,
                  53.525061562354615
                 ],
                 [
                  -2.0735186908781094,
                  53.52499782164139
                 ],
                 [
                  -2.0734325388280412,
                  53.524946656341456
                 ],
                 [
                  -2.073387214290398,
                  53.52491523396089
                 ],
                 [
                  -2.0733826687952788,
                  53.524875698719114
                 ],
                 [
                  -2.0733750301484366,
                  53.524846050791076
                 ],
                 [
                  -2.073346392278478,
                  53.52482719823982
                 ],
                 [
                  -2.0733296933006495,
                  53.524807439497444
                 ],
                 [
                  -2.0733206209829445,
                  53.52473906335896
                 ],
                 [
                  -2.0732344603629977,
                  53.52468250579631
                 ],
                 [
                  -2.0730789653182407,
                  53.52459004712394
                 ],
                 [
                  -2.073009378235165,
                  53.52447947530391
                 ],
                 [
                  -2.0729760875617145,
                  53.52443097198075
                 ],
                 [
                  -2.072906632782392,
                  53.52439686858045
                 ],
                 [
                  -2.072849399828072,
                  53.52438252668979
                 ],
                 [
                  -2.072807038240766,
                  53.524338522151304
                 ],
                 [
                  -2.072791931945227,
                  53.52430438456125
                 ],
                 [
                  -2.0727540735760575,
                  53.524274755049994
                 ],
                 [
                  -2.0727298823197575,
                  53.52423792828548
                 ],
                 [
                  -2.0727177611858107,
                  53.52420378886319
                 ],
                 [
                  -2.072717648284855,
                  53.52413810281616
                 ],
                 [
                  -2.0726604466432756,
                  53.52414263100147
                 ],
                 [
                  -2.072601638779299,
                  53.5241525513631
                 ],
                 [
                  -2.0725081154435974,
                  53.52415260831664
                 ],
                 [
                  -2.072409979281274,
                  53.52414547910153
                 ],
                 [
                  -2.072331599442282,
                  53.524128454200564
                 ],
                 [
                  -2.0723073356298776,
                  53.52412128002978
                 ],
                 [
                  -2.072257684999278,
                  53.52417711175726
                 ],
                 [
                  -2.072183769580429,
                  53.52415280526898
                 ],
                 [
                  -2.072118821828019,
                  53.524135771190835
                 ],
                 [
                  -2.0720736350614737,
                  53.5241115371243
                 ],
                 [
                  -2.0719619678359966,
                  53.5241187935246
                 ],
                 [
                  -2.0718713792539103,
                  53.52408919467275
                 ],
                 [
                  -2.0717823833708437,
                  53.52404521789301
                 ],
                 [
                  -2.0717083723498426,
                  53.52403807356383
                 ],
                 [
                  -2.0716872604031384,
                  53.523982374547344
                 ],
                 [
                  -2.071617827167406,
                  53.523959951670626
                 ],
                 [
                  -2.071539347105917,
                  53.523957303209954
                 ],
                 [
                  -2.0714156307807814,
                  53.5238989701007
                 ],
                 [
                  -2.071358232730659,
                  53.523860275400004
                 ],
                 [
                  -2.071305231467277,
                  53.5237740439366
                 ],
                 [
                  -2.071198059617353,
                  53.52371839541097
                 ],
                 [
                  -2.071133168616904,
                  53.52366002683701
                 ],
                 [
                  -2.0711073168547753,
                  53.52359624280798
                 ],
                 [
                  -2.071107235296146,
                  53.523547720030635
                 ],
                 [
                  -2.0710830306314785,
                  53.523500918540705
                 ],
                 [
                  -2.0710302098813695,
                  53.523447035094584
                 ],
                 [
                  -2.0710555453454953,
                  53.52327808712859
                 ],
                 [
                  -2.071054029453276,
                  53.52326460906977
                 ],
                 [
                  -2.071050167170573,
                  53.52322363608075
                 ],
                 [
                  -2.0710086675982615,
                  53.523208834503784
                 ],
                 [
                  -2.0710025897699422,
                  53.52318143078148
                 ],
                 [
                  -2.070978359168846,
                  53.52315583644883
                 ],
                 [
                  -2.0709662729143026,
                  53.52314236468597
                 ],
                 [
                  -2.070967864220936,
                  53.52312708799911
                 ],
                 [
                  -2.0709379793094627,
                  53.523105315286884
                 ],
                 [
                  -2.0709149279281807,
                  53.5230785957935
                 ],
                 [
                  -2.070892244240974,
                  53.523048956653334
                 ],
                 [
                  -2.0708748491523874,
                  53.52302133584748
                 ],
                 [
                  -2.070871026230779,
                  53.52300284184874
                 ],
                 [
                  -2.070869494351465,
                  53.52297977949475
                 ],
                 [
                  -2.070858581299904,
                  53.52296158992472
                 ],
                 [
                  -2.070843819757054,
                  53.52294564883664
                 ],
                 [
                  -2.0708317381183403,
                  53.52293487266999
                 ],
                 [
                  -2.0708185376867783,
                  53.5229243227753
                 ],
                 [
                  -2.070805337862017,
                  53.522914131514874
                 ],
                 [
                  -2.07079698031518,
                  53.522898859843615
                 ],
                 [
                  -2.0707871265297535,
                  53.522881793183934
                 ],
                 [
                  -2.070780343189529,
                  53.52286532332475
                 ],
                 [
                  -2.070779469213547,
                  53.52280182368637
                 ],
                 [
                  -2.070783604748436,
                  53.52278362516711
                 ],
                 [
                  -2.070796736207712,
                  53.52275299128088
                 ],
                 [
                  -2.0708004351993985,
                  53.52273441820519
                 ],
                 [
                  -2.0707929389686646,
                  53.52271375569399
                 ],
                 [
                  -2.070790099379154,
                  53.52270057773001
                 ],
                 [
                  -2.0707770215641754,
                  53.52268393184286
                 ],
                 [
                  -2.0707558875888434,
                  53.52264368817047
                 ],
                 [
                  -2.070733235793966,
                  53.522632918270915
                 ],
                 [
                  -2.0706953863571487,
                  53.52260688164662
                 ],
                 [
                  -2.070663763085859,
                  53.522586143558584
                 ],
                 [
                  -2.0706576364861973,
                  53.522566378164484
                 ],
                 [
                  -2.0706681872213446,
                  53.52255469061627
                 ],
                 [
                  -2.070752562393754,
                  53.52251510337681
                 ],
                 [
                  -2.0707827603370443,
                  53.52250160647336
                 ],
                 [
                  -2.0707962944608465,
                  53.52248901830369
                 ],
                 [
                  -2.07078271673704,
                  53.522475547407204
                 ],
                 [
                  -2.070707165841161,
                  53.52243785189088
                 ],
                 [
                  -2.0707102294117554,
                  53.52240999420432
                 ],
                 [
                  -2.0707011298936653,
                  53.52239741947754
                 ],
                 [
                  -2.0706875582352233,
                  53.522387543017004
                 ],
                 [
                  -2.070661917158095,
                  53.52237408016285
                 ],
                 [
                  -2.070642251966258,
                  53.522364207311405
                 ],
                 [
                  -2.0706437166704132,
                  53.52234803186462
                 ],
                 [
                  -2.0706497757031315,
                  53.52232736040519
                 ],
                 [
                  -2.0706692676658283,
                  53.52230758071366
                 ],
                 [
                  -2.07069336128093,
                  53.52228860634306
                 ],
                 [
                  -2.07070688935593,
                  53.52227242373602
                 ],
                 [
                  -2.0707053691115145,
                  53.522255351222476
                 ],
                 [
                  -2.070691786988556,
                  53.52223918560331
                 ],
                 [
                  -2.0706872698152674,
                  53.52221492596647
                 ],
                 [
                  -2.0706940113175514,
                  53.52219380557952
                 ],
                 [
                  -2.070715147879178,
                  53.52219064800266
                 ],
                 [
                  -2.0707369894824748,
                  53.52220051955006
                 ],
                 [
                  -2.070773911921231,
                  53.52219285930026
                 ],
                 [
                  -2.0708108493880784,
                  53.522194185606274
                 ],
                 [
                  -2.070852379642391,
                  53.52219101588131
                 ],
                 [
                  -2.070842526753457,
                  53.52217349890613
                 ],
                 [
                  -2.070830415248388,
                  53.52214475229986
                 ],
                 [
                  -2.0708424590430834,
                  53.52213306294884
                 ],
                 [
                  -2.0708741423665735,
                  53.522116869524666
                 ],
                 [
                  -2.0708499705278443,
                  53.522089028033164
                 ],
                 [
                  -2.0708000702018574,
                  53.522070187507694
                 ],
                 [
                  -2.0707714128060393,
                  53.5220369574391
                 ],
                 [
                  -2.070709527886278,
                  53.52199026812471
                 ],
                 [
                  -2.0706490095798733,
                  53.521937235770665
                 ],
                 [
                  -2.0706761230532913,
                  53.521870686842895
                 ],
                 [
                  -2.0706982009302357,
                  53.52186048991442
                 ],
                 [
                  -2.070717546101621,
                  53.52184056019466
                 ],
                 [
                  -2.0707272671736363,
                  53.521815394166055
                 ],
                 [
                  -2.0707287175541933,
                  53.521790681567204
                 ],
                 [
                  -2.0707242109243587,
                  53.521772712886964
                 ],
                 [
                  -2.070716598730839,
                  53.52175654282608
                 ],
                 [
                  -2.070698504135314,
                  53.52171971201661
                 ],
                 [
                  -2.070941265055258,
                  53.52172675660144
                 ],
                 [
                  -2.070995612971791,
                  53.52172852100108
                 ],
                 [
                  -2.070999878283508,
                  53.52160262728408
                 ],
                 [
                  -2.0710240408755056,
                  53.52155049558764
                 ],
                 [
                  -2.0711442223225185,
                  53.52128525243195
                 ],
                 [
                  -2.072098895656259,
                  53.521273896036895
                 ],
                 [
                  -2.0729616714193337,
                  53.521263486271266
                 ],
                 [
                  -2.074337151891771,
                  53.52124196814795
                 ],
                 [
                  -2.0743657467240455,
                  53.52123745791409
                 ],
                 [
                  -2.0745904029829627,
                  53.52120496832247
                 ],
                 [
                  -2.074620676495159,
                  53.52123639969272
                 ],
                 [
                  -2.074644848658261,
                  53.52126244365007
                 ],
                 [
                  -2.0748333091121642,
                  53.52122548388237
                 ],
                 [
                  -2.0749719742020774,
                  53.52115890160951
                 ],
                 [
                  -2.075075835893116,
                  53.521032046185425
                 ],
                 [
                  -2.0751133380384283,
                  53.520931381502876
                 ],
                 [
                  -2.07516717108603,
                  53.52064461026436
                 ],
                 [
                  -2.0752560258251034,
                  53.52061040823429
                 ],
                 [
                  -2.075610343837987,
                  53.52055716778403
                 ],
                 [
                  -2.0759601635435283,
                  53.520492247856424
                 ],
                 [
                  -2.0768271280765758,
                  53.520333451665614
                 ],
                 [
                  -2.0771000175331085,
                  53.52029463707719
                 ],
                 [
                  -2.0772070181131874,
                  53.520257725339455
                 ],
                 [
                  -2.077369813418579,
                  53.52019741470271
                 ],
                 [
                  -2.0775644275222436,
                  53.52019728818685
                 ],
                 [
                  -2.077891969362264,
                  53.52032826799556
                 ],
                 [
                  -2.0780896965146827,
                  53.520397329318726
                 ],
                 [
                  -2.0783690276619624,
                  53.52061469163344
                 ],
                 [
                  -2.082843964054198,
                  53.52061436067556
                 ],
                 [
                  -2.084418671727673,
                  53.520610560189326
                 ],
                 [
                  -2.0854744535515723,
                  53.52061160547648
                 ],
                 [
                  -2.0858529923543423,
                  53.52061223138453
                 ],
                 [
                  -2.0867096707734576,
                  53.52060801776812
                 ],
                 [
                  -2.088240476696881,
                  53.52060240119894
                 ],
                 [
                  -2.0909794265530866,
                  53.520611125857286
                 ],
                 [
                  -2.0921242181867084,
                  53.520598564602274
                 ],
                 [
                  -2.0921577063210672,
                  53.520729822065796
                 ],
                 [
                  -2.0925606648079778,
                  53.520864296932594
                 ],
                 [
                  -2.0926408326245465,
                  53.52095858566573
                 ],
                 [
                  -2.0926228020567375,
                  53.52101610820917
                 ],
                 [
                  -2.092603497972767,
                  53.52111685414647
                 ],
                 [
                  -2.092572018622843,
                  53.521222910877064
                 ],
                 [
                  -2.092548074637014,
                  53.5213055991603
                 ],
                 [
                  -2.092501627225487,
                  53.52144770098834
                 ],
                 [
                  -2.092443171495695,
                  53.52161578042327
                 ],
                 [
                  -2.092404276718526,
                  53.52174260060503
                 ],
                 [
                  -2.0924120107782738,
                  53.521867497081296
                 ],
                 [
                  -2.0924165679733435,
                  53.52188576511926
                 ],
                 [
                  -2.0924392934321907,
                  53.52188994057985
                 ],
                 [
                  -2.093270477333472,
                  53.521987328597255
                 ],
                 [
                  -2.093778952138421,
                  53.52202916254827
                 ],
                 [
                  -2.0941065041505866,
                  53.52213583559075
                 ],
                 [
                  -2.0943661051300397,
                  53.5222191989453
                 ],
                 [
                  -2.0946631439498833,
                  53.5221929044015
                 ],
                 [
                  -2.0947054180133278,
                  53.522189276381944
                 ],
                 [
                  -2.094561867299085,
                  53.52278443061833
                 ],
                 [
                  -2.09467908262306,
                  53.523258966904486
                 ],
                 [
                  -2.094877525379277,
                  53.52362911488337
                 ],
                 [
                  -2.0949032594711765,
                  53.523680312851894
                 ],
                 [
                  -2.0949229923460617,
                  53.52371758810772
                 ],
                 [
                  -2.0950154137800747,
                  53.52389237880268
                 ],
                 [
                  -2.0951167515692064,
                  53.524049549593244
                 ],
                 [
                  -2.0953528775174757,
                  53.52441607132353
                 ],
                 [
                  -2.095448227579307,
                  53.52456435081642
                 ],
                 [
                  -2.095516282913562,
                  53.52463123991917
                 ],
                 [
                  -2.0956961497585036,
                  53.524810452375156
                 ],
                 [
                  -2.0959033211837124,
                  53.52501875683291
                 ],
                 [
                  -2.096170945076393,
                  53.52528461056685
                 ],
                 [
                  -2.096199610246457,
                  53.52531154446877
                 ],
                 [
                  -2.0962689539296178,
                  53.525287227098005
                 ],
                 [
                  -2.0962946907622304,
                  53.52531191804611
                 ],
                 [
                  -2.0963731590199726,
                  53.52533476781181
                 ],
                 [
                  -2.096516542832213,
                  53.52538317466953
                 ],
                 [
                  -2.0966403946275665,
                  53.52542899235543
                 ],
                 [
                  -2.096791388979716,
                  53.525487277226425
                 ],
                 [
                  -2.0968073243127936,
                  53.525548817551616
                 ],
                 [
                  -2.0968007347421325,
                  53.52565800014194
                 ],
                 [
                  -2.0968339863194343,
                  53.52567774216759
                 ],
                 [
                  -2.0969170473806997,
                  53.525724400735136
                 ],
                 [
                  -2.097086273898509,
                  53.52581421060346
                 ],
                 [
                  -2.09727804631022,
                  53.52591918859201
                 ],
                 [
                  -2.097453257506588,
                  53.526015193234116
                 ],
                 [
                  -2.0976058133912185,
                  53.526102320373376
                 ],
                 [
                  -2.097643540658816,
                  53.526121159672435
                 ],
                 [
                  -2.0976752928544777,
                  53.52613730824151
                 ],
                 [
                  -2.0978504850843067,
                  53.5262243266412
                 ],
                 [
                  -2.0979651687414447,
                  53.526283538648435
                 ],
                 [
                  -2.098066421528743,
                  53.52634276248913
                 ],
                 [
                  -2.098184244094423,
                  53.52641464170946
                 ],
                 [
                  -2.0982718116900436,
                  53.52647207806864
                 ],
                 [
                  -2.09828999809594,
                  53.52648464320271
                 ],
                 [
                  -2.0984213959037956,
                  53.52656361001264
                 ],
                 [
                  -2.0986646458508784,
                  53.526713561518044
                 ],
                 [
                  -2.098793022671695,
                  53.526777254683616
                 ],
                 [
                  -2.0988315034581286,
                  53.52679789065574
                 ],
                 [
                  -2.098901815709438,
                  53.52686881980648
                 ],
                 [
                  -2.0990075867329177,
                  53.52694511070683
                 ],
                 [
                  -2.099117843302792,
                  53.5270241841791
                 ],
                 [
                  -2.099152615660768,
                  53.52705470673908
                 ],
                 [
                  -2.0992872248292285,
                  53.52717590356727
                 ],
                 [
                  -2.099321998033161,
                  53.52720732491341
                 ],
                 [
                  -2.0995213764600122,
                  53.52731507754589
                 ],
                 [
                  -2.099815916343598,
                  53.527481967403595
                 ],
                 [
                  -2.0998347853149184,
                  53.527493184373306
                 ],
                 [
                  -2.099864981389733,
                  53.527507535986935
                 ],
                 [
                  -2.1002538412599567,
                  53.52769105961588
                 ],
                 [
                  -2.100765975480931,
                  53.52798455302836
                 ],
                 [
                  -2.1008278764991375,
                  53.52802044339626
                 ],
                 [
                  -2.1009970143109813,
                  53.5281182456258
                 ],
                 [
                  -2.1010257242334642,
                  53.52813529471366
                 ],
                 [
                  -2.101078481267445,
                  53.52811817661158
                 ],
                 [
                  -2.101262362236784,
                  53.528035351925965
                 ],
                 [
                  -2.101298600932511,
                  53.528054191330824
                 ],
                 [
                  -2.1013378249938475,
                  53.52807302818816
                 ],
                 [
                  -2.1013861417002,
                  53.528097248526194
                 ],
                 [
                  -2.1014329564287717,
                  53.52811787567405
                 ],
                 [
                  -2.101591600644777,
                  53.5281959169714
                 ],
                 [
                  -2.1016941154287014,
                  53.52815539364176
                 ],
                 [
                  -2.101748429024661,
                  53.528190392063664
                 ],
                 [
                  -2.1018330070098767,
                  53.52824252701265
                 ],
                 [
                  -2.101895780374585,
                  53.52827931581735
                 ],
                 [
                  -2.1019236880366052,
                  53.52829816214926
                 ],
                 [
                  -2.102194928332018,
                  53.52818372026851
                 ],
                 [
                  -2.102357642448395,
                  53.528091925463755
                 ],
                 [
                  -2.102633387089424,
                  53.52793803147024
                 ],
                 [
                  -2.102737339622175,
                  53.52787585033305
                 ],
                 [
                  -2.10276291568442,
                  53.52785695812149
                 ],
                 [
                  -2.102548302043942,
                  53.52772774719375
                 ],
                 [
                  -2.1023096768838023,
                  53.52759577098248
                 ],
                 [
                  -2.1023714265167386,
                  53.52754315132675
                 ],
                 [
                  -2.102649769484652,
                  53.52725662448509
                 ],
                 [
                  -2.102666397433114,
                  53.527240435604476
                 ],
                 [
                  -2.1026814089538077,
                  53.52722514694992
                 ],
                 [
                  -2.102693445416168,
                  53.52721345530353
                 ],
                 [
                  -2.1027054840497015,
                  53.52720266159208
                 ],
                 [
                  -2.1031057179263684,
                  53.52679247452777
                 ],
                 [
                  -2.1031869808990393,
                  53.52670973462565
                 ],
                 [
                  -2.10326377500754,
                  53.52663050310139
                 ],
                 [
                  -2.1033434261974544,
                  53.52654956215978
                 ],
                 [
                  -2.103402113893431,
                  53.5264920028088
                 ],
                 [
                  -2.103420228721996,
                  53.526474014858096
                 ],
                 [
                  -2.1034442992992073,
                  53.52645063141409
                 ],
                 [
                  -2.1037327145566773,
                  53.52655012306805
                 ],
                 [
                  -2.103777902155748,
                  53.52656625833101
                 ],
                 [
                  -2.1038843420301503,
                  53.52658234024409
                 ],
                 [
                  -2.1040405433272276,
                  53.52660287105446
                 ],
                 [
                  -2.104017633796696,
                  53.52649146761111
                 ],
                 [
                  -2.1041412404136497,
                  53.52648327201748
                 ],
                 [
                  -2.1042815079043695,
                  53.52647326495577
                 ],
                 [
                  -2.104420283472971,
                  53.526463259035545
                 ],
                 [
                  -2.1045583122962563,
                  53.526453254507686
                 ],
                 [
                  -2.10481222913913,
                  53.52633163293334
                 ],
                 [
                  -2.1049221607667428,
                  53.52627582456813
                 ],
                 [
                  -2.104994527043029,
                  53.52626857199121
                 ],
                 [
                  -2.105019459195414,
                  53.52626697797613
                 ],
                 [
                  -2.104862013448397,
                  53.52574293001246
                 ],
                 [
                  -2.105403396787954,
                  53.52569204245161
                 ],
                 [
                  -2.106098574732982,
                  53.52562133659915
                 ],
                 [
                  -2.1068857667209535,
                  53.52554335628686
                 ],
                 [
                  -2.1073156042301595,
                  53.52549983785035
                 ],
                 [
                  -2.1080304373693397,
                  53.525433596363904
                 ],
                 [
                  -2.1089411944119894,
                  53.52533563163595
                 ],
                 [
                  -2.10984450637012,
                  53.525245844444456
                 ],
                 [
                  -2.1103361289510048,
                  53.52519507023526
                 ],
                 [
                  -2.1103784061639903,
                  53.5251914366742
                 ],
                 [
                  -2.1105201339264883,
                  53.525171536425695
                 ],
                 [
                  -2.110586516883507,
                  53.52515979361684
                 ],
                 [
                  -2.1106768630835044,
                  53.525132751903314
                 ],
                 [
                  -2.110794433091108,
                  53.52510119245139
                 ],
                 [
                  -2.1109692922034102,
                  53.525052417207114
                 ],
                 [
                  -2.1113866921491042,
                  53.526620498988464
                 ],
                 [
                  -2.111776902346023,
                  53.528148169319266
                 ],
                 [
                  -2.1123969760127967,
                  53.52929183731134
                 ],
                 [
                  -2.1127317645034074,
                  53.52983534182686
                 ],
                 [
                  -2.1129681163624725,
                  53.530218002837714
                 ],
                 [
                  -2.11313475929704,
                  53.53048571167636
                 ],
                 [
                  -2.1132862966061596,
                  53.53073177805183
                 ],
                 [
                  -2.113575569327688,
                  53.531131550826295
                 ],
                 [
                  -2.1137693308586862,
                  53.53139743525119
                 ],
                 [
                  -2.1139026759814947,
                  53.531583314103294
                 ],
                 [
                  -2.114096370511365,
                  53.531822241046
                 ],
                 [
                  -2.1141645819241166,
                  53.53193180235712
                 ],
                 [
                  -2.1142886755096892,
                  53.53209890933214
                 ],
                 [
                  -2.114431039004117,
                  53.53230643459593
                 ],
                 [
                  -2.1145083909935747,
                  53.53243755271158
                 ],
                 [
                  -2.114573531569012,
                  53.53256059567292
                 ],
                 [
                  -2.114775310708664,
                  53.5329343903642
                 ],
                 [
                  -2.1149115953157414,
                  53.5331454245395
                 ],
                 [
                  -2.115090426249372,
                  53.53344906234554
                 ],
                 [
                  -2.1151330544596303,
                  53.53357221568076
                 ],
                 [
                  -2.1152195768578497,
                  53.53378060278202
                 ],
                 [
                  -2.1152912084151,
                  53.534047501344226
                 ],
                 [
                  -2.115304977669329,
                  53.53412476545629
                 ],
                 [
                  -2.1153280313364844,
                  53.53427669318137
                 ],
                 [
                  -2.1153454430851686,
                  53.534549035302476
                 ],
                 [
                  -2.115347025785571,
                  53.53458228171023
                 ],
                 [
                  -2.1154272407033687,
                  53.53521318596454
                 ],
                 [
                  -2.1158222521597123,
                  53.53732230558982
                 ],
                 [
                  -2.116139473821958,
                  53.537455076123024
                 ],
                 [
                  -2.1163766984785948,
                  53.53758513926997
                 ],
                 [
                  -2.1165130482973384,
                  53.53781153789089
                 ],
                 [
                  -2.1165328252795717,
                  53.53785554892683
                 ],
                 [
                  -2.1161948569670415,
                  53.537871154223055
                 ],
                 [
                  -2.1151328493820403,
                  53.53793508418194
                 ],
                 [
                  -2.115088954342861,
                  53.5378964873955
                 ],
                 [
                  -2.115049612555273,
                  53.53783991488864
                 ],
                 [
                  -2.11502070408465,
                  53.53777704226148
                 ],
                 [
                  -2.1150160656549186,
                  53.537718639512306
                 ],
                 [
                  -2.115023467205324,
                  53.53764944182845
                 ],
                 [
                  -2.1150639393939903,
                  53.53757293348755
                 ],
                 [
                  -2.115066737368755,
                  53.537503740238634
                 ],
                 [
                  -2.1149941047536323,
                  53.53741934400175
                 ],
                 [
                  -2.1149033749135606,
                  53.53735922651436
                 ],
                 [
                  -2.1147540186066998,
                  53.537333312113795
                 ],
                 [
                  -2.114568361380282,
                  53.53731632726367
                 ],
                 [
                  -2.114040153648554,
                  53.53727549853801
                 ],
                 [
                  -2.1138726638449823,
                  53.53726038279678
                 ],
                 [
                  -2.1136551902850904,
                  53.53720847297786
                 ],
                 [
                  -2.1130029866652307,
                  53.537040159941576
                 ],
                 [
                  -2.1122796447123857,
                  53.53683048568265
                 ],
                 [
                  -2.112231377664051,
                  53.536830531095454
                 ],
                 [
                  -2.1120713948038015,
                  53.5368306814785
                 ],
                 [
                  -2.112017110689178,
                  53.53681365907686
                 ],
                 [
                  -2.1115445688892573,
                  53.53669719656099
                 ],
                 [
                  -2.1111957140994186,
                  53.536591490176676
                 ],
                 [
                  -2.1110612523307517,
                  53.53655028067209
                 ],
                 [
                  -2.110798554413667,
                  53.53647055193389
                 ],
                 [
                  -2.1104452859298433,
                  53.53638812010632
                 ],
                 [
                  -2.1104256167170266,
                  53.536382747097676
                 ],
                 [
                  -2.1100269884822636,
                  53.53626989447256
                 ],
                 [
                  -2.1094623397205257,
                  53.53612933714658
                 ],
                 [
                  -2.1091967137748133,
                  53.5360692857798
                 ],
                 [
                  -2.1089357087246263,
                  53.53606503111283
                 ],
                 [
                  -2.1087168704930606,
                  53.53605804274871
                 ],
                 [
                  -2.1084950357171666,
                  53.53604746136713
                 ],
                 [
                  -2.108265738582138,
                  53.53603688634649
                 ],
                 [
                  -2.1078809191878927,
                  53.53601836480159
                 ],
                 [
                  -2.1075323095949354,
                  53.53600340382863
                 ],
                 [
                  -2.1066374981863065,
                  53.53595478547086
                 ],
                 [
                  -2.106168192125627,
                  53.53592824708406
                 ],
                 [
                  -2.105662679663152,
                  53.53589904242415
                 ],
                 [
                  -2.1052733778716726,
                  53.535877820851496
                 ],
                 [
                  -2.105010736186072,
                  53.53586457340394
                 ],
                 [
                  -2.1047316753003362,
                  53.53585223863175
                 ],
                 [
                  -2.104269842136277,
                  53.535828381842336
                 ],
                 [
                  -2.1038987110022185,
                  53.53580983551845
                 ],
                 [
                  -2.103679848495025,
                  53.53579205462858
                 ],
                 [
                  -2.1035123482226536,
                  53.53576874678074
                 ],
                 [
                  -2.103323688153952,
                  53.53574015569641
                 ],
                 [
                  -2.1031530832899143,
                  53.53571873758913
                 ],
                 [
                  -2.1030187886048117,
                  53.5356909978338
                 ],
                 [
                  -2.1028255062964916,
                  53.53565432313169
                 ],
                 [
                  -2.1024904228849515,
                  53.5355719420092
                 ],
                 [
                  -2.1021960469115095,
                  53.535501207243655
                 ],
                 [
                  -2.1018034418951044,
                  53.53539721781755
                 ],
                 [
                  -2.101285608702162,
                  53.53525748074964
                 ],
                 [
                  -2.100689367875754,
                  53.53510154232262
                 ],
                 [
                  -2.100015971865123,
                  53.534931379548915
                 ],
                 [
                  -2.099398564180317,
                  53.53476287322329
                 ],
                 [
                  -2.098557629020961,
                  53.53454431719394
                 ],
                 [
                  -2.097938736457446,
                  53.534374007779185
                 ],
                 [
                  -2.0974616264422195,
                  53.53424410428838
                 ],
                 [
                  -2.097309157453505,
                  53.534207387307
                 ],
                 [
                  -2.0971597155339583,
                  53.53418854910344
                 ],
                 [
                  -2.0970435343609215,
                  53.53419044136654
                 ],
                 [
                  -2.097012008893974,
                  53.534221108324694
                 ],
                 [
                  -2.096950303506498,
                  53.53432719055714
                 ],
                 [
                  -2.096837638458491,
                  53.534506997998136
                 ],
                 [
                  -2.0965988951386723,
                  53.535040228117154
                 ],
                 [
                  -2.096158234980252,
                  53.53496690127507
                 ],
                 [
                  -2.095922784703037,
                  53.5349275529004
                 ],
                 [
                  -2.095809544553591,
                  53.53491057144307
                 ],
                 [
                  -2.095711515537508,
                  53.53490885248449
                 ],
                 [
                  -2.0956707977029385,
                  53.534945726629815
                 ],
                 [
                  -2.095275707885431,
                  53.53499995777559
                 ],
                 [
                  -2.0951082028779853,
                  53.5350261505195
                 ],
                 [
                  -2.0951112397276543,
                  53.53499379900418
                 ],
                 [
                  -2.0950929158644493,
                  53.534921927440706
                 ],
                 [
                  -2.09506707308741,
                  53.534824811777035
                 ],
                 [
                  -2.09503068813061,
                  53.53474217126695
                 ],
                 [
                  -2.094997338025156,
                  53.53468199382563
                 ],
                 [
                  -2.094942883852856,
                  53.534640702434636
                 ],
                 [
                  -2.0949465706972834,
                  53.53423220564339
                 ],
                 [
                  -2.095000698251387,
                  53.534183998425036
                 ],
                 [
                  -2.0951905408168883,
                  53.53402479895901
                 ],
                 [
                  -2.0947841844325157,
                  53.533821055441685
                 ],
                 [
                  -2.094294772725291,
                  53.533577838249556
                 ],
                 [
                  -2.0937919075373235,
                  53.53332303914025
                 ],
                 [
                  -2.093219438213233,
                  53.53303495451573
                 ],
                 [
                  -2.09280562355486,
                  53.532824920024325
                 ],
                 [
                  -2.092400778250637,
                  53.5326193695272
                 ],
                 [
                  -2.0922301839494644,
                  53.532537730893445
                 ],
                 [
                  -2.0919899775019997,
                  53.53241930424882
                 ],
                 [
                  -2.0917755379784855,
                  53.5323088542348
                 ],
                 [
                  -2.09155661819627,
                  53.53219670038515
                 ],
                 [
                  -2.0910808057623287,
                  53.531955257215664
                 ],
                 [
                  -2.090848198133985,
                  53.531838619236915
                 ],
                 [
                  -2.0905657775804474,
                  53.531694971772986
                 ],
                 [
                  -2.090283359129852,
                  53.531551413521235
                 ],
                 [
                  -2.0900100344685324,
                  53.53141323895417
                 ],
                 [
                  -2.08972151562728,
                  53.53126599964571
                 ],
                 [
                  -2.0894452048948033,
                  53.531125130419596
                 ],
                 [
                  -2.089147729183102,
                  53.53097519993134
                 ],
                 [
                  -2.088868307731611,
                  53.53083253491888
                 ],
                 [
                  -2.088575311378652,
                  53.53068080288829
                 ],
                 [
                  -2.0884695952258747,
                  53.530626967384656
                 ],
                 [
                  -2.0883412000933013,
                  53.53055337869041
                 ],
                 [
                  -2.088163023597947,
                  53.530465449793454
                 ],
                 [
                  -2.087953092593594,
                  53.53036038168015
                 ],
                 [
                  -2.0877446581745636,
                  53.530256299916395
                 ],
                 [
                  -2.087626865466123,
                  53.53019618159677
                 ],
                 [
                  -2.087614840398275,
                  53.5302150606031
                 ],
                 [
                  -2.087524605126784,
                  53.53036788500242
                 ],
                 [
                  -2.0873796841077685,
                  53.53030149629663
                 ],
                 [
                  -2.08723783422882,
                  53.53027643995085
                 ],
                 [
                  -2.0869859948040412,
                  53.53029459619318
                 ],
                 [
                  -2.0869989858070195,
                  53.53038219808117
                 ],
                 [
                  -2.0867206729783456,
                  53.53041070610093
                 ],
                 [
                  -2.0867283038694677,
                  53.530432266327836
                 ],
                 [
                  -2.086509566436598,
                  53.53045857419421
                 ],
                 [
                  -2.086500441963308,
                  53.53043692515352
                 ],
                 [
                  -2.0864443345552286,
                  53.530310715310726
                 ],
                 [
                  -2.0864277574503296,
                  53.53029410335289
                 ],
                 [
                  -2.0863101686740757,
                  53.53033237919426
                 ],
                 [
                  -2.086307209749808,
                  53.53034540996778
                 ],
                 [
                  -2.086309476896711,
                  53.53035933579411
                 ],
                 [
                  -2.0863036457795947,
                  53.530385764003285
                 ],
                 [
                  -2.0862928956888616,
                  53.53037102997172
                 ],
                 [
                  -2.0862664569780502,
                  53.53036700524139
                 ],
                 [
                  -2.086252449489567,
                  53.53033062329448
                 ],
                 [
                  -2.0862294316896492,
                  53.530327045499035
                 ],
                 [
                  -2.0861457314548475,
                  53.53033114897467
                 ],
                 [
                  -2.08596776244751,
                  53.53034340813466
                 ],
                 [
                  -2.0857218888312907,
                  53.53036020915782
                 ],
                 [
                  -2.0857249198310663,
                  53.530382671592456
                 ],
                 [
                  -2.0857433701836876,
                  53.53052652065719
                 ],
                 [
                  -2.085676955268401,
                  53.530529264015684
                 ],
                 [
                  -2.0854612197115676,
                  53.53053436156351
                 ],
                 [
                  -2.0854340578051986,
                  53.530542018443086
                 ],
                 [
                  -2.085409948090866,
                  53.53055281905657
                 ],
                 [
                  -2.085381309878046,
                  53.5305690141281
                 ],
                 [
                  -2.085364853544182,
                  53.530580707188214
                 ],
                 [
                  -2.085345235497407,
                  53.53059779462791
                 ],
                 [
                  -2.085324127546344,
                  53.53061667990424
                 ],
                 [
                  -2.085115059814929,
                  53.53093771117173
                 ],
                 [
                  -2.0849188233565634,
                  53.530897415174906
                 ],
                 [
                  -2.0848796382086676,
                  53.53089564630755
                 ],
                 [
                  -2.08488417457352,
                  53.53086329396437
                 ],
                 [
                  -2.084783044301723,
                  53.53086067032028
                 ],
                 [
                  -2.08479209399288,
                  53.530845388163364
                 ],
                 [
                  -2.0847512790746165,
                  53.53083732945888
                 ],
                 [
                  -2.084779912955711,
                  53.53078788749124
                 ],
                 [
                  -2.0847564653459982,
                  53.53078745564479
                 ],
                 [
                  -2.0846969173589383,
                  53.53077222224597
                 ],
                 [
                  -2.084613878720625,
                  53.53076065297008
                 ]
                ]
               ],
               "type": "Polygon"
              },
              "id": "E05000719",
              "properties": {},
              "type": "Feature"
             }
            ],
            "type": "FeatureCollection"
           },
           "type": "line"
          }
         ],
         "pitch": 0,
         "style": "carto-positron",
         "zoom": 11.427074818648302
        },
        "margin": {
         "b": 0,
         "l": 0,
         "r": 0,
         "t": 0
        },
        "template": {
         "data": {
          "bar": [
           {
            "error_x": {
             "color": "#2a3f5f"
            },
            "error_y": {
             "color": "#2a3f5f"
            },
            "marker": {
             "line": {
              "color": "#E5ECF6",
              "width": 0.5
             },
             "pattern": {
              "fillmode": "overlay",
              "size": 10,
              "solidity": 0.2
             }
            },
            "type": "bar"
           }
          ],
          "barpolar": [
           {
            "marker": {
             "line": {
              "color": "#E5ECF6",
              "width": 0.5
             },
             "pattern": {
              "fillmode": "overlay",
              "size": 10,
              "solidity": 0.2
             }
            },
            "type": "barpolar"
           }
          ],
          "carpet": [
           {
            "aaxis": {
             "endlinecolor": "#2a3f5f",
             "gridcolor": "white",
             "linecolor": "white",
             "minorgridcolor": "white",
             "startlinecolor": "#2a3f5f"
            },
            "baxis": {
             "endlinecolor": "#2a3f5f",
             "gridcolor": "white",
             "linecolor": "white",
             "minorgridcolor": "white",
             "startlinecolor": "#2a3f5f"
            },
            "type": "carpet"
           }
          ],
          "choropleth": [
           {
            "colorbar": {
             "outlinewidth": 0,
             "ticks": ""
            },
            "type": "choropleth"
           }
          ],
          "contour": [
           {
            "colorbar": {
             "outlinewidth": 0,
             "ticks": ""
            },
            "colorscale": [
             [
              0,
              "#0d0887"
             ],
             [
              0.1111111111111111,
              "#46039f"
             ],
             [
              0.2222222222222222,
              "#7201a8"
             ],
             [
              0.3333333333333333,
              "#9c179e"
             ],
             [
              0.4444444444444444,
              "#bd3786"
             ],
             [
              0.5555555555555556,
              "#d8576b"
             ],
             [
              0.6666666666666666,
              "#ed7953"
             ],
             [
              0.7777777777777778,
              "#fb9f3a"
             ],
             [
              0.8888888888888888,
              "#fdca26"
             ],
             [
              1,
              "#f0f921"
             ]
            ],
            "type": "contour"
           }
          ],
          "contourcarpet": [
           {
            "colorbar": {
             "outlinewidth": 0,
             "ticks": ""
            },
            "type": "contourcarpet"
           }
          ],
          "heatmap": [
           {
            "colorbar": {
             "outlinewidth": 0,
             "ticks": ""
            },
            "colorscale": [
             [
              0,
              "#0d0887"
             ],
             [
              0.1111111111111111,
              "#46039f"
             ],
             [
              0.2222222222222222,
              "#7201a8"
             ],
             [
              0.3333333333333333,
              "#9c179e"
             ],
             [
              0.4444444444444444,
              "#bd3786"
             ],
             [
              0.5555555555555556,
              "#d8576b"
             ],
             [
              0.6666666666666666,
              "#ed7953"
             ],
             [
              0.7777777777777778,
              "#fb9f3a"
             ],
             [
              0.8888888888888888,
              "#fdca26"
             ],
             [
              1,
              "#f0f921"
             ]
            ],
            "type": "heatmap"
           }
          ],
          "heatmapgl": [
           {
            "colorbar": {
             "outlinewidth": 0,
             "ticks": ""
            },
            "colorscale": [
             [
              0,
              "#0d0887"
             ],
             [
              0.1111111111111111,
              "#46039f"
             ],
             [
              0.2222222222222222,
              "#7201a8"
             ],
             [
              0.3333333333333333,
              "#9c179e"
             ],
             [
              0.4444444444444444,
              "#bd3786"
             ],
             [
              0.5555555555555556,
              "#d8576b"
             ],
             [
              0.6666666666666666,
              "#ed7953"
             ],
             [
              0.7777777777777778,
              "#fb9f3a"
             ],
             [
              0.8888888888888888,
              "#fdca26"
             ],
             [
              1,
              "#f0f921"
             ]
            ],
            "type": "heatmapgl"
           }
          ],
          "histogram": [
           {
            "marker": {
             "pattern": {
              "fillmode": "overlay",
              "size": 10,
              "solidity": 0.2
             }
            },
            "type": "histogram"
           }
          ],
          "histogram2d": [
           {
            "colorbar": {
             "outlinewidth": 0,
             "ticks": ""
            },
            "colorscale": [
             [
              0,
              "#0d0887"
             ],
             [
              0.1111111111111111,
              "#46039f"
             ],
             [
              0.2222222222222222,
              "#7201a8"
             ],
             [
              0.3333333333333333,
              "#9c179e"
             ],
             [
              0.4444444444444444,
              "#bd3786"
             ],
             [
              0.5555555555555556,
              "#d8576b"
             ],
             [
              0.6666666666666666,
              "#ed7953"
             ],
             [
              0.7777777777777778,
              "#fb9f3a"
             ],
             [
              0.8888888888888888,
              "#fdca26"
             ],
             [
              1,
              "#f0f921"
             ]
            ],
            "type": "histogram2d"
           }
          ],
          "histogram2dcontour": [
           {
            "colorbar": {
             "outlinewidth": 0,
             "ticks": ""
            },
            "colorscale": [
             [
              0,
              "#0d0887"
             ],
             [
              0.1111111111111111,
              "#46039f"
             ],
             [
              0.2222222222222222,
              "#7201a8"
             ],
             [
              0.3333333333333333,
              "#9c179e"
             ],
             [
              0.4444444444444444,
              "#bd3786"
             ],
             [
              0.5555555555555556,
              "#d8576b"
             ],
             [
              0.6666666666666666,
              "#ed7953"
             ],
             [
              0.7777777777777778,
              "#fb9f3a"
             ],
             [
              0.8888888888888888,
              "#fdca26"
             ],
             [
              1,
              "#f0f921"
             ]
            ],
            "type": "histogram2dcontour"
           }
          ],
          "mesh3d": [
           {
            "colorbar": {
             "outlinewidth": 0,
             "ticks": ""
            },
            "type": "mesh3d"
           }
          ],
          "parcoords": [
           {
            "line": {
             "colorbar": {
              "outlinewidth": 0,
              "ticks": ""
             }
            },
            "type": "parcoords"
           }
          ],
          "pie": [
           {
            "automargin": true,
            "type": "pie"
           }
          ],
          "scatter": [
           {
            "marker": {
             "colorbar": {
              "outlinewidth": 0,
              "ticks": ""
             }
            },
            "type": "scatter"
           }
          ],
          "scatter3d": [
           {
            "line": {
             "colorbar": {
              "outlinewidth": 0,
              "ticks": ""
             }
            },
            "marker": {
             "colorbar": {
              "outlinewidth": 0,
              "ticks": ""
             }
            },
            "type": "scatter3d"
           }
          ],
          "scattercarpet": [
           {
            "marker": {
             "colorbar": {
              "outlinewidth": 0,
              "ticks": ""
             }
            },
            "type": "scattercarpet"
           }
          ],
          "scattergeo": [
           {
            "marker": {
             "colorbar": {
              "outlinewidth": 0,
              "ticks": ""
             }
            },
            "type": "scattergeo"
           }
          ],
          "scattergl": [
           {
            "marker": {
             "colorbar": {
              "outlinewidth": 0,
              "ticks": ""
             }
            },
            "type": "scattergl"
           }
          ],
          "scattermapbox": [
           {
            "marker": {
             "colorbar": {
              "outlinewidth": 0,
              "ticks": ""
             }
            },
            "type": "scattermapbox"
           }
          ],
          "scatterpolar": [
           {
            "marker": {
             "colorbar": {
              "outlinewidth": 0,
              "ticks": ""
             }
            },
            "type": "scatterpolar"
           }
          ],
          "scatterpolargl": [
           {
            "marker": {
             "colorbar": {
              "outlinewidth": 0,
              "ticks": ""
             }
            },
            "type": "scatterpolargl"
           }
          ],
          "scatterternary": [
           {
            "marker": {
             "colorbar": {
              "outlinewidth": 0,
              "ticks": ""
             }
            },
            "type": "scatterternary"
           }
          ],
          "surface": [
           {
            "colorbar": {
             "outlinewidth": 0,
             "ticks": ""
            },
            "colorscale": [
             [
              0,
              "#0d0887"
             ],
             [
              0.1111111111111111,
              "#46039f"
             ],
             [
              0.2222222222222222,
              "#7201a8"
             ],
             [
              0.3333333333333333,
              "#9c179e"
             ],
             [
              0.4444444444444444,
              "#bd3786"
             ],
             [
              0.5555555555555556,
              "#d8576b"
             ],
             [
              0.6666666666666666,
              "#ed7953"
             ],
             [
              0.7777777777777778,
              "#fb9f3a"
             ],
             [
              0.8888888888888888,
              "#fdca26"
             ],
             [
              1,
              "#f0f921"
             ]
            ],
            "type": "surface"
           }
          ],
          "table": [
           {
            "cells": {
             "fill": {
              "color": "#EBF0F8"
             },
             "line": {
              "color": "white"
             }
            },
            "header": {
             "fill": {
              "color": "#C8D4E3"
             },
             "line": {
              "color": "white"
             }
            },
            "type": "table"
           }
          ]
         },
         "layout": {
          "annotationdefaults": {
           "arrowcolor": "#2a3f5f",
           "arrowhead": 0,
           "arrowwidth": 1
          },
          "autotypenumbers": "strict",
          "coloraxis": {
           "colorbar": {
            "outlinewidth": 0,
            "ticks": ""
           }
          },
          "colorscale": {
           "diverging": [
            [
             0,
             "#8e0152"
            ],
            [
             0.1,
             "#c51b7d"
            ],
            [
             0.2,
             "#de77ae"
            ],
            [
             0.3,
             "#f1b6da"
            ],
            [
             0.4,
             "#fde0ef"
            ],
            [
             0.5,
             "#f7f7f7"
            ],
            [
             0.6,
             "#e6f5d0"
            ],
            [
             0.7,
             "#b8e186"
            ],
            [
             0.8,
             "#7fbc41"
            ],
            [
             0.9,
             "#4d9221"
            ],
            [
             1,
             "#276419"
            ]
           ],
           "sequential": [
            [
             0,
             "#0d0887"
            ],
            [
             0.1111111111111111,
             "#46039f"
            ],
            [
             0.2222222222222222,
             "#7201a8"
            ],
            [
             0.3333333333333333,
             "#9c179e"
            ],
            [
             0.4444444444444444,
             "#bd3786"
            ],
            [
             0.5555555555555556,
             "#d8576b"
            ],
            [
             0.6666666666666666,
             "#ed7953"
            ],
            [
             0.7777777777777778,
             "#fb9f3a"
            ],
            [
             0.8888888888888888,
             "#fdca26"
            ],
            [
             1,
             "#f0f921"
            ]
           ],
           "sequentialminus": [
            [
             0,
             "#0d0887"
            ],
            [
             0.1111111111111111,
             "#46039f"
            ],
            [
             0.2222222222222222,
             "#7201a8"
            ],
            [
             0.3333333333333333,
             "#9c179e"
            ],
            [
             0.4444444444444444,
             "#bd3786"
            ],
            [
             0.5555555555555556,
             "#d8576b"
            ],
            [
             0.6666666666666666,
             "#ed7953"
            ],
            [
             0.7777777777777778,
             "#fb9f3a"
            ],
            [
             0.8888888888888888,
             "#fdca26"
            ],
            [
             1,
             "#f0f921"
            ]
           ]
          },
          "colorway": [
           "#636efa",
           "#EF553B",
           "#00cc96",
           "#ab63fa",
           "#FFA15A",
           "#19d3f3",
           "#FF6692",
           "#B6E880",
           "#FF97FF",
           "#FECB52"
          ],
          "font": {
           "color": "#2a3f5f"
          },
          "geo": {
           "bgcolor": "white",
           "lakecolor": "white",
           "landcolor": "#E5ECF6",
           "showlakes": true,
           "showland": true,
           "subunitcolor": "white"
          },
          "hoverlabel": {
           "align": "left"
          },
          "hovermode": "closest",
          "mapbox": {
           "style": "light"
          },
          "paper_bgcolor": "white",
          "plot_bgcolor": "#E5ECF6",
          "polar": {
           "angularaxis": {
            "gridcolor": "white",
            "linecolor": "white",
            "ticks": ""
           },
           "bgcolor": "#E5ECF6",
           "radialaxis": {
            "gridcolor": "white",
            "linecolor": "white",
            "ticks": ""
           }
          },
          "scene": {
           "xaxis": {
            "backgroundcolor": "#E5ECF6",
            "gridcolor": "white",
            "gridwidth": 2,
            "linecolor": "white",
            "showbackground": true,
            "ticks": "",
            "zerolinecolor": "white"
           },
           "yaxis": {
            "backgroundcolor": "#E5ECF6",
            "gridcolor": "white",
            "gridwidth": 2,
            "linecolor": "white",
            "showbackground": true,
            "ticks": "",
            "zerolinecolor": "white"
           },
           "zaxis": {
            "backgroundcolor": "#E5ECF6",
            "gridcolor": "white",
            "gridwidth": 2,
            "linecolor": "white",
            "showbackground": true,
            "ticks": "",
            "zerolinecolor": "white"
           }
          },
          "shapedefaults": {
           "line": {
            "color": "#2a3f5f"
           }
          },
          "ternary": {
           "aaxis": {
            "gridcolor": "white",
            "linecolor": "white",
            "ticks": ""
           },
           "baxis": {
            "gridcolor": "white",
            "linecolor": "white",
            "ticks": ""
           },
           "bgcolor": "#E5ECF6",
           "caxis": {
            "gridcolor": "white",
            "linecolor": "white",
            "ticks": ""
           }
          },
          "title": {
           "x": 0.05
          },
          "xaxis": {
           "automargin": true,
           "gridcolor": "white",
           "linecolor": "white",
           "ticks": "",
           "title": {
            "standoff": 15
           },
           "zerolinecolor": "white",
           "zerolinewidth": 2
          },
          "yaxis": {
           "automargin": true,
           "gridcolor": "white",
           "linecolor": "white",
           "ticks": "",
           "title": {
            "standoff": 15
           },
           "zerolinecolor": "white",
           "zerolinewidth": 2
          }
         }
        }
       }
      },
      "image/png": "[encoded data removed]",
      "text/html": [
       "<div>                            <div id=\"75308cb9-f9a6-482b-ba3c-e60e884fddd5\" class=\"plotly-graph-div\" style=\"height:525px; width:100%;\"></div>            <script type=\"text/javascript\">                require([\"plotly\"], function(Plotly) {                    window.PLOTLYENV=window.PLOTLYENV || {};                                    if (document.getElementById(\"75308cb9-f9a6-482b-ba3c-e60e884fddd5\")) {                    Plotly.newPlot(                        \"75308cb9-f9a6-482b-ba3c-e60e884fddd5\",                        [{\"hovertemplate\":\"lat=%{lat}<br>lon=%{lon}<extra></extra>\",\"lat\":[51.82906],\"legendgroup\":\"\",\"lon\":[-3.45886],\"marker\":{\"color\":\"#636efa\"},\"mode\":\"markers\",\"name\":\"\",\"showlegend\":false,\"subplot\":\"mapbox\",\"type\":\"scattermapbox\"}],                        {\"template\":{\"data\":{\"bar\":[{\"error_x\":{\"color\":\"#2a3f5f\"},\"error_y\":{\"color\":\"#2a3f5f\"},\"marker\":{\"line\":{\"color\":\"#E5ECF6\",\"width\":0.5},\"pattern\":{\"fillmode\":\"overlay\",\"size\":10,\"solidity\":0.2}},\"type\":\"bar\"}],\"barpolar\":[{\"marker\":{\"line\":{\"color\":\"#E5ECF6\",\"width\":0.5},\"pattern\":{\"fillmode\":\"overlay\",\"size\":10,\"solidity\":0.2}},\"type\":\"barpolar\"}],\"carpet\":[{\"aaxis\":{\"endlinecolor\":\"#2a3f5f\",\"gridcolor\":\"white\",\"linecolor\":\"white\",\"minorgridcolor\":\"white\",\"startlinecolor\":\"#2a3f5f\"},\"baxis\":{\"endlinecolor\":\"#2a3f5f\",\"gridcolor\":\"white\",\"linecolor\":\"white\",\"minorgridcolor\":\"white\",\"startlinecolor\":\"#2a3f5f\"},\"type\":\"carpet\"}],\"choropleth\":[{\"colorbar\":{\"outlinewidth\":0,\"ticks\":\"\"},\"type\":\"choropleth\"}],\"contour\":[{\"colorbar\":{\"outlinewidth\":0,\"ticks\":\"\"},\"colorscale\":[[0.0,\"#0d0887\"],[0.1111111111111111,\"#46039f\"],[0.2222222222222222,\"#7201a8\"],[0.3333333333333333,\"#9c179e\"],[0.4444444444444444,\"#bd3786\"],[0.5555555555555556,\"#d8576b\"],[0.6666666666666666,\"#ed7953\"],[0.7777777777777778,\"#fb9f3a\"],[0.8888888888888888,\"#fdca26\"],[1.0,\"#f0f921\"]],\"type\":\"contour\"}],\"contourcarpet\":[{\"colorbar\":{\"outlinewidth\":0,\"ticks\":\"\"},\"type\":\"contourcarpet\"}],\"heatmap\":[{\"colorbar\":{\"outlinewidth\":0,\"ticks\":\"\"},\"colorscale\":[[0.0,\"#0d0887\"],[0.1111111111111111,\"#46039f\"],[0.2222222222222222,\"#7201a8\"],[0.3333333333333333,\"#9c179e\"],[0.4444444444444444,\"#bd3786\"],[0.5555555555555556,\"#d8576b\"],[0.6666666666666666,\"#ed7953\"],[0.7777777777777778,\"#fb9f3a\"],[0.8888888888888888,\"#fdca26\"],[1.0,\"#f0f921\"]],\"type\":\"heatmap\"}],\"heatmapgl\":[{\"colorbar\":{\"outlinewidth\":0,\"ticks\":\"\"},\"colorscale\":[[0.0,\"#0d0887\"],[0.1111111111111111,\"#46039f\"],[0.2222222222222222,\"#7201a8\"],[0.3333333333333333,\"#9c179e\"],[0.4444444444444444,\"#bd3786\"],[0.5555555555555556,\"#d8576b\"],[0.6666666666666666,\"#ed7953\"],[0.7777777777777778,\"#fb9f3a\"],[0.8888888888888888,\"#fdca26\"],[1.0,\"#f0f921\"]],\"type\":\"heatmapgl\"}],\"histogram\":[{\"marker\":{\"pattern\":{\"fillmode\":\"overlay\",\"size\":10,\"solidity\":0.2}},\"type\":\"histogram\"}],\"histogram2d\":[{\"colorbar\":{\"outlinewidth\":0,\"ticks\":\"\"},\"colorscale\":[[0.0,\"#0d0887\"],[0.1111111111111111,\"#46039f\"],[0.2222222222222222,\"#7201a8\"],[0.3333333333333333,\"#9c179e\"],[0.4444444444444444,\"#bd3786\"],[0.5555555555555556,\"#d8576b\"],[0.6666666666666666,\"#ed7953\"],[0.7777777777777778,\"#fb9f3a\"],[0.8888888888888888,\"#fdca26\"],[1.0,\"#f0f921\"]],\"type\":\"histogram2d\"}],\"histogram2dcontour\":[{\"colorbar\":{\"outlinewidth\":0,\"ticks\":\"\"},\"colorscale\":[[0.0,\"#0d0887\"],[0.1111111111111111,\"#46039f\"],[0.2222222222222222,\"#7201a8\"],[0.3333333333333333,\"#9c179e\"],[0.4444444444444444,\"#bd3786\"],[0.5555555555555556,\"#d8576b\"],[0.6666666666666666,\"#ed7953\"],[0.7777777777777778,\"#fb9f3a\"],[0.8888888888888888,\"#fdca26\"],[1.0,\"#f0f921\"]],\"type\":\"histogram2dcontour\"}],\"mesh3d\":[{\"colorbar\":{\"outlinewidth\":0,\"ticks\":\"\"},\"type\":\"mesh3d\"}],\"parcoords\":[{\"line\":{\"colorbar\":{\"outlinewidth\":0,\"ticks\":\"\"}},\"type\":\"parcoords\"}],\"pie\":[{\"automargin\":true,\"type\":\"pie\"}],\"scatter\":[{\"marker\":{\"colorbar\":{\"outlinewidth\":0,\"ticks\":\"\"}},\"type\":\"scatter\"}],\"scatter3d\":[{\"line\":{\"colorbar\":{\"outlinewidth\":0,\"ticks\":\"\"}},\"marker\":{\"colorbar\":{\"outlinewidth\":0,\"ticks\":\"\"}},\"type\":\"scatter3d\"}],\"scattercarpet\":[{\"marker\":{\"colorbar\":{\"outlinewidth\":0,\"ticks\":\"\"}},\"type\":\"scattercarpet\"}],\"scattergeo\":[{\"marker\":{\"colorbar\":{\"outlinewidth\":0,\"ticks\":\"\"}},\"type\":\"scattergeo\"}],\"scattergl\":[{\"marker\":{\"colorbar\":{\"outlinewidth\":0,\"ticks\":\"\"}},\"type\":\"scattergl\"}],\"scattermapbox\":[{\"marker\":{\"colorbar\":{\"outlinewidth\":0,\"ticks\":\"\"}},\"type\":\"scattermapbox\"}],\"scatterpolar\":[{\"marker\":{\"colorbar\":{\"outlinewidth\":0,\"ticks\":\"\"}},\"type\":\"scatterpolar\"}],\"scatterpolargl\":[{\"marker\":{\"colorbar\":{\"outlinewidth\":0,\"ticks\":\"\"}},\"type\":\"scatterpolargl\"}],\"scatterternary\":[{\"marker\":{\"colorbar\":{\"outlinewidth\":0,\"ticks\":\"\"}},\"type\":\"scatterternary\"}],\"surface\":[{\"colorbar\":{\"outlinewidth\":0,\"ticks\":\"\"},\"colorscale\":[[0.0,\"#0d0887\"],[0.1111111111111111,\"#46039f\"],[0.2222222222222222,\"#7201a8\"],[0.3333333333333333,\"#9c179e\"],[0.4444444444444444,\"#bd3786\"],[0.5555555555555556,\"#d8576b\"],[0.6666666666666666,\"#ed7953\"],[0.7777777777777778,\"#fb9f3a\"],[0.8888888888888888,\"#fdca26\"],[1.0,\"#f0f921\"]],\"type\":\"surface\"}],\"table\":[{\"cells\":{\"fill\":{\"color\":\"#EBF0F8\"},\"line\":{\"color\":\"white\"}},\"header\":{\"fill\":{\"color\":\"#C8D4E3\"},\"line\":{\"color\":\"white\"}},\"type\":\"table\"}]},\"layout\":{\"annotationdefaults\":{\"arrowcolor\":\"#2a3f5f\",\"arrowhead\":0,\"arrowwidth\":1},\"autotypenumbers\":\"strict\",\"coloraxis\":{\"colorbar\":{\"outlinewidth\":0,\"ticks\":\"\"}},\"colorscale\":{\"diverging\":[[0,\"#8e0152\"],[0.1,\"#c51b7d\"],[0.2,\"#de77ae\"],[0.3,\"#f1b6da\"],[0.4,\"#fde0ef\"],[0.5,\"#f7f7f7\"],[0.6,\"#e6f5d0\"],[0.7,\"#b8e186\"],[0.8,\"#7fbc41\"],[0.9,\"#4d9221\"],[1,\"#276419\"]],\"sequential\":[[0.0,\"#0d0887\"],[0.1111111111111111,\"#46039f\"],[0.2222222222222222,\"#7201a8\"],[0.3333333333333333,\"#9c179e\"],[0.4444444444444444,\"#bd3786\"],[0.5555555555555556,\"#d8576b\"],[0.6666666666666666,\"#ed7953\"],[0.7777777777777778,\"#fb9f3a\"],[0.8888888888888888,\"#fdca26\"],[1.0,\"#f0f921\"]],\"sequentialminus\":[[0.0,\"#0d0887\"],[0.1111111111111111,\"#46039f\"],[0.2222222222222222,\"#7201a8\"],[0.3333333333333333,\"#9c179e\"],[0.4444444444444444,\"#bd3786\"],[0.5555555555555556,\"#d8576b\"],[0.6666666666666666,\"#ed7953\"],[0.7777777777777778,\"#fb9f3a\"],[0.8888888888888888,\"#fdca26\"],[1.0,\"#f0f921\"]]},\"colorway\":[\"#636efa\",\"#EF553B\",\"#00cc96\",\"#ab63fa\",\"#FFA15A\",\"#19d3f3\",\"#FF6692\",\"#B6E880\",\"#FF97FF\",\"#FECB52\"],\"font\":{\"color\":\"#2a3f5f\"},\"geo\":{\"bgcolor\":\"white\",\"lakecolor\":\"white\",\"landcolor\":\"#E5ECF6\",\"showlakes\":true,\"showland\":true,\"subunitcolor\":\"white\"},\"hoverlabel\":{\"align\":\"left\"},\"hovermode\":\"closest\",\"mapbox\":{\"style\":\"light\"},\"paper_bgcolor\":\"white\",\"plot_bgcolor\":\"#E5ECF6\",\"polar\":{\"angularaxis\":{\"gridcolor\":\"white\",\"linecolor\":\"white\",\"ticks\":\"\"},\"bgcolor\":\"#E5ECF6\",\"radialaxis\":{\"gridcolor\":\"white\",\"linecolor\":\"white\",\"ticks\":\"\"}},\"scene\":{\"xaxis\":{\"backgroundcolor\":\"#E5ECF6\",\"gridcolor\":\"white\",\"gridwidth\":2,\"linecolor\":\"white\",\"showbackground\":true,\"ticks\":\"\",\"zerolinecolor\":\"white\"},\"yaxis\":{\"backgroundcolor\":\"#E5ECF6\",\"gridcolor\":\"white\",\"gridwidth\":2,\"linecolor\":\"white\",\"showbackground\":true,\"ticks\":\"\",\"zerolinecolor\":\"white\"},\"zaxis\":{\"backgroundcolor\":\"#E5ECF6\",\"gridcolor\":\"white\",\"gridwidth\":2,\"linecolor\":\"white\",\"showbackground\":true,\"ticks\":\"\",\"zerolinecolor\":\"white\"}},\"shapedefaults\":{\"line\":{\"color\":\"#2a3f5f\"}},\"ternary\":{\"aaxis\":{\"gridcolor\":\"white\",\"linecolor\":\"white\",\"ticks\":\"\"},\"baxis\":{\"gridcolor\":\"white\",\"linecolor\":\"white\",\"ticks\":\"\"},\"bgcolor\":\"#E5ECF6\",\"caxis\":{\"gridcolor\":\"white\",\"linecolor\":\"white\",\"ticks\":\"\"}},\"title\":{\"x\":0.05},\"xaxis\":{\"automargin\":true,\"gridcolor\":\"white\",\"linecolor\":\"white\",\"ticks\":\"\",\"title\":{\"standoff\":15},\"zerolinecolor\":\"white\",\"zerolinewidth\":2},\"yaxis\":{\"automargin\":true,\"gridcolor\":\"white\",\"linecolor\":\"white\",\"ticks\":\"\",\"title\":{\"standoff\":15},\"zerolinecolor\":\"white\",\"zerolinewidth\":2}}},\"mapbox\":{\"domain\":{\"x\":[0.0,1.0],\"y\":[0.0,1.0]},\"center\":{\"lat\":51.82906,\"lon\":-3.45886},\"zoom\":10,\"style\":\"carto-positron\",\"layers\":[{\"below\":\"traces\",\"color\":\"deeppink\",\"line\":{\"width\":2.5},\"source\":{\"type\":\"FeatureCollection\",\"features\":[{\"id\":\"E05000719\",\"type\":\"Feature\",\"properties\":{},\"geometry\":{\"type\":\"Polygon\",\"coordinates\":[[[-2.084613878720625,53.53076065297008],[-2.0846048039263945,53.53073850040262],[-2.0845293226917683,53.530748438449244],[-2.084494645905321,53.53076203096444],[-2.084438839684503,53.5307529958557],[-2.084399621405557,53.53076479478653],[-2.0843061408125116,53.530793614701736],[-2.084199114781001,53.530828735065974],[-2.084173507217217,53.53083684087776],[-2.084150883384338,53.53084404484289],[-2.0840664809669143,53.53087196112309],[-2.083980586424081,53.53089987749593],[-2.083915695168702,53.53091969129613],[-2.083852424372654,53.53094040365622],[-2.083789028298492,53.53096111517193],[-2.083743780365522,53.53097552474988],[-2.0837080130352277,53.5309879052725],[-2.083614128505055,53.53101739905608],[-2.0834965979241353,53.53105612060307],[-2.083383540444894,53.53109268169877],[-2.083375980182225,53.53110616593316],[-2.0833141574436564,53.53112627747114],[-2.0832260022790563,53.53115434498597],[-2.0831272382498196,53.53118541475604],[-2.0830345052794357,53.53121558230618],[-2.082948772918876,53.531243047505974],[-2.0828739612292795,53.53126736182258],[-2.0827683612326178,53.53130158107521],[-2.0827201287822574,53.53131689027423],[-2.0826674239712957,53.5313348981648],[-2.082589483903073,53.53136041262088],[-2.0825633790330627,53.53136911705633],[-2.0824969995571325,53.53139081867122],[-2.08241706906208,53.531416932118105],[-2.0823582708973745,53.53143584292084],[-2.0822603168229192,53.53146825966749],[-2.082201518517227,53.53148717039308],[-2.0818743362818415,53.53159342766115],[-2.0818072703715567,53.53161548979682],[-2.0817070139251626,53.53164745735226],[-2.081431848616746,53.53173489835863],[-2.081298402027786,53.53177812099365],[-2.0812742836524913,53.53178532543243],[-2.0811190205010104,53.53183575163045],[-2.0810119137966794,53.53186457913503],[-2.0809877881697583,53.53183494293044],[-2.0809710845965355,53.53181608411573],[-2.080946899098627,53.53178824381763],[-2.0809106215639472,53.531746035740284],[-2.0807926898818807,53.53160944142743],[-2.0807700015974864,53.531583398648706],[-2.0807004390811987,53.53150302331114],[-2.08063848556222,53.531432526385736],[-2.080570422895631,53.53135520420084],[-2.0805492303319593,53.53133095714143],[-2.080506967072334,53.53128066525659],[-2.0804441989480402,53.53120747406778],[-2.080372338533575,53.53112709918662],[-2.0803527634318635,53.531102851000846],[-2.080305889155871,53.53104797898628],[-2.0802393197036055,53.53096984754859],[-2.080212146031269,53.53093931439912],[-2.0801727575019364,53.53089620934976],[-2.080104757718124,53.530818528215455],[-2.0800382515272897,53.53074075525615],[-2.080012571852146,53.53071111989313],[-2.0799686960238977,53.53066262566918],[-2.079918830410404,53.53060335300651],[-2.0798673545075905,53.53054767584744],[-2.0798310858875837,53.5305090609755],[-2.0798024209911796,53.53047942666686],[-2.079779747472105,53.53046057167876],[-2.0797646620187407,53.53044162262363],[-2.07974946677591,53.53043084945397],[-2.0796816987412727,53.530442576053424],[-2.079633332470001,53.53045258276325],[-2.0796002663279283,53.53046338818882],[-2.0795730577919898,53.53048047885145],[-2.0795203594382423,53.530502079798964],[-2.0794842008976877,53.53052187292072],[-2.07944343285201,53.53053807465812],[-2.0793545403189344,53.53056059848786],[-2.079271605246061,53.5305759293976],[-2.079197620096018,53.53058855869337],[-2.0791343392556323,53.53060567321973],[-2.079066468897843,53.53062908171151],[-2.0790258224456366,53.53064348555321],[-2.0789775675865028,53.53064711198448],[-2.07880861784015,53.530694848651784],[-2.0787558017450958,53.53065354878588],[-2.078714949704812,53.53062482110615],[-2.0786606686800475,53.53059879878461],[-2.0786198251047323,53.53057456344972],[-2.0785820706045426,53.53053864568811],[-2.078539721789384,53.53050722332524],[-2.078501949234188,53.530462318985784],[-2.078467157093085,53.53041462717856],[-2.0784429605530743,53.53037870044513],[-2.0782184133738406,53.53049485451926],[-2.078033067631412,53.53062257389959],[-2.0779878613168514,53.53066124265792],[-2.0779516936469196,53.53067654203959],[-2.0778536999225055,53.53068828736811],[-2.0777919300821983,53.53071528559636],[-2.077737691075225,53.53077920936055],[-2.0777137590402344,53.53088705474185],[-2.077692845569842,53.53101376831346],[-2.0776568607428074,53.53112889941124],[-2.0775905778478516,53.531204423239856],[-2.0774761972702995,53.53130244291714],[-2.0773827650284225,53.53136091088397],[-2.077325422235008,53.53136094810301],[-2.0772710124873863,53.53133222872929],[-2.077239229710175,53.53129720551247],[-2.077213561489671,53.53127295986401],[-2.0771441461827114,53.531268512434615],[-2.0770296122379706,53.5312829634009],[-2.0769014456549377,53.531325279781576],[-2.076853214200998,53.531341485448934],[-2.0766812754794652,53.53139101780426],[-2.0765908374436877,53.531454964326514],[-2.0765079467527086,53.5314963523415],[-2.076373838556582,53.5315548465229],[-2.0763195734838655,53.531606099658504],[-2.076303131928448,53.53166272067475],[-2.0762911632635053,53.53171673309936],[-2.076279174961868,53.531759872316165],[-2.0762595851090038,53.531794929568825],[-2.0762007658695865,53.53180395285626],[-2.076102744809697,53.531802218719086],[-2.0759880483426536,53.531796900690544],[-2.075868908003393,53.531809556707394],[-2.075766325928319,53.53183118774223],[-2.075639714255285,53.5319094444289],[-2.0754468899479463,53.53203725439651],[-2.0753112316990445,53.53213528545636],[-2.0751725073503082,53.53218838908384],[-2.075070063576184,53.53221810715775],[-2.074881413328163,53.532245182837414],[-2.0747623000678814,53.53227491112088],[-2.0746763727655955,53.53228934187914],[-2.0745692478622053,53.53227503208258],[-2.074495307678202,53.5322454248346],[-2.0743926811788524,53.5322427933387],[-2.0742946923225993,53.53225992785971],[-2.074179993199599,53.532252810427046],[-2.0740849458606214,53.53224568066811],[-2.073977868413787,53.53225832729915],[-2.0738797760475394,53.532287142815306],[-2.073772732915143,53.532319558237305],[-2.0737079710569692,53.53234574634842],[-2.0735933061967122,53.53235839732784],[-2.0734289169153715,53.5323899490093],[-2.073354922187381,53.53239987908214],[-2.0732478192355996,53.532398148195256],[-2.0731739092959307,53.53238561349949],[-2.073133242069673,53.532390130847865],[-2.0731136493277433,53.53242518758242],[-2.073109244665272,53.5324683218218],[-2.073104706921623,53.532505166988],[-2.0730926794437297,53.53252763897047],[-2.0729901112747364,53.53255915210934],[-2.072899705069429,53.53257358433347],[-2.0727639433749685,53.5326159009147],[-2.0726584062247477,53.53265738906364],[-2.0725634260358747,53.53268889720839],[-2.0724986303684787,53.532696125539616],[-2.072408078485493,53.53269887621018],[-2.0723340368752945,53.5326818486946],[-2.0722721807733353,53.532662117235134],[-2.072210370756097,53.5326693435992],[-2.0721742284265643,53.532701713699076],[-2.072174294365442,53.53274035281236],[-2.0720837929082747,53.53277275669836],[-2.072083846512218,53.53280420693006],[-2.07205527732775,53.53282848558587],[-2.0718667003436977,53.532828599477554],[-2.0718093311492733,53.53281425718858],[-2.071718704302292,53.53277297701255],[-2.071664295011846,53.53274335625915],[-2.0716039585817603,53.532738900153355],[-2.0715586757237263,53.53273623085099],[-2.0715541508646194,53.53270927658422],[-2.0715088650032247,53.53270481049202],[-2.071439441877535,53.532696765312124],[-2.0713579463604286,53.53268513287848],[-2.0713899422375364,53.53284865508492],[-2.0713280742060496,53.5328217342563],[-2.071153187250386,53.532900015067426],[-2.0709600024427632,53.532897434672456],[-2.070795601593012,53.532924490355775],[-2.070676415987934,53.53291287894903],[-2.0705527092061797,53.532876110789076],[-2.0704877187923074,53.53284200338529],[-2.0704424164376616,53.53282765330096],[-2.070311167800411,53.53281784633334],[-2.0701135131152393,53.532819759590005],[-2.070015461685865,53.532800947095325],[-2.069850995297583,53.532788463531084],[-2.069781561968818,53.532774127342144],[-2.069733269812971,53.53275708223294],[-2.0697076035146633,53.532731937042186],[-2.0696049894431705,53.53273738825573],[-2.0695069812621822,53.53274463436563],[-2.0694496587588613,53.53275724790125],[-2.0694089053829003,53.53278602630684],[-2.069354709824072,53.532810319244625],[-2.0693064988004597,53.532842696400536],[-2.06921597434228,53.53286251802309],[-2.0691495532267443,53.53286435336788],[-2.069043904673235,53.532840153269404],[-2.0689655101235096,53.53282312529273],[-2.068920180475673,53.53279170126227],[-2.0688417296491184,53.532816008896155],[-2.068781478136899,53.53286456644808],[-2.0686367427551735,53.53289879579706],[-2.068481373268724,53.532972658954236],[-2.068304938938492,53.53302128299646],[-2.068219012276714,53.53303840561879],[-2.0680757491308714,53.53306095217538],[-2.0679068568118484,53.53315899290175],[-2.0679069304127466,53.53320482089693],[-2.0677713215052576,53.53326869748143],[-2.0675542148802695,53.53339830526974],[-2.0674487106840815,53.533464860018015],[-2.067329638872797,53.53352603112563],[-2.0672799820005046,53.53358895970065],[-2.067189536539814,53.53366008797575],[-2.067120176860802,53.53369247617192],[-2.067017725153434,53.533723984114566],[-2.066294620230257,53.53348437806986],[-2.0659006988797772,53.53334531668618],[-2.06601206973648,53.533211277266254],[-2.065539626171725,53.533049794477314],[-2.0656345858801233,53.53300121854152],[-2.0656180193529994,53.53298685079204],[-2.065723593542179,53.532964238098685],[-2.0658425092500696,53.53280332666638],[-2.0651360959065226,53.532563705255576],[-2.0652142278544203,53.53241180239605],[-2.065267002696585,53.53235336533961],[-2.065058448011538,53.532141325423055],[-2.065471568837694,53.53199633793749],[-2.065795806870833,53.53188833042064],[-2.0659842619027655,53.5318127455258],[-2.06618176158943,53.53171469070166],[-2.066365591120126,53.53162464011019],[-2.06659915823026,53.53144569262605],[-2.066899096538015,53.53123516726705],[-2.0671568494680606,53.53109394542145],[-2.067309035051065,53.53097605627681],[-2.067607388231381,53.53078988128525],[-2.067840981410871,53.53063330605993],[-2.068071687375676,53.5305379247859],[-2.0683174462238063,53.530445141057854],[-2.0680547483404967,53.530369810764235],[-2.0685337170312237,53.52988780762072],[-2.0687265534413237,53.52968452807896],[-2.068676645174985,53.5296647878577],[-2.0687143959588,53.52962792458819],[-2.068635876481088,53.52960640407632],[-2.0686690494835873,53.52958392034411],[-2.068828973658132,53.529640438554175],[-2.0688938011599287,53.52957929729337],[-2.0689194401742528,53.52958916696522],[-2.0689676155184817,53.529537919798976],[-2.0690673010714535,53.529572008834634],[-2.069172737062242,53.52947121687654],[-2.0692962648774973,53.52940554891263],[-2.0693293946543894,53.52935700595986],[-2.069374541106914,53.52927880339069],[-2.0695300053831125,53.529347004539645],[-2.069636964370097,53.52926607016839],[-2.069809119236663,53.52934863898257],[-2.070402838563322,53.52892856269674],[-2.0712344239698264,53.52832673963172],[-2.0716533495878355,53.52804514271416],[-2.07242329355404,53.52749187113325],[-2.073309108242717,53.52685136131168],[-2.073910347151935,53.52643306046185],[-2.0741603906032857,53.52625130231979],[-2.0743578202651545,53.52613885703716],[-2.074710536442942,53.52599657075421],[-2.0753707873629827,53.52576701717756],[-2.0760718245011334,53.52553644519365],[-2.0764486845764942,53.5254094149831],[-2.076760718167589,53.52526723860743],[-2.076644384694246,53.52517206373369],[-2.0766080339619153,53.52508393636837],[-2.0765548545668415,53.524905153216146],[-2.076250183607293,53.52492242196463],[-2.076176331095065,53.524935049320874],[-2.0761024800472616,53.52494767663053],[-2.0760783905194287,53.52496925780864],[-2.076061796823722,53.52500880554419],[-2.0760905694065808,53.525033049481955],[-2.0761116229977774,53.5250528041583],[-2.0760951303668977,53.5250797726099],[-2.0760166930544384,53.525101388467995],[-2.0759684377819663,53.525101419241324],[-2.075923124102601,53.52507718671343],[-2.075885381712476,53.5250448616118],[-2.075823527041407,53.52502063957852],[-2.0757541092297895,53.52500900154508],[-2.075708852045199,53.52501621920592],[-2.075603293149509,53.52503335963437],[-2.075574710241769,53.52504505905117],[-2.075561130154374,53.525101678213524],[-2.0755989689029075,53.52511881660662],[-2.0756231454848955,53.52514575918415],[-2.07563215236967,53.525175406099116],[-2.075606593142158,53.5252095691349],[-2.075529781976148,53.52523657486523],[-2.0754724811114023,53.52525548135445],[-2.075389556689875,53.525272607255204],[-2.0752914142582886,53.5252636827355],[-2.075188877090153,53.52523139923732],[-2.075081790553969,53.52522877114872],[-2.0749625161932257,53.525227048570336],[-2.074835917591057,53.52523162143298],[-2.074766549009071,53.52524873748842],[-2.0747288786881484,53.52525595001716],[-2.0746232680841765,53.52524433491937],[-2.074578057972684,53.525278509140946],[-2.0744588944582074,53.5252686991549],[-2.074392494933064,53.525275929526835],[-2.074311088611053,53.52530743062842],[-2.074261366590058,53.52532273736115],[-2.074213112572493,53.52532276742526],[-2.074130105638954,53.52529316556707],[-2.0740560636737366,53.52526895020232],[-2.0740394454238946,53.52522493010352],[-2.074027329308093,53.52519528410207],[-2.0739820213492965,53.52517374644769],[-2.073891458927709,53.52516122252214],[-2.0737571932400094,53.52511997089639],[-2.0736138188869866,53.525061562354615],[-2.0735186908781094,53.52499782164139],[-2.0734325388280412,53.524946656341456],[-2.073387214290398,53.52491523396089],[-2.0733826687952788,53.524875698719114],[-2.0733750301484366,53.524846050791076],[-2.073346392278478,53.52482719823982],[-2.0733296933006495,53.524807439497444],[-2.0733206209829445,53.52473906335896],[-2.0732344603629977,53.52468250579631],[-2.0730789653182407,53.52459004712394],[-2.073009378235165,53.52447947530391],[-2.0729760875617145,53.52443097198075],[-2.072906632782392,53.52439686858045],[-2.072849399828072,53.52438252668979],[-2.072807038240766,53.524338522151304],[-2.072791931945227,53.52430438456125],[-2.0727540735760575,53.524274755049994],[-2.0727298823197575,53.52423792828548],[-2.0727177611858107,53.52420378886319],[-2.072717648284855,53.52413810281616],[-2.0726604466432756,53.52414263100147],[-2.072601638779299,53.5241525513631],[-2.0725081154435974,53.52415260831664],[-2.072409979281274,53.52414547910153],[-2.072331599442282,53.524128454200564],[-2.0723073356298776,53.52412128002978],[-2.072257684999278,53.52417711175726],[-2.072183769580429,53.52415280526898],[-2.072118821828019,53.524135771190835],[-2.0720736350614737,53.5241115371243],[-2.0719619678359966,53.5241187935246],[-2.0718713792539103,53.52408919467275],[-2.0717823833708437,53.52404521789301],[-2.0717083723498426,53.52403807356383],[-2.0716872604031384,53.523982374547344],[-2.071617827167406,53.523959951670626],[-2.071539347105917,53.523957303209954],[-2.0714156307807814,53.5238989701007],[-2.071358232730659,53.523860275400004],[-2.071305231467277,53.5237740439366],[-2.071198059617353,53.52371839541097],[-2.071133168616904,53.52366002683701],[-2.0711073168547753,53.52359624280798],[-2.071107235296146,53.523547720030635],[-2.0710830306314785,53.523500918540705],[-2.0710302098813695,53.523447035094584],[-2.0710555453454953,53.52327808712859],[-2.071054029453276,53.52326460906977],[-2.071050167170573,53.52322363608075],[-2.0710086675982615,53.523208834503784],[-2.0710025897699422,53.52318143078148],[-2.070978359168846,53.52315583644883],[-2.0709662729143026,53.52314236468597],[-2.070967864220936,53.52312708799911],[-2.0709379793094627,53.523105315286884],[-2.0709149279281807,53.5230785957935],[-2.070892244240974,53.523048956653334],[-2.0708748491523874,53.52302133584748],[-2.070871026230779,53.52300284184874],[-2.070869494351465,53.52297977949475],[-2.070858581299904,53.52296158992472],[-2.070843819757054,53.52294564883664],[-2.0708317381183403,53.52293487266999],[-2.0708185376867783,53.5229243227753],[-2.070805337862017,53.522914131514874],[-2.07079698031518,53.522898859843615],[-2.0707871265297535,53.522881793183934],[-2.070780343189529,53.52286532332475],[-2.070779469213547,53.52280182368637],[-2.070783604748436,53.52278362516711],[-2.070796736207712,53.52275299128088],[-2.0708004351993985,53.52273441820519],[-2.0707929389686646,53.52271375569399],[-2.070790099379154,53.52270057773001],[-2.0707770215641754,53.52268393184286],[-2.0707558875888434,53.52264368817047],[-2.070733235793966,53.522632918270915],[-2.0706953863571487,53.52260688164662],[-2.070663763085859,53.522586143558584],[-2.0706576364861973,53.522566378164484],[-2.0706681872213446,53.52255469061627],[-2.070752562393754,53.52251510337681],[-2.0707827603370443,53.52250160647336],[-2.0707962944608465,53.52248901830369],[-2.07078271673704,53.522475547407204],[-2.070707165841161,53.52243785189088],[-2.0707102294117554,53.52240999420432],[-2.0707011298936653,53.52239741947754],[-2.0706875582352233,53.522387543017004],[-2.070661917158095,53.52237408016285],[-2.070642251966258,53.522364207311405],[-2.0706437166704132,53.52234803186462],[-2.0706497757031315,53.52232736040519],[-2.0706692676658283,53.52230758071366],[-2.07069336128093,53.52228860634306],[-2.07070688935593,53.52227242373602],[-2.0707053691115145,53.522255351222476],[-2.070691786988556,53.52223918560331],[-2.0706872698152674,53.52221492596647],[-2.0706940113175514,53.52219380557952],[-2.070715147879178,53.52219064800266],[-2.0707369894824748,53.52220051955006],[-2.070773911921231,53.52219285930026],[-2.0708108493880784,53.522194185606274],[-2.070852379642391,53.52219101588131],[-2.070842526753457,53.52217349890613],[-2.070830415248388,53.52214475229986],[-2.0708424590430834,53.52213306294884],[-2.0708741423665735,53.522116869524666],[-2.0708499705278443,53.522089028033164],[-2.0708000702018574,53.522070187507694],[-2.0707714128060393,53.5220369574391],[-2.070709527886278,53.52199026812471],[-2.0706490095798733,53.521937235770665],[-2.0706761230532913,53.521870686842895],[-2.0706982009302357,53.52186048991442],[-2.070717546101621,53.52184056019466],[-2.0707272671736363,53.521815394166055],[-2.0707287175541933,53.521790681567204],[-2.0707242109243587,53.521772712886964],[-2.070716598730839,53.52175654282608],[-2.070698504135314,53.52171971201661],[-2.070941265055258,53.52172675660144],[-2.070995612971791,53.52172852100108],[-2.070999878283508,53.52160262728408],[-2.0710240408755056,53.52155049558764],[-2.0711442223225185,53.52128525243195],[-2.072098895656259,53.521273896036895],[-2.0729616714193337,53.521263486271266],[-2.074337151891771,53.52124196814795],[-2.0743657467240455,53.52123745791409],[-2.0745904029829627,53.52120496832247],[-2.074620676495159,53.52123639969272],[-2.074644848658261,53.52126244365007],[-2.0748333091121642,53.52122548388237],[-2.0749719742020774,53.52115890160951],[-2.075075835893116,53.521032046185425],[-2.0751133380384283,53.520931381502876],[-2.07516717108603,53.52064461026436],[-2.0752560258251034,53.52061040823429],[-2.075610343837987,53.52055716778403],[-2.0759601635435283,53.520492247856424],[-2.0768271280765758,53.520333451665614],[-2.0771000175331085,53.52029463707719],[-2.0772070181131874,53.520257725339455],[-2.077369813418579,53.52019741470271],[-2.0775644275222436,53.52019728818685],[-2.077891969362264,53.52032826799556],[-2.0780896965146827,53.520397329318726],[-2.0783690276619624,53.52061469163344],[-2.082843964054198,53.52061436067556],[-2.084418671727673,53.520610560189326],[-2.0854744535515723,53.52061160547648],[-2.0858529923543423,53.52061223138453],[-2.0867096707734576,53.52060801776812],[-2.088240476696881,53.52060240119894],[-2.0909794265530866,53.520611125857286],[-2.0921242181867084,53.520598564602274],[-2.0921577063210672,53.520729822065796],[-2.0925606648079778,53.520864296932594],[-2.0926408326245465,53.52095858566573],[-2.0926228020567375,53.52101610820917],[-2.092603497972767,53.52111685414647],[-2.092572018622843,53.521222910877064],[-2.092548074637014,53.5213055991603],[-2.092501627225487,53.52144770098834],[-2.092443171495695,53.52161578042327],[-2.092404276718526,53.52174260060503],[-2.0924120107782738,53.521867497081296],[-2.0924165679733435,53.52188576511926],[-2.0924392934321907,53.52188994057985],[-2.093270477333472,53.521987328597255],[-2.093778952138421,53.52202916254827],[-2.0941065041505866,53.52213583559075],[-2.0943661051300397,53.5222191989453],[-2.0946631439498833,53.5221929044015],[-2.0947054180133278,53.522189276381944],[-2.094561867299085,53.52278443061833],[-2.09467908262306,53.523258966904486],[-2.094877525379277,53.52362911488337],[-2.0949032594711765,53.523680312851894],[-2.0949229923460617,53.52371758810772],[-2.0950154137800747,53.52389237880268],[-2.0951167515692064,53.524049549593244],[-2.0953528775174757,53.52441607132353],[-2.095448227579307,53.52456435081642],[-2.095516282913562,53.52463123991917],[-2.0956961497585036,53.524810452375156],[-2.0959033211837124,53.52501875683291],[-2.096170945076393,53.52528461056685],[-2.096199610246457,53.52531154446877],[-2.0962689539296178,53.525287227098005],[-2.0962946907622304,53.52531191804611],[-2.0963731590199726,53.52533476781181],[-2.096516542832213,53.52538317466953],[-2.0966403946275665,53.52542899235543],[-2.096791388979716,53.525487277226425],[-2.0968073243127936,53.525548817551616],[-2.0968007347421325,53.52565800014194],[-2.0968339863194343,53.52567774216759],[-2.0969170473806997,53.525724400735136],[-2.097086273898509,53.52581421060346],[-2.09727804631022,53.52591918859201],[-2.097453257506588,53.526015193234116],[-2.0976058133912185,53.526102320373376],[-2.097643540658816,53.526121159672435],[-2.0976752928544777,53.52613730824151],[-2.0978504850843067,53.5262243266412],[-2.0979651687414447,53.526283538648435],[-2.098066421528743,53.52634276248913],[-2.098184244094423,53.52641464170946],[-2.0982718116900436,53.52647207806864],[-2.09828999809594,53.52648464320271],[-2.0984213959037956,53.52656361001264],[-2.0986646458508784,53.526713561518044],[-2.098793022671695,53.526777254683616],[-2.0988315034581286,53.52679789065574],[-2.098901815709438,53.52686881980648],[-2.0990075867329177,53.52694511070683],[-2.099117843302792,53.5270241841791],[-2.099152615660768,53.52705470673908],[-2.0992872248292285,53.52717590356727],[-2.099321998033161,53.52720732491341],[-2.0995213764600122,53.52731507754589],[-2.099815916343598,53.527481967403595],[-2.0998347853149184,53.527493184373306],[-2.099864981389733,53.527507535986935],[-2.1002538412599567,53.52769105961588],[-2.100765975480931,53.52798455302836],[-2.1008278764991375,53.52802044339626],[-2.1009970143109813,53.5281182456258],[-2.1010257242334642,53.52813529471366],[-2.101078481267445,53.52811817661158],[-2.101262362236784,53.528035351925965],[-2.101298600932511,53.528054191330824],[-2.1013378249938475,53.52807302818816],[-2.1013861417002,53.528097248526194],[-2.1014329564287717,53.52811787567405],[-2.101591600644777,53.5281959169714],[-2.1016941154287014,53.52815539364176],[-2.101748429024661,53.528190392063664],[-2.1018330070098767,53.52824252701265],[-2.101895780374585,53.52827931581735],[-2.1019236880366052,53.52829816214926],[-2.102194928332018,53.52818372026851],[-2.102357642448395,53.528091925463755],[-2.102633387089424,53.52793803147024],[-2.102737339622175,53.52787585033305],[-2.10276291568442,53.52785695812149],[-2.102548302043942,53.52772774719375],[-2.1023096768838023,53.52759577098248],[-2.1023714265167386,53.52754315132675],[-2.102649769484652,53.52725662448509],[-2.102666397433114,53.527240435604476],[-2.1026814089538077,53.52722514694992],[-2.102693445416168,53.52721345530353],[-2.1027054840497015,53.52720266159208],[-2.1031057179263684,53.52679247452777],[-2.1031869808990393,53.52670973462565],[-2.10326377500754,53.52663050310139],[-2.1033434261974544,53.52654956215978],[-2.103402113893431,53.5264920028088],[-2.103420228721996,53.526474014858096],[-2.1034442992992073,53.52645063141409],[-2.1037327145566773,53.52655012306805],[-2.103777902155748,53.52656625833101],[-2.1038843420301503,53.52658234024409],[-2.1040405433272276,53.52660287105446],[-2.104017633796696,53.52649146761111],[-2.1041412404136497,53.52648327201748],[-2.1042815079043695,53.52647326495577],[-2.104420283472971,53.526463259035545],[-2.1045583122962563,53.526453254507686],[-2.10481222913913,53.52633163293334],[-2.1049221607667428,53.52627582456813],[-2.104994527043029,53.52626857199121],[-2.105019459195414,53.52626697797613],[-2.104862013448397,53.52574293001246],[-2.105403396787954,53.52569204245161],[-2.106098574732982,53.52562133659915],[-2.1068857667209535,53.52554335628686],[-2.1073156042301595,53.52549983785035],[-2.1080304373693397,53.525433596363904],[-2.1089411944119894,53.52533563163595],[-2.10984450637012,53.525245844444456],[-2.1103361289510048,53.52519507023526],[-2.1103784061639903,53.5251914366742],[-2.1105201339264883,53.525171536425695],[-2.110586516883507,53.52515979361684],[-2.1106768630835044,53.525132751903314],[-2.110794433091108,53.52510119245139],[-2.1109692922034102,53.525052417207114],[-2.1113866921491042,53.526620498988464],[-2.111776902346023,53.528148169319266],[-2.1123969760127967,53.52929183731134],[-2.1127317645034074,53.52983534182686],[-2.1129681163624725,53.530218002837714],[-2.11313475929704,53.53048571167636],[-2.1132862966061596,53.53073177805183],[-2.113575569327688,53.531131550826295],[-2.1137693308586862,53.53139743525119],[-2.1139026759814947,53.531583314103294],[-2.114096370511365,53.531822241046],[-2.1141645819241166,53.53193180235712],[-2.1142886755096892,53.53209890933214],[-2.114431039004117,53.53230643459593],[-2.1145083909935747,53.53243755271158],[-2.114573531569012,53.53256059567292],[-2.114775310708664,53.5329343903642],[-2.1149115953157414,53.5331454245395],[-2.115090426249372,53.53344906234554],[-2.1151330544596303,53.53357221568076],[-2.1152195768578497,53.53378060278202],[-2.1152912084151,53.534047501344226],[-2.115304977669329,53.53412476545629],[-2.1153280313364844,53.53427669318137],[-2.1153454430851686,53.534549035302476],[-2.115347025785571,53.53458228171023],[-2.1154272407033687,53.53521318596454],[-2.1158222521597123,53.53732230558982],[-2.116139473821958,53.537455076123024],[-2.1163766984785948,53.53758513926997],[-2.1165130482973384,53.53781153789089],[-2.1165328252795717,53.53785554892683],[-2.1161948569670415,53.537871154223055],[-2.1151328493820403,53.53793508418194],[-2.115088954342861,53.5378964873955],[-2.115049612555273,53.53783991488864],[-2.11502070408465,53.53777704226148],[-2.1150160656549186,53.537718639512306],[-2.115023467205324,53.53764944182845],[-2.1150639393939903,53.53757293348755],[-2.115066737368755,53.537503740238634],[-2.1149941047536323,53.53741934400175],[-2.1149033749135606,53.53735922651436],[-2.1147540186066998,53.537333312113795],[-2.114568361380282,53.53731632726367],[-2.114040153648554,53.53727549853801],[-2.1138726638449823,53.53726038279678],[-2.1136551902850904,53.53720847297786],[-2.1130029866652307,53.537040159941576],[-2.1122796447123857,53.53683048568265],[-2.112231377664051,53.536830531095454],[-2.1120713948038015,53.5368306814785],[-2.112017110689178,53.53681365907686],[-2.1115445688892573,53.53669719656099],[-2.1111957140994186,53.536591490176676],[-2.1110612523307517,53.53655028067209],[-2.110798554413667,53.53647055193389],[-2.1104452859298433,53.53638812010632],[-2.1104256167170266,53.536382747097676],[-2.1100269884822636,53.53626989447256],[-2.1094623397205257,53.53612933714658],[-2.1091967137748133,53.5360692857798],[-2.1089357087246263,53.53606503111283],[-2.1087168704930606,53.53605804274871],[-2.1084950357171666,53.53604746136713],[-2.108265738582138,53.53603688634649],[-2.1078809191878927,53.53601836480159],[-2.1075323095949354,53.53600340382863],[-2.1066374981863065,53.53595478547086],[-2.106168192125627,53.53592824708406],[-2.105662679663152,53.53589904242415],[-2.1052733778716726,53.535877820851496],[-2.105010736186072,53.53586457340394],[-2.1047316753003362,53.53585223863175],[-2.104269842136277,53.535828381842336],[-2.1038987110022185,53.53580983551845],[-2.103679848495025,53.53579205462858],[-2.1035123482226536,53.53576874678074],[-2.103323688153952,53.53574015569641],[-2.1031530832899143,53.53571873758913],[-2.1030187886048117,53.5356909978338],[-2.1028255062964916,53.53565432313169],[-2.1024904228849515,53.5355719420092],[-2.1021960469115095,53.535501207243655],[-2.1018034418951044,53.53539721781755],[-2.101285608702162,53.53525748074964],[-2.100689367875754,53.53510154232262],[-2.100015971865123,53.534931379548915],[-2.099398564180317,53.53476287322329],[-2.098557629020961,53.53454431719394],[-2.097938736457446,53.534374007779185],[-2.0974616264422195,53.53424410428838],[-2.097309157453505,53.534207387307],[-2.0971597155339583,53.53418854910344],[-2.0970435343609215,53.53419044136654],[-2.097012008893974,53.534221108324694],[-2.096950303506498,53.53432719055714],[-2.096837638458491,53.534506997998136],[-2.0965988951386723,53.535040228117154],[-2.096158234980252,53.53496690127507],[-2.095922784703037,53.5349275529004],[-2.095809544553591,53.53491057144307],[-2.095711515537508,53.53490885248449],[-2.0956707977029385,53.534945726629815],[-2.095275707885431,53.53499995777559],[-2.0951082028779853,53.5350261505195],[-2.0951112397276543,53.53499379900418],[-2.0950929158644493,53.534921927440706],[-2.09506707308741,53.534824811777035],[-2.09503068813061,53.53474217126695],[-2.094997338025156,53.53468199382563],[-2.094942883852856,53.534640702434636],[-2.0949465706972834,53.53423220564339],[-2.095000698251387,53.534183998425036],[-2.0951905408168883,53.53402479895901],[-2.0947841844325157,53.533821055441685],[-2.094294772725291,53.533577838249556],[-2.0937919075373235,53.53332303914025],[-2.093219438213233,53.53303495451573],[-2.09280562355486,53.532824920024325],[-2.092400778250637,53.5326193695272],[-2.0922301839494644,53.532537730893445],[-2.0919899775019997,53.53241930424882],[-2.0917755379784855,53.5323088542348],[-2.09155661819627,53.53219670038515],[-2.0910808057623287,53.531955257215664],[-2.090848198133985,53.531838619236915],[-2.0905657775804474,53.531694971772986],[-2.090283359129852,53.531551413521235],[-2.0900100344685324,53.53141323895417],[-2.08972151562728,53.53126599964571],[-2.0894452048948033,53.531125130419596],[-2.089147729183102,53.53097519993134],[-2.088868307731611,53.53083253491888],[-2.088575311378652,53.53068080288829],[-2.0884695952258747,53.530626967384656],[-2.0883412000933013,53.53055337869041],[-2.088163023597947,53.530465449793454],[-2.087953092593594,53.53036038168015],[-2.0877446581745636,53.530256299916395],[-2.087626865466123,53.53019618159677],[-2.087614840398275,53.5302150606031],[-2.087524605126784,53.53036788500242],[-2.0873796841077685,53.53030149629663],[-2.08723783422882,53.53027643995085],[-2.0869859948040412,53.53029459619318],[-2.0869989858070195,53.53038219808117],[-2.0867206729783456,53.53041070610093],[-2.0867283038694677,53.530432266327836],[-2.086509566436598,53.53045857419421],[-2.086500441963308,53.53043692515352],[-2.0864443345552286,53.530310715310726],[-2.0864277574503296,53.53029410335289],[-2.0863101686740757,53.53033237919426],[-2.086307209749808,53.53034540996778],[-2.086309476896711,53.53035933579411],[-2.0863036457795947,53.530385764003285],[-2.0862928956888616,53.53037102997172],[-2.0862664569780502,53.53036700524139],[-2.086252449489567,53.53033062329448],[-2.0862294316896492,53.530327045499035],[-2.0861457314548475,53.53033114897467],[-2.08596776244751,53.53034340813466],[-2.0857218888312907,53.53036020915782],[-2.0857249198310663,53.530382671592456],[-2.0857433701836876,53.53052652065719],[-2.085676955268401,53.530529264015684],[-2.0854612197115676,53.53053436156351],[-2.0854340578051986,53.530542018443086],[-2.085409948090866,53.53055281905657],[-2.085381309878046,53.5305690141281],[-2.085364853544182,53.530580707188214],[-2.085345235497407,53.53059779462791],[-2.085324127546344,53.53061667990424],[-2.085115059814929,53.53093771117173],[-2.0849188233565634,53.530897415174906],[-2.0848796382086676,53.53089564630755],[-2.08488417457352,53.53086329396437],[-2.084783044301723,53.53086067032028],[-2.08479209399288,53.530845388163364],[-2.0847512790746165,53.53083732945888],[-2.084779912955711,53.53078788749124],[-2.0847564653459982,53.53078745564479],[-2.0846969173589383,53.53077222224597],[-2.084613878720625,53.53076065297008]]]},\"bbox\":[-2.1165328252795717,53.52019728818685,-2.065058448011538,53.53793508418194]}],\"bbox\":[-2.1165328252795717,53.52019728818685,-2.065058448011538,53.53793508418194]},\"type\":\"line\"}]},\"legend\":{\"tracegroupgap\":0},\"margin\":{\"t\":0,\"l\":0,\"r\":0,\"b\":0}},                        {\"responsive\": true}                    ).then(function(){\n",
       "                            \n",
       "var gd = document.getElementById('75308cb9-f9a6-482b-ba3c-e60e884fddd5');\n",
       "var x = new MutationObserver(function (mutations, observer) {{\n",
       "        var display = window.getComputedStyle(gd).display;\n",
       "        if (!display || display === 'none') {{\n",
       "            console.log([gd, 'removed!']);\n",
       "            Plotly.purge(gd);\n",
       "            observer.disconnect();\n",
       "        }}\n",
       "}});\n",
       "\n",
       "// Listen for the removal of the full notebook cells\n",
       "var notebookContainer = gd.closest('#notebook-container');\n",
       "if (notebookContainer) {{\n",
       "    x.observe(notebookContainer, {childList: true});\n",
       "}}\n",
       "\n",
       "// Listen for the clearing of the current output cell\n",
       "var outputEl = gd.closest('.output');\n",
       "if (outputEl) {{\n",
       "    x.observe(outputEl, {childList: true});\n",
       "}}\n",
       "\n",
       "                        })                };                });            </script>        </div>"
      ]
     },
     "metadata": {},
     "output_type": "display_data"
    }
   ],
   "source": [
    "import plotly_express as px\n",
    "\n",
    "mapbox_fig = px.scatter_mapbox( \n",
    "        data_frame=[],\n",
    "        lat=[51.82906],\n",
    "        lon=[-3.45886],\n",
    "        # color_continuous_scale=px.colors.sequential.dense,\n",
    "        color_continuous_scale=px.colors.cyclical.IceFire,\n",
    "        size_max=22,\n",
    "        center={\"lat\": 51.82906, \"lon\": -3.45886},\n",
    "        zoom=10,\n",
    "        mapbox_style=\"carto-positron\",\n",
    "    ) \\\n",
    "        .update_layout(\n",
    "        mapbox={\n",
    "            \"style\": \"carto-positron\",\n",
    "            \"layers\": [\n",
    "                {\n",
    "                    \"source\": json.loads(area_cd_geo_json),\n",
    "                    \"below\": \"traces\",\n",
    "                    \"type\": \"line\",\n",
    "                    \"color\": \"deeppink\",\n",
    "                    \"line\": {\"width\": 2.5},\n",
    "                }\n",
    "            ],\n",
    "        },\n",
    "        margin={\"l\": 0, \"r\": 0, \"t\": 0, \"b\": 0},\n",
    "    )\n",
    "    \n",
    "mapbox_fig.show()"
   ]
  },
  {
   "cell_type": "code",
   "execution_count": 20,
   "id": "651f6164-3d7b-4391-b8b5-079c5d8a71a4",
   "metadata": {},
   "outputs": [
    {
     "data": {
      "text/plain": [
       "area       area_lvl\n",
       "W06000016  lad         POLYGON ((-3.45886 51.82906, -3.45835 51.82873...\n",
       "Name: poly, dtype: geometry"
      ]
     },
     "execution_count": 20,
     "metadata": {},
     "output_type": "execute_result"
    }
   ],
   "source": [
    "GPD_ALL_AREA_DIM['poly'][:1]"
   ]
  },
  {
   "cell_type": "code",
   "execution_count": null,
   "id": "1fbc4f7f-85c5-4d95-ac91-aba4debcc368",
   "metadata": {},
   "outputs": [],
   "source": [
    "pdf_district_dim = spark.read.parquet(f\"{DATA_PATH}/processed/district_dim\").toPandas().set_index(\"district\")\n",
    "gpd_district_dim = gpd.GeoDataFrame(pdf_district_dim, geometry=\"district_poly_fc\")"
   ]
  },
  {
   "cell_type": "code",
   "execution_count": 19,
   "id": "321e6479-11b2-4d31-9738-4b4a6fa44953",
   "metadata": {},
   "outputs": [],
   "source": [
    "pdf = pd.read_parquet(\"/mnt/c/wsl_transfers/cens_staging/geo_parquets/_wards/\").set_index('WD22CD')\n"
   ]
  },
  {
   "cell_type": "code",
   "execution_count": 26,
   "id": "d59717fc-76bc-47ef-aded-cb85a85f2cd9",
   "metadata": {},
   "outputs": [],
   "source": [
    "# gpd_ward = gpd.GeoDataFrame(pdf, geometry=\"poly_4326\")"
   ]
  },
  {
   "cell_type": "code",
   "execution_count": 23,
   "id": "e6f781fa-fbc9-48eb-9348-bcfb9d62fbca",
   "metadata": {},
   "outputs": [
    {
     "ename": "ValueError",
     "evalue": "Missing geo metadata in Parquet/Feather file.\n            Use pandas.read_parquet/read_feather() instead.",
     "output_type": "error",
     "traceback": [
      "\u001b[0;31m---------------------------------------------------------------------------\u001b[0m",
      "\u001b[0;31mValueError\u001b[0m                                Traceback (most recent call last)",
      "Input \u001b[0;32mIn [23]\u001b[0m, in \u001b[0;36m<module>\u001b[0;34m\u001b[0m\n\u001b[0;32m----> 1\u001b[0m \u001b[43mgpd\u001b[49m\u001b[38;5;241;43m.\u001b[39;49m\u001b[43mread_parquet\u001b[49m\u001b[43m(\u001b[49m\u001b[38;5;124;43m\"\u001b[39;49m\u001b[38;5;124;43m/mnt/c/wsl_transfers/cens_staging/geo_parquets/_wards/\u001b[39;49m\u001b[38;5;124;43m\"\u001b[39;49m\u001b[43m)\u001b[49m\n",
      "File \u001b[0;32m~/envs/dbc1/lib/python3.8/site-packages/geopandas/io/arrow.py:579\u001b[0m, in \u001b[0;36m_read_parquet\u001b[0;34m(path, columns, storage_options, **kwargs)\u001b[0m\n\u001b[1;32m    576\u001b[0m     \u001b[38;5;28;01mexcept\u001b[39;00m \u001b[38;5;167;01mException\u001b[39;00m:\n\u001b[1;32m    577\u001b[0m         \u001b[38;5;28;01mpass\u001b[39;00m\n\u001b[0;32m--> 579\u001b[0m \u001b[38;5;28;01mreturn\u001b[39;00m \u001b[43m_arrow_to_geopandas\u001b[49m\u001b[43m(\u001b[49m\u001b[43mtable\u001b[49m\u001b[43m,\u001b[49m\u001b[43m \u001b[49m\u001b[43mmetadata\u001b[49m\u001b[43m)\u001b[49m\n",
      "File \u001b[0;32m~/envs/dbc1/lib/python3.8/site-packages/geopandas/io/arrow.py:369\u001b[0m, in \u001b[0;36m_arrow_to_geopandas\u001b[0;34m(table, metadata)\u001b[0m\n\u001b[1;32m    366\u001b[0m metadata \u001b[38;5;241m=\u001b[39m metadata \u001b[38;5;129;01mor\u001b[39;00m table\u001b[38;5;241m.\u001b[39mschema\u001b[38;5;241m.\u001b[39mmetadata\n\u001b[1;32m    368\u001b[0m \u001b[38;5;28;01mif\u001b[39;00m metadata \u001b[38;5;129;01mis\u001b[39;00m \u001b[38;5;28;01mNone\u001b[39;00m \u001b[38;5;129;01mor\u001b[39;00m \u001b[38;5;124mb\u001b[39m\u001b[38;5;124m\"\u001b[39m\u001b[38;5;124mgeo\u001b[39m\u001b[38;5;124m\"\u001b[39m \u001b[38;5;129;01mnot\u001b[39;00m \u001b[38;5;129;01min\u001b[39;00m metadata:\n\u001b[0;32m--> 369\u001b[0m     \u001b[38;5;28;01mraise\u001b[39;00m \u001b[38;5;167;01mValueError\u001b[39;00m(\n\u001b[1;32m    370\u001b[0m         \u001b[38;5;124;03m\"\"\"Missing geo metadata in Parquet/Feather file.\u001b[39;00m\n\u001b[1;32m    371\u001b[0m \u001b[38;5;124;03m        Use pandas.read_parquet/read_feather() instead.\"\"\"\u001b[39;00m\n\u001b[1;32m    372\u001b[0m     )\n\u001b[1;32m    374\u001b[0m \u001b[38;5;28;01mtry\u001b[39;00m:\n\u001b[1;32m    375\u001b[0m     metadata \u001b[38;5;241m=\u001b[39m _decode_metadata(metadata\u001b[38;5;241m.\u001b[39mget(\u001b[38;5;124mb\u001b[39m\u001b[38;5;124m\"\u001b[39m\u001b[38;5;124mgeo\u001b[39m\u001b[38;5;124m\"\u001b[39m, \u001b[38;5;124mb\u001b[39m\u001b[38;5;124m\"\u001b[39m\u001b[38;5;124m\"\u001b[39m))\n",
      "\u001b[0;31mValueError\u001b[0m: Missing geo metadata in Parquet/Feather file.\n            Use pandas.read_parquet/read_feather() instead."
     ]
    }
   ],
   "source": [
    "gpd.read_parquet(\"/mnt/c/wsl_transfers/cens_staging/geo_parquets/_wards/\")"
   ]
  },
  {
   "cell_type": "code",
   "execution_count": 29,
   "id": "b513a7c7-3417-47aa-93a6-9d303a95b5d0",
   "metadata": {},
   "outputs": [],
   "source": [
    "GPD_ALL_AREA_DIM = gpd.read_parquet(f\"/home/basal/live_datasets/processed/all_area_dim\")"
   ]
  },
  {
   "cell_type": "code",
   "execution_count": 19,
   "id": "4c0c1533-ddd9-4a83-b685-192d6a99a0ef",
   "metadata": {},
   "outputs": [
    {
     "data": {
      "text/plain": [
       "area       area_lvl\n",
       "W06000016  lad         POLYGON ((-3.45886 51.82906, -3.45835 51.82873...\n",
       "Name: poly, dtype: geometry"
      ]
     },
     "execution_count": 19,
     "metadata": {},
     "output_type": "execute_result"
    }
   ],
   "source": []
  }
 ],
 "metadata": {
  "kernelspec": {
   "display_name": "Python 3 (ipykernel)",
   "language": "python",
   "name": "python3"
  },
  "language_info": {
   "codemirror_mode": {
    "name": "ipython",
    "version": 3
   },
   "file_extension": ".py",
   "mimetype": "text/x-python",
   "name": "python",
   "nbconvert_exporter": "python",
   "pygments_lexer": "ipython3",
   "version": "3.8.5"
  }
 },
 "nbformat": 4,
 "nbformat_minor": 5
}
