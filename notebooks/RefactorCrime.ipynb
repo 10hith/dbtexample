{
 "cells": [
  {
   "cell_type": "code",
   "execution_count": 4,
   "id": "b3149c12-5468-4beb-ae90-a642ecdd6606",
   "metadata": {},
   "outputs": [
    {
     "data": {
      "text/plain": [
       "polars.cfg.Config"
      ]
     },
     "execution_count": 4,
     "metadata": {},
     "output_type": "execute_result"
    }
   ],
   "source": [
    "from utils.spark_utils import get_spatial_spark_session\n",
    "from utils.params import CENS_STAGING_PATH\n",
    "from utils.dbutils import sdf_df_from_query, pl_df_from_query\n",
    "import polars as pl\n",
    "pl.Config.set_fmt_str_lengths(50)\n",
    "# equivalent to\n",
    "# os.environ['POLARS_FMT_STR_LEN'] = str(max_len)"
   ]
  },
  {
   "cell_type": "code",
   "execution_count": 5,
   "id": "c50f4f79-7935-482a-bb56-700fc587f7d9",
   "metadata": {},
   "outputs": [],
   "source": [
    "from IPython.core.interactiveshell import InteractiveShell\n",
    "InteractiveShell.ast_node_interactivity = \"all\""
   ]
  },
  {
   "cell_type": "code",
   "execution_count": 6,
   "id": "dcffd7e3-5bba-44c0-9251-7e66c5197828",
   "metadata": {},
   "outputs": [],
   "source": [
    "area_mapping_query=\"\"\"\n",
    "SELECT\n",
    "\t*\n",
    "FROM\n",
    "\tarea_mapping\n",
    "WHERE\n",
    "\toacd IS NOT NULL\n",
    "\tAND wdnm IS NOT NULL\n",
    "ORDER BY\n",
    "\toacd\n",
    "\"\"\"\n",
    "area_mapping = pl_df_from_query(\"cens\", area_mapping_query)"
   ]
  },
  {
   "cell_type": "code",
   "execution_count": 11,
   "id": "9aa12d95-74be-4f8b-8078-9cb1c6ca2c0c",
   "metadata": {},
   "outputs": [],
   "source": [
    "pop_query = \"\"\"\n",
    "SELECT\n",
    "\tDISTINCT area_lvl,\n",
    "\t\"geography code\" AS area_cd,\n",
    "\t\"Sex: All persons; measures: Value\" AS pop\n",
    "FROM\n",
    "\tts008\n",
    "\"\"\"\n",
    "pop = pl_df_from_query(\"cens\", pop_query)"
   ]
  },
  {
   "cell_type": "code",
   "execution_count": null,
   "id": "19b17c3f-9d20-4d73-ac51-54f9b3374277",
   "metadata": {},
   "outputs": [],
   "source": [
    "crime_agg_raw_query = \"\"\"\n",
    "select * from crime_agg_raw\n",
    "\"\""
   ]
  },
  {
   "cell_type": "code",
   "execution_count": 47,
   "id": "63dc8af3-38c7-448d-9d61-e3bffee786d5",
   "metadata": {},
   "outputs": [
    {
     "data": {
      "text/plain": [
       "({'oacd': Utf8,\n",
       "  'lsoacd': Utf8,\n",
       "  'wdcd': Utf8,\n",
       "  'wdnm': Utf8,\n",
       "  'ladcd': Utf8,\n",
       "  'ladnm': Utf8,\n",
       "  'utlacd': Utf8,\n",
       "  'utlanm': Utf8},\n",
       " {'area_lvl': Utf8, 'area_cd': Utf8, 'pop': Int32})"
      ]
     },
     "execution_count": 47,
     "metadata": {},
     "output_type": "execute_result"
    }
   ],
   "source": [
    "area_mapping.schema, pop.schema"
   ]
  },
  {
   "cell_type": "code",
   "execution_count": 43,
   "id": "55498da1-b28c-4382-aa9f-85446f27c280",
   "metadata": {},
   "outputs": [],
   "source": [
    "crime_agg_oa = pl.read_parquet('/home/basal/cens_staging/crime_agg_oa/data.parquet')"
   ]
  },
  {
   "cell_type": "code",
   "execution_count": 87,
   "id": "9af7368d-9c0e-4273-81f6-c597226c4d27",
   "metadata": {},
   "outputs": [
    {
     "data": {
      "text/plain": [
       "{'year': Int32,\n",
       " 'oacd': Utf8,\n",
       " 'ladcd': Utf8,\n",
       " 'wdcd': Utf8,\n",
       " 'crime_type_cd': Int32,\n",
       " 'crime_count': Float64}"
      ]
     },
     "execution_count": 87,
     "metadata": {},
     "output_type": "execute_result"
    }
   ],
   "source": [
    "crime_agg_oa.schema"
   ]
  },
  {
   "cell_type": "code",
   "execution_count": 90,
   "id": "f925e90b-6a2b-4357-bf5b-ede6972af3a8",
   "metadata": {},
   "outputs": [
    {
     "data": {
      "text/html": [
       "<div>\n",
       "<style>\n",
       ".pl-dataframe > thead > tr > th {\n",
       "  text-align: right;\n",
       "}\n",
       "</style>\n",
       "\n",
       "<table border=\"1\" class=\"pl-dataframe\">\n",
       "<small>shape: (1, 1)</small>\n",
       "<thead>\n",
       "<tr>\n",
       "<th>\n",
       "crime_count\n",
       "</th>\n",
       "</tr>\n",
       "<tr>\n",
       "<td>\n",
       "f64\n",
       "</td>\n",
       "</tr>\n",
       "</thead>\n",
       "<tbody>\n",
       "<tr>\n",
       "<td>\n",
       "284801.0\n",
       "</td>\n",
       "</tr>\n",
       "</tbody>\n",
       "</table>\n",
       "</div>"
      ],
      "text/plain": [
       "shape: (1, 1)\n",
       "┌─────────────┐\n",
       "│ crime_count │\n",
       "│ ---         │\n",
       "│ f64         │\n",
       "╞═════════════╡\n",
       "│ 284801.0    │\n",
       "└─────────────┘"
      ]
     },
     "execution_count": 90,
     "metadata": {},
     "output_type": "execute_result"
    }
   ],
   "source": [
    "crime_agg_oa.filter(pl.col('ladcd').eq('E09000006') & \n",
    "        pl.col('crime_type_cd').eq(99)\n",
    "        ).select(pl.col('crime_count').sum())"
   ]
  },
  {
   "cell_type": "code",
   "execution_count": 15,
   "id": "39ad4bd8-ff75-4e2a-b1c3-92c2f79f08ff",
   "metadata": {},
   "outputs": [],
   "source": [
    "%config IPCompleter.greedy=True"
   ]
  },
  {
   "cell_type": "code",
   "execution_count": 44,
   "id": "107af6bb-8599-4679-b4ad-e1bfe94d8c7c",
   "metadata": {},
   "outputs": [],
   "source": [
    "oa = crime_agg_oa.groupby(['oacd', 'crime_type_cd', 'year']).agg([\n",
    "    pl.col('crime_count').sum()\n",
    "]).rename({\"oacd\": \"area_cd\"})\n",
    "\n",
    "ward = crime_agg_oa.groupby(['wdcd', 'crime_type_cd', 'year']).agg([\n",
    "    pl.col('crime_count').sum()\n",
    "]).rename({\"wdcd\": \"area_cd\"})\n",
    "\n",
    "\n",
    "lad = crime_agg_oa.groupby(['ladcd', 'crime_type_cd', 'year']).agg([\n",
    "    pl.col('crime_count').sum()\n",
    "]).rename({\"ladcd\": \"area_cd\"})"
   ]
  },
  {
   "cell_type": "code",
   "execution_count": 55,
   "id": "9bbf203c-aed1-4b71-b02a-42ad06e4b784",
   "metadata": {},
   "outputs": [],
   "source": [
    "area_cd_stacked_w_pop = oa.vstack(ward).vstack(lad)\\\n",
    "    .join(pop, on=\"area_cd\", how=\"inner\")"
   ]
  },
  {
   "cell_type": "code",
   "execution_count": 86,
   "id": "ffa75918-45d2-45d2-8540-51e274b016fb",
   "metadata": {},
   "outputs": [
    {
     "data": {
      "text/html": [
       "<div>\n",
       "<style>\n",
       ".pl-dataframe > thead > tr > th {\n",
       "  text-align: right;\n",
       "}\n",
       "</style>\n",
       "\n",
       "<table border=\"1\" class=\"pl-dataframe\">\n",
       "<small>shape: (1, 1)</small>\n",
       "<thead>\n",
       "<tr>\n",
       "<th>\n",
       "crime_count\n",
       "</th>\n",
       "</tr>\n",
       "<tr>\n",
       "<td>\n",
       "f64\n",
       "</td>\n",
       "</tr>\n",
       "</thead>\n",
       "<tbody>\n",
       "<tr>\n",
       "<td>\n",
       "284801.0\n",
       "</td>\n",
       "</tr>\n",
       "</tbody>\n",
       "</table>\n",
       "</div>"
      ],
      "text/plain": [
       "shape: (1, 1)\n",
       "┌─────────────┐\n",
       "│ crime_count │\n",
       "│ ---         │\n",
       "│ f64         │\n",
       "╞═════════════╡\n",
       "│ 284801.0    │\n",
       "└─────────────┘"
      ]
     },
     "execution_count": 86,
     "metadata": {},
     "output_type": "execute_result"
    }
   ],
   "source": [
    "area_cd_stacked_w_pop\\\n",
    "    .filter(\n",
    "        pl.col('area_cd').eq('E09000006') & \n",
    "        pl.col('area_lvl').eq('lad') &\n",
    "        pl.col('crime_type_cd').eq(99)\n",
    "    )\\\n",
    "    .with_columns([\n",
    "        ((pl.col('crime_count')/pl.col('pop'))*1000).alias('crime_rate')\n",
    "    ])\\\n",
    "    .select(pl.col('crime_count').sum())"
   ]
  },
  {
   "cell_type": "code",
   "execution_count": 84,
   "id": "faee6469-4240-4a49-b432-d674dee01152",
   "metadata": {},
   "outputs": [],
   "source": [
    "# df.pivot"
   ]
  }
 ],
 "metadata": {
  "kernelspec": {
   "display_name": "Python 3 (ipykernel)",
   "language": "python",
   "name": "python3"
  },
  "language_info": {
   "codemirror_mode": {
    "name": "ipython",
    "version": 3
   },
   "file_extension": ".py",
   "mimetype": "text/x-python",
   "name": "python",
   "nbconvert_exporter": "python",
   "pygments_lexer": "ipython3",
   "version": "3.8.5"
  }
 },
 "nbformat": 4,
 "nbformat_minor": 5
}
