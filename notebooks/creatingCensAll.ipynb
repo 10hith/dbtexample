{
 "cells": [
  {
   "cell_type": "code",
   "execution_count": 5,
   "id": "85d0cfdc-16c7-41c5-b84c-8bac3ca04e97",
   "metadata": {},
   "outputs": [],
   "source": [
    "import glob\n",
    "import polars as pl\n",
    "import os"
   ]
  },
  {
   "cell_type": "code",
   "execution_count": 6,
   "id": "606039ff-4d1f-418d-bbcc-5cf42634e431",
   "metadata": {},
   "outputs": [],
   "source": [
    "files = glob.glob(\"/mnt/c/wsl_transfers/cens_staging/cens_topic_summaries_parquet/*\")"
   ]
  },
  {
   "cell_type": "code",
   "execution_count": 20,
   "id": "4368277f-1980-45c0-a748-be026c37434e",
   "metadata": {},
   "outputs": [],
   "source": [
    "pl_dfs = []\n",
    "for file in files:\n",
    "    table_name = os.path.basename(file).split('.')[0]\n",
    "    pl_dfs.append(pl.scan_parquet(f'{file}'))"
   ]
  },
  {
   "cell_type": "code",
   "execution_count": 22,
   "id": "b116778e-de8c-4ace-8c5a-0e5968e8e488",
   "metadata": {},
   "outputs": [
    {
     "data": {
      "text/html": [
       "<i>naive plan: (run <b>LazyFrame.describe_optimized_plan()</b> to see the optimized plan)</i>\n",
       "    <p></p>\n",
       "    <div>  PARQUET SCAN /mnt/c/wsl_transfers/cens_staging/cens_topic_summaries_parquet/ts001.parquet<p></p>  PROJECT */7 COLUMNS<p></p></div>"
      ],
      "text/plain": [
       "<polars.LazyFrame object at 0x7FA1C2366DC0>"
      ]
     },
     "execution_count": 22,
     "metadata": {},
     "output_type": "execute_result"
    }
   ],
   "source": [
    "pl_dfs[0]"
   ]
  },
  {
   "cell_type": "code",
   "execution_count": 25,
   "id": "266ee570-c47d-4756-9972-1822736a619d",
   "metadata": {},
   "outputs": [],
   "source": [
    "cens_all = pl.concat(pl_dfs, rechunk= True, how = 'diagonal', parallel = True)"
   ]
  },
  {
   "cell_type": "code",
   "execution_count": null,
   "id": "5b1f4d49-b895-4243-966f-a4e51673566e",
   "metadata": {},
   "outputs": [],
   "source": [
    "cens_all.fetch(10)"
   ]
  }
 ],
 "metadata": {
  "kernelspec": {
   "display_name": "Python 3 (ipykernel)",
   "language": "python",
   "name": "python3"
  },
  "language_info": {
   "codemirror_mode": {
    "name": "ipython",
    "version": 3
   },
   "file_extension": ".py",
   "mimetype": "text/x-python",
   "name": "python",
   "nbconvert_exporter": "python",
   "pygments_lexer": "ipython3",
   "version": "3.8.5"
  }
 },
 "nbformat": 4,
 "nbformat_minor": 5
}
