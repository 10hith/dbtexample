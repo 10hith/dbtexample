{
 "cells": [
  {
   "cell_type": "code",
   "execution_count": 1,
   "id": "00867e95-6fbf-44c9-8134-4cad5039e348",
   "metadata": {},
   "outputs": [],
   "source": [
    "from shapely.geometry import Point\n",
    "import geopandas as gpd\n",
    "\n",
    "# df = geopandas.tools.reverse_geocode(  \n",
    "#     [Point(-71.0594869, 42.3584697), Point(-77.0365305, 38.8977332)]\n",
    "# )\n",
    "# df  "
   ]
  },
  {
   "cell_type": "code",
   "execution_count": 2,
   "id": "ed9a5f95-8a27-499f-9596-83482050b31b",
   "metadata": {},
   "outputs": [],
   "source": [
    "df = gpd.tools.reverse_geocode(  \n",
    "    [Point(-71.0594869, 42.3584697), Point(-77.0365305, 38.8977332)]\n",
    ")"
   ]
  },
  {
   "cell_type": "code",
   "execution_count": 3,
   "id": "688d7eff-d1fd-437d-af7a-a4a7cde868bd",
   "metadata": {},
   "outputs": [
    {
     "data": {
      "text/html": [
       "<div>\n",
       "<style scoped>\n",
       "    .dataframe tbody tr th:only-of-type {\n",
       "        vertical-align: middle;\n",
       "    }\n",
       "\n",
       "    .dataframe tbody tr th {\n",
       "        vertical-align: top;\n",
       "    }\n",
       "\n",
       "    .dataframe thead th {\n",
       "        text-align: right;\n",
       "    }\n",
       "</style>\n",
       "<table border=\"1\" class=\"dataframe\">\n",
       "  <thead>\n",
       "    <tr style=\"text-align: right;\">\n",
       "      <th></th>\n",
       "      <th>geometry</th>\n",
       "      <th>address</th>\n",
       "    </tr>\n",
       "  </thead>\n",
       "  <tbody>\n",
       "    <tr>\n",
       "      <th>0</th>\n",
       "      <td>POINT (-71.05977 42.35860)</td>\n",
       "      <td>18-32, Tremont Street, 02108, Tremont Street, ...</td>\n",
       "    </tr>\n",
       "    <tr>\n",
       "      <th>1</th>\n",
       "      <td>POINT (-77.03655 38.89772)</td>\n",
       "      <td>Pennsylvania Avenue Northwest, 20006, Pennsylv...</td>\n",
       "    </tr>\n",
       "  </tbody>\n",
       "</table>\n",
       "</div>"
      ],
      "text/plain": [
       "                     geometry  \\\n",
       "0  POINT (-71.05977 42.35860)   \n",
       "1  POINT (-77.03655 38.89772)   \n",
       "\n",
       "                                             address  \n",
       "0  18-32, Tremont Street, 02108, Tremont Street, ...  \n",
       "1  Pennsylvania Avenue Northwest, 20006, Pennsylv...  "
      ]
     },
     "execution_count": 3,
     "metadata": {},
     "output_type": "execute_result"
    }
   ],
   "source": [
    "df"
   ]
  }
 ],
 "metadata": {
  "kernelspec": {
   "display_name": "Python 3 (ipykernel)",
   "language": "python",
   "name": "python3"
  },
  "language_info": {
   "codemirror_mode": {
    "name": "ipython",
    "version": 3
   },
   "file_extension": ".py",
   "mimetype": "text/x-python",
   "name": "python",
   "nbconvert_exporter": "python",
   "pygments_lexer": "ipython3",
   "version": "3.8.5"
  }
 },
 "nbformat": 4,
 "nbformat_minor": 5
}
